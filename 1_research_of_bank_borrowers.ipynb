{
 "cells": [
  {
   "cell_type": "markdown",
   "id": "4f11de00",
   "metadata": {
    "deletable": false,
    "editable": false,
    "id": "4f11de00"
   },
   "source": [
    "# Исследование надежности заемщиков"
   ]
  },
  {
   "cell_type": "markdown",
   "id": "f09d6878",
   "metadata": {
    "deletable": false,
    "editable": false,
    "id": "f09d6878"
   },
   "source": [
    "Это первая часть проекта, она будет проверена автоматически. Вторую часть проверит ревьюер. "
   ]
  },
  {
   "cell_type": "markdown",
   "id": "516620ee",
   "metadata": {
    "deletable": false,
    "editable": false,
    "id": "516620ee"
   },
   "source": [
    "## Откройте таблицу и изучите общую информацию о данных"
   ]
  },
  {
   "cell_type": "markdown",
   "id": "76a8a9ce",
   "metadata": {
    "deletable": false,
    "editable": false,
    "id": "76a8a9ce",
    "tags": [
     "start_task"
    ]
   },
   "source": [
    "**Задание 1. Импортируйте библиотеку pandas. Считайте данные из csv-файла в датафрейм и сохраните в переменную `data`. Путь к файлу:**\n",
    "\n",
    "`/datasets/data.csv`"
   ]
  },
  {
   "cell_type": "code",
   "execution_count": 1,
   "id": "fab207d0",
   "metadata": {
    "id": "fab207d0"
   },
   "outputs": [],
   "source": [
    "import pandas as pd # импортируйте библиотеку pandas"
   ]
  },
  {
   "cell_type": "code",
   "execution_count": 2,
   "id": "6c82b607",
   "metadata": {
    "id": "6c82b607"
   },
   "outputs": [],
   "source": [
    "data = pd.read_csv('/datasets/data.csv') # прочитайте csv-файл"
   ]
  },
  {
   "cell_type": "markdown",
   "id": "08bbb5b3",
   "metadata": {
    "deletable": false,
    "editable": false,
    "id": "08bbb5b3",
    "tags": [
     "start_task"
    ]
   },
   "source": [
    "**Задание 2. Выведите первые 20 строчек датафрейма `data` на экран.**"
   ]
  },
  {
   "cell_type": "code",
   "execution_count": 3,
   "id": "4ff33b36",
   "metadata": {
    "id": "4ff33b36"
   },
   "outputs": [
    {
     "data": {
      "text/html": [
       "<div>\n",
       "<style scoped>\n",
       "    .dataframe tbody tr th:only-of-type {\n",
       "        vertical-align: middle;\n",
       "    }\n",
       "\n",
       "    .dataframe tbody tr th {\n",
       "        vertical-align: top;\n",
       "    }\n",
       "\n",
       "    .dataframe thead th {\n",
       "        text-align: right;\n",
       "    }\n",
       "</style>\n",
       "<table border=\"1\" class=\"dataframe\">\n",
       "  <thead>\n",
       "    <tr style=\"text-align: right;\">\n",
       "      <th></th>\n",
       "      <th>children</th>\n",
       "      <th>days_employed</th>\n",
       "      <th>dob_years</th>\n",
       "      <th>education</th>\n",
       "      <th>education_id</th>\n",
       "      <th>family_status</th>\n",
       "      <th>family_status_id</th>\n",
       "      <th>gender</th>\n",
       "      <th>income_type</th>\n",
       "      <th>debt</th>\n",
       "      <th>total_income</th>\n",
       "      <th>purpose</th>\n",
       "    </tr>\n",
       "  </thead>\n",
       "  <tbody>\n",
       "    <tr>\n",
       "      <th>0</th>\n",
       "      <td>1</td>\n",
       "      <td>-8437.673028</td>\n",
       "      <td>42</td>\n",
       "      <td>высшее</td>\n",
       "      <td>0</td>\n",
       "      <td>женат / замужем</td>\n",
       "      <td>0</td>\n",
       "      <td>F</td>\n",
       "      <td>сотрудник</td>\n",
       "      <td>0</td>\n",
       "      <td>253875.639453</td>\n",
       "      <td>покупка жилья</td>\n",
       "    </tr>\n",
       "    <tr>\n",
       "      <th>1</th>\n",
       "      <td>1</td>\n",
       "      <td>-4024.803754</td>\n",
       "      <td>36</td>\n",
       "      <td>среднее</td>\n",
       "      <td>1</td>\n",
       "      <td>женат / замужем</td>\n",
       "      <td>0</td>\n",
       "      <td>F</td>\n",
       "      <td>сотрудник</td>\n",
       "      <td>0</td>\n",
       "      <td>112080.014102</td>\n",
       "      <td>приобретение автомобиля</td>\n",
       "    </tr>\n",
       "    <tr>\n",
       "      <th>2</th>\n",
       "      <td>0</td>\n",
       "      <td>-5623.422610</td>\n",
       "      <td>33</td>\n",
       "      <td>Среднее</td>\n",
       "      <td>1</td>\n",
       "      <td>женат / замужем</td>\n",
       "      <td>0</td>\n",
       "      <td>M</td>\n",
       "      <td>сотрудник</td>\n",
       "      <td>0</td>\n",
       "      <td>145885.952297</td>\n",
       "      <td>покупка жилья</td>\n",
       "    </tr>\n",
       "    <tr>\n",
       "      <th>3</th>\n",
       "      <td>3</td>\n",
       "      <td>-4124.747207</td>\n",
       "      <td>32</td>\n",
       "      <td>среднее</td>\n",
       "      <td>1</td>\n",
       "      <td>женат / замужем</td>\n",
       "      <td>0</td>\n",
       "      <td>M</td>\n",
       "      <td>сотрудник</td>\n",
       "      <td>0</td>\n",
       "      <td>267628.550329</td>\n",
       "      <td>дополнительное образование</td>\n",
       "    </tr>\n",
       "    <tr>\n",
       "      <th>4</th>\n",
       "      <td>0</td>\n",
       "      <td>340266.072047</td>\n",
       "      <td>53</td>\n",
       "      <td>среднее</td>\n",
       "      <td>1</td>\n",
       "      <td>гражданский брак</td>\n",
       "      <td>1</td>\n",
       "      <td>F</td>\n",
       "      <td>пенсионер</td>\n",
       "      <td>0</td>\n",
       "      <td>158616.077870</td>\n",
       "      <td>сыграть свадьбу</td>\n",
       "    </tr>\n",
       "    <tr>\n",
       "      <th>5</th>\n",
       "      <td>0</td>\n",
       "      <td>-926.185831</td>\n",
       "      <td>27</td>\n",
       "      <td>высшее</td>\n",
       "      <td>0</td>\n",
       "      <td>гражданский брак</td>\n",
       "      <td>1</td>\n",
       "      <td>M</td>\n",
       "      <td>компаньон</td>\n",
       "      <td>0</td>\n",
       "      <td>255763.565419</td>\n",
       "      <td>покупка жилья</td>\n",
       "    </tr>\n",
       "    <tr>\n",
       "      <th>6</th>\n",
       "      <td>0</td>\n",
       "      <td>-2879.202052</td>\n",
       "      <td>43</td>\n",
       "      <td>высшее</td>\n",
       "      <td>0</td>\n",
       "      <td>женат / замужем</td>\n",
       "      <td>0</td>\n",
       "      <td>F</td>\n",
       "      <td>компаньон</td>\n",
       "      <td>0</td>\n",
       "      <td>240525.971920</td>\n",
       "      <td>операции с жильем</td>\n",
       "    </tr>\n",
       "    <tr>\n",
       "      <th>7</th>\n",
       "      <td>0</td>\n",
       "      <td>-152.779569</td>\n",
       "      <td>50</td>\n",
       "      <td>СРЕДНЕЕ</td>\n",
       "      <td>1</td>\n",
       "      <td>женат / замужем</td>\n",
       "      <td>0</td>\n",
       "      <td>M</td>\n",
       "      <td>сотрудник</td>\n",
       "      <td>0</td>\n",
       "      <td>135823.934197</td>\n",
       "      <td>образование</td>\n",
       "    </tr>\n",
       "    <tr>\n",
       "      <th>8</th>\n",
       "      <td>2</td>\n",
       "      <td>-6929.865299</td>\n",
       "      <td>35</td>\n",
       "      <td>ВЫСШЕЕ</td>\n",
       "      <td>0</td>\n",
       "      <td>гражданский брак</td>\n",
       "      <td>1</td>\n",
       "      <td>F</td>\n",
       "      <td>сотрудник</td>\n",
       "      <td>0</td>\n",
       "      <td>95856.832424</td>\n",
       "      <td>на проведение свадьбы</td>\n",
       "    </tr>\n",
       "    <tr>\n",
       "      <th>9</th>\n",
       "      <td>0</td>\n",
       "      <td>-2188.756445</td>\n",
       "      <td>41</td>\n",
       "      <td>среднее</td>\n",
       "      <td>1</td>\n",
       "      <td>женат / замужем</td>\n",
       "      <td>0</td>\n",
       "      <td>M</td>\n",
       "      <td>сотрудник</td>\n",
       "      <td>0</td>\n",
       "      <td>144425.938277</td>\n",
       "      <td>покупка жилья для семьи</td>\n",
       "    </tr>\n",
       "    <tr>\n",
       "      <th>10</th>\n",
       "      <td>2</td>\n",
       "      <td>-4171.483647</td>\n",
       "      <td>36</td>\n",
       "      <td>высшее</td>\n",
       "      <td>0</td>\n",
       "      <td>женат / замужем</td>\n",
       "      <td>0</td>\n",
       "      <td>M</td>\n",
       "      <td>компаньон</td>\n",
       "      <td>0</td>\n",
       "      <td>113943.491460</td>\n",
       "      <td>покупка недвижимости</td>\n",
       "    </tr>\n",
       "    <tr>\n",
       "      <th>11</th>\n",
       "      <td>0</td>\n",
       "      <td>-792.701887</td>\n",
       "      <td>40</td>\n",
       "      <td>среднее</td>\n",
       "      <td>1</td>\n",
       "      <td>женат / замужем</td>\n",
       "      <td>0</td>\n",
       "      <td>F</td>\n",
       "      <td>сотрудник</td>\n",
       "      <td>0</td>\n",
       "      <td>77069.234271</td>\n",
       "      <td>покупка коммерческой недвижимости</td>\n",
       "    </tr>\n",
       "    <tr>\n",
       "      <th>12</th>\n",
       "      <td>0</td>\n",
       "      <td>NaN</td>\n",
       "      <td>65</td>\n",
       "      <td>среднее</td>\n",
       "      <td>1</td>\n",
       "      <td>гражданский брак</td>\n",
       "      <td>1</td>\n",
       "      <td>M</td>\n",
       "      <td>пенсионер</td>\n",
       "      <td>0</td>\n",
       "      <td>NaN</td>\n",
       "      <td>сыграть свадьбу</td>\n",
       "    </tr>\n",
       "    <tr>\n",
       "      <th>13</th>\n",
       "      <td>0</td>\n",
       "      <td>-1846.641941</td>\n",
       "      <td>54</td>\n",
       "      <td>неоконченное высшее</td>\n",
       "      <td>2</td>\n",
       "      <td>женат / замужем</td>\n",
       "      <td>0</td>\n",
       "      <td>F</td>\n",
       "      <td>сотрудник</td>\n",
       "      <td>0</td>\n",
       "      <td>130458.228857</td>\n",
       "      <td>приобретение автомобиля</td>\n",
       "    </tr>\n",
       "    <tr>\n",
       "      <th>14</th>\n",
       "      <td>0</td>\n",
       "      <td>-1844.956182</td>\n",
       "      <td>56</td>\n",
       "      <td>высшее</td>\n",
       "      <td>0</td>\n",
       "      <td>гражданский брак</td>\n",
       "      <td>1</td>\n",
       "      <td>F</td>\n",
       "      <td>компаньон</td>\n",
       "      <td>1</td>\n",
       "      <td>165127.911772</td>\n",
       "      <td>покупка жилой недвижимости</td>\n",
       "    </tr>\n",
       "    <tr>\n",
       "      <th>15</th>\n",
       "      <td>1</td>\n",
       "      <td>-972.364419</td>\n",
       "      <td>26</td>\n",
       "      <td>среднее</td>\n",
       "      <td>1</td>\n",
       "      <td>женат / замужем</td>\n",
       "      <td>0</td>\n",
       "      <td>F</td>\n",
       "      <td>сотрудник</td>\n",
       "      <td>0</td>\n",
       "      <td>116820.904450</td>\n",
       "      <td>строительство собственной недвижимости</td>\n",
       "    </tr>\n",
       "    <tr>\n",
       "      <th>16</th>\n",
       "      <td>0</td>\n",
       "      <td>-1719.934226</td>\n",
       "      <td>35</td>\n",
       "      <td>среднее</td>\n",
       "      <td>1</td>\n",
       "      <td>женат / замужем</td>\n",
       "      <td>0</td>\n",
       "      <td>F</td>\n",
       "      <td>сотрудник</td>\n",
       "      <td>0</td>\n",
       "      <td>289202.704229</td>\n",
       "      <td>недвижимость</td>\n",
       "    </tr>\n",
       "    <tr>\n",
       "      <th>17</th>\n",
       "      <td>0</td>\n",
       "      <td>-2369.999720</td>\n",
       "      <td>33</td>\n",
       "      <td>высшее</td>\n",
       "      <td>0</td>\n",
       "      <td>гражданский брак</td>\n",
       "      <td>1</td>\n",
       "      <td>M</td>\n",
       "      <td>сотрудник</td>\n",
       "      <td>0</td>\n",
       "      <td>90410.586745</td>\n",
       "      <td>строительство недвижимости</td>\n",
       "    </tr>\n",
       "    <tr>\n",
       "      <th>18</th>\n",
       "      <td>0</td>\n",
       "      <td>400281.136913</td>\n",
       "      <td>53</td>\n",
       "      <td>среднее</td>\n",
       "      <td>1</td>\n",
       "      <td>вдовец / вдова</td>\n",
       "      <td>2</td>\n",
       "      <td>F</td>\n",
       "      <td>пенсионер</td>\n",
       "      <td>0</td>\n",
       "      <td>56823.777243</td>\n",
       "      <td>на покупку подержанного автомобиля</td>\n",
       "    </tr>\n",
       "    <tr>\n",
       "      <th>19</th>\n",
       "      <td>0</td>\n",
       "      <td>-10038.818549</td>\n",
       "      <td>48</td>\n",
       "      <td>СРЕДНЕЕ</td>\n",
       "      <td>1</td>\n",
       "      <td>в разводе</td>\n",
       "      <td>3</td>\n",
       "      <td>F</td>\n",
       "      <td>сотрудник</td>\n",
       "      <td>0</td>\n",
       "      <td>242831.107982</td>\n",
       "      <td>на покупку своего автомобиля</td>\n",
       "    </tr>\n",
       "  </tbody>\n",
       "</table>\n",
       "</div>"
      ],
      "text/plain": [
       "    children  days_employed  dob_years            education  education_id  \\\n",
       "0          1   -8437.673028         42               высшее             0   \n",
       "1          1   -4024.803754         36              среднее             1   \n",
       "2          0   -5623.422610         33              Среднее             1   \n",
       "3          3   -4124.747207         32              среднее             1   \n",
       "4          0  340266.072047         53              среднее             1   \n",
       "5          0    -926.185831         27               высшее             0   \n",
       "6          0   -2879.202052         43               высшее             0   \n",
       "7          0    -152.779569         50              СРЕДНЕЕ             1   \n",
       "8          2   -6929.865299         35               ВЫСШЕЕ             0   \n",
       "9          0   -2188.756445         41              среднее             1   \n",
       "10         2   -4171.483647         36               высшее             0   \n",
       "11         0    -792.701887         40              среднее             1   \n",
       "12         0            NaN         65              среднее             1   \n",
       "13         0   -1846.641941         54  неоконченное высшее             2   \n",
       "14         0   -1844.956182         56               высшее             0   \n",
       "15         1    -972.364419         26              среднее             1   \n",
       "16         0   -1719.934226         35              среднее             1   \n",
       "17         0   -2369.999720         33               высшее             0   \n",
       "18         0  400281.136913         53              среднее             1   \n",
       "19         0  -10038.818549         48              СРЕДНЕЕ             1   \n",
       "\n",
       "       family_status  family_status_id gender income_type  debt  \\\n",
       "0    женат / замужем                 0      F   сотрудник     0   \n",
       "1    женат / замужем                 0      F   сотрудник     0   \n",
       "2    женат / замужем                 0      M   сотрудник     0   \n",
       "3    женат / замужем                 0      M   сотрудник     0   \n",
       "4   гражданский брак                 1      F   пенсионер     0   \n",
       "5   гражданский брак                 1      M   компаньон     0   \n",
       "6    женат / замужем                 0      F   компаньон     0   \n",
       "7    женат / замужем                 0      M   сотрудник     0   \n",
       "8   гражданский брак                 1      F   сотрудник     0   \n",
       "9    женат / замужем                 0      M   сотрудник     0   \n",
       "10   женат / замужем                 0      M   компаньон     0   \n",
       "11   женат / замужем                 0      F   сотрудник     0   \n",
       "12  гражданский брак                 1      M   пенсионер     0   \n",
       "13   женат / замужем                 0      F   сотрудник     0   \n",
       "14  гражданский брак                 1      F   компаньон     1   \n",
       "15   женат / замужем                 0      F   сотрудник     0   \n",
       "16   женат / замужем                 0      F   сотрудник     0   \n",
       "17  гражданский брак                 1      M   сотрудник     0   \n",
       "18    вдовец / вдова                 2      F   пенсионер     0   \n",
       "19         в разводе                 3      F   сотрудник     0   \n",
       "\n",
       "     total_income                                 purpose  \n",
       "0   253875.639453                           покупка жилья  \n",
       "1   112080.014102                 приобретение автомобиля  \n",
       "2   145885.952297                           покупка жилья  \n",
       "3   267628.550329              дополнительное образование  \n",
       "4   158616.077870                         сыграть свадьбу  \n",
       "5   255763.565419                           покупка жилья  \n",
       "6   240525.971920                       операции с жильем  \n",
       "7   135823.934197                             образование  \n",
       "8    95856.832424                   на проведение свадьбы  \n",
       "9   144425.938277                 покупка жилья для семьи  \n",
       "10  113943.491460                    покупка недвижимости  \n",
       "11   77069.234271       покупка коммерческой недвижимости  \n",
       "12            NaN                         сыграть свадьбу  \n",
       "13  130458.228857                 приобретение автомобиля  \n",
       "14  165127.911772              покупка жилой недвижимости  \n",
       "15  116820.904450  строительство собственной недвижимости  \n",
       "16  289202.704229                            недвижимость  \n",
       "17   90410.586745              строительство недвижимости  \n",
       "18   56823.777243      на покупку подержанного автомобиля  \n",
       "19  242831.107982            на покупку своего автомобиля  "
      ]
     },
     "execution_count": 3,
     "metadata": {},
     "output_type": "execute_result"
    }
   ],
   "source": [
    "data.head(20) # ваш код здесь"
   ]
  },
  {
   "cell_type": "markdown",
   "id": "c8f382ae",
   "metadata": {
    "deletable": false,
    "editable": false,
    "id": "c8f382ae",
    "tags": [
     "start_task"
    ]
   },
   "source": [
    "**Задание 3. Выведите основную информацию о датафрейме с помощью метода `info()`.**"
   ]
  },
  {
   "cell_type": "code",
   "execution_count": 4,
   "id": "e1ed9908",
   "metadata": {
    "id": "e1ed9908"
   },
   "outputs": [
    {
     "name": "stdout",
     "output_type": "stream",
     "text": [
      "<class 'pandas.core.frame.DataFrame'>\n",
      "RangeIndex: 21525 entries, 0 to 21524\n",
      "Data columns (total 12 columns):\n",
      " #   Column            Non-Null Count  Dtype  \n",
      "---  ------            --------------  -----  \n",
      " 0   children          21525 non-null  int64  \n",
      " 1   days_employed     19351 non-null  float64\n",
      " 2   dob_years         21525 non-null  int64  \n",
      " 3   education         21525 non-null  object \n",
      " 4   education_id      21525 non-null  int64  \n",
      " 5   family_status     21525 non-null  object \n",
      " 6   family_status_id  21525 non-null  int64  \n",
      " 7   gender            21525 non-null  object \n",
      " 8   income_type       21525 non-null  object \n",
      " 9   debt              21525 non-null  int64  \n",
      " 10  total_income      19351 non-null  float64\n",
      " 11  purpose           21525 non-null  object \n",
      "dtypes: float64(2), int64(5), object(5)\n",
      "memory usage: 2.0+ MB\n"
     ]
    }
   ],
   "source": [
    "data.info() # ваш код здесь"
   ]
  },
  {
   "cell_type": "markdown",
   "id": "f969a1cd",
   "metadata": {
    "deletable": false,
    "editable": false,
    "id": "f969a1cd"
   },
   "source": [
    "## Предобработка данных"
   ]
  },
  {
   "cell_type": "markdown",
   "id": "7283e864",
   "metadata": {
    "deletable": false,
    "editable": false,
    "id": "7283e864"
   },
   "source": [
    "### Удаление пропусков"
   ]
  },
  {
   "cell_type": "markdown",
   "id": "c9a0745e",
   "metadata": {
    "deletable": false,
    "editable": false,
    "id": "c9a0745e",
    "tags": [
     "start_task"
    ]
   },
   "source": [
    "**Задание 4. Выведите количество пропущенных значений для каждого столбца. Используйте комбинацию двух методов.**"
   ]
  },
  {
   "cell_type": "code",
   "execution_count": 5,
   "id": "b7a096e1",
   "metadata": {
    "id": "b7a096e1"
   },
   "outputs": [
    {
     "data": {
      "text/plain": [
       "children               0\n",
       "days_employed       2174\n",
       "dob_years              0\n",
       "education              0\n",
       "education_id           0\n",
       "family_status          0\n",
       "family_status_id       0\n",
       "gender                 0\n",
       "income_type            0\n",
       "debt                   0\n",
       "total_income        2174\n",
       "purpose                0\n",
       "dtype: int64"
      ]
     },
     "execution_count": 5,
     "metadata": {},
     "output_type": "execute_result"
    }
   ],
   "source": [
    "data.isna().sum() # ваш код здесь"
   ]
  },
  {
   "cell_type": "markdown",
   "id": "c2578616",
   "metadata": {
    "deletable": false,
    "editable": false,
    "id": "c2578616",
    "tags": [
     "start_task"
    ]
   },
   "source": [
    "**Задание 5. В двух столбцах есть пропущенные значения. Один из них — `days_employed`. Пропуски в этом столбце вы обработаете на следующем этапе. Другой столбец с пропущенными значениями — `total_income` — хранит данные о доходах. На сумму дохода сильнее всего влияет тип занятости, поэтому заполнить пропуски в этом столбце нужно медианным значением по каждому типу из столбца `income_type`. Например, у человека с типом занятости `сотрудник` пропуск в столбце `total_income` должен быть заполнен медианным доходом среди всех записей с тем же типом.**"
   ]
  },
  {
   "cell_type": "code",
   "execution_count": 6,
   "id": "e8afc4bc",
   "metadata": {
    "id": "e8afc4bc"
   },
   "outputs": [],
   "source": [
    "for d in data['income_type'].unique():\n",
    "    data.loc[(data['income_type'] == d) & (data['total_income'].isna()), 'total_income'] = \\\n",
    "    data.loc[(data['income_type'] == d), 'total_income'].median() # ваш код здесь"
   ]
  },
  {
   "cell_type": "markdown",
   "id": "ae986d46",
   "metadata": {
    "deletable": false,
    "editable": false,
    "id": "ae986d46"
   },
   "source": [
    "### Обработка аномальных значений"
   ]
  },
  {
   "cell_type": "markdown",
   "id": "b049cbae",
   "metadata": {
    "deletable": false,
    "editable": false,
    "id": "b049cbae",
    "tags": [
     "start_task"
    ]
   },
   "source": [
    "**Задание 6. В данных могут встречаться артефакты (аномалии) — значения, которые не отражают действительность и появились по какой-то ошибке. Таким артефактом будет отрицательное количество дней трудового стажа в столбце `days_employed`. Для реальных данных это нормально. Обработайте значения в этом столбце: замените все отрицательные значения положительными с помощью метода `abs()`.**"
   ]
  },
  {
   "cell_type": "code",
   "execution_count": 7,
   "id": "187779b0",
   "metadata": {
    "id": "187779b0"
   },
   "outputs": [],
   "source": [
    "data['days_employed'] = data['days_employed'].abs() # ваш код здесь"
   ]
  },
  {
   "cell_type": "markdown",
   "id": "a13054c2",
   "metadata": {
    "deletable": false,
    "editable": false,
    "id": "a13054c2",
    "tags": [
     "start_task"
    ]
   },
   "source": [
    "**Задание 7. Для каждого типа занятости выведите медианное значение трудового стажа `days_employed` в днях.**"
   ]
  },
  {
   "cell_type": "code",
   "execution_count": 8,
   "id": "f3f5810c",
   "metadata": {
    "id": "f3f5810c"
   },
   "outputs": [
    {
     "data": {
      "text/plain": [
       "income_type\n",
       "безработный        366413.652744\n",
       "в декрете            3296.759962\n",
       "госслужащий          2689.368353\n",
       "компаньон            1547.382223\n",
       "пенсионер          365213.306266\n",
       "предприниматель       520.848083\n",
       "сотрудник            1574.202821\n",
       "студент               578.751554\n",
       "Name: days_employed, dtype: float64"
      ]
     },
     "execution_count": 8,
     "metadata": {},
     "output_type": "execute_result"
    }
   ],
   "source": [
    "data.groupby('income_type')['days_employed'].agg('median') # ваш код здесь"
   ]
  },
  {
   "cell_type": "markdown",
   "id": "dbc3168c",
   "metadata": {
    "deletable": false,
    "editable": false,
    "id": "dbc3168c"
   },
   "source": [
    "У двух типов (безработные и пенсионеры) получатся аномально большие значения. Исправить такие значения сложно, поэтому оставьте их как есть."
   ]
  },
  {
   "cell_type": "markdown",
   "id": "ff4378c2",
   "metadata": {
    "deletable": false,
    "editable": false,
    "id": "ff4378c2",
    "tags": [
     "start_task"
    ]
   },
   "source": [
    "**Задание 8. Выведите перечень уникальных значений столбца `children`.**"
   ]
  },
  {
   "cell_type": "code",
   "execution_count": 9,
   "id": "9bd0c232",
   "metadata": {
    "id": "9bd0c232"
   },
   "outputs": [
    {
     "name": "stdout",
     "output_type": "stream",
     "text": [
      "[ 1  0  3  2 -1  4 20  5]\n"
     ]
    }
   ],
   "source": [
    "print(data['children'].unique()) # ваш код здесь"
   ]
  },
  {
   "cell_type": "markdown",
   "id": "8e911990",
   "metadata": {
    "deletable": false,
    "editable": false,
    "id": "8e911990",
    "tags": [
     "start_task"
    ]
   },
   "source": [
    "**Задание 9. В столбце `children` есть два аномальных значения. Удалите строки, в которых встречаются такие аномальные значения из датафрейма `data`.**"
   ]
  },
  {
   "cell_type": "code",
   "execution_count": 10,
   "id": "6d5ba289",
   "metadata": {
    "id": "6d5ba289"
   },
   "outputs": [],
   "source": [
    "data = data[(data['children'] < 18) & (data['children']  >= 0)] # ваш код здесь"
   ]
  },
  {
   "cell_type": "markdown",
   "id": "18d77455",
   "metadata": {
    "deletable": false,
    "editable": false,
    "id": "18d77455",
    "tags": [
     "start_task"
    ]
   },
   "source": [
    "**Задание 10. Ещё раз выведите перечень уникальных значений столбца `children`, чтобы убедиться, что артефакты удалены.**"
   ]
  },
  {
   "cell_type": "code",
   "execution_count": 11,
   "id": "2c5fa92c",
   "metadata": {
    "id": "2c5fa92c"
   },
   "outputs": [
    {
     "name": "stdout",
     "output_type": "stream",
     "text": [
      "[1 0 3 2 4 5]\n"
     ]
    }
   ],
   "source": [
    "print(data['children'].unique())# ваш код здесь"
   ]
  },
  {
   "cell_type": "markdown",
   "id": "0ec07dee",
   "metadata": {
    "deletable": false,
    "editable": false,
    "id": "0ec07dee"
   },
   "source": [
    "### Удаление пропусков (продолжение)"
   ]
  },
  {
   "cell_type": "markdown",
   "id": "0fc3ae3f",
   "metadata": {
    "deletable": false,
    "editable": false,
    "id": "0fc3ae3f",
    "tags": [
     "start_task"
    ]
   },
   "source": [
    "**Задание 11. Заполните пропуски в столбце `days_employed` медианными значениями по каждому типу занятости `income_type`.**"
   ]
  },
  {
   "cell_type": "code",
   "execution_count": 12,
   "id": "e2aea7ac",
   "metadata": {
    "id": "e2aea7ac"
   },
   "outputs": [],
   "source": [
    "for d in data['income_type'].unique():\n",
    "    data.loc[(data['income_type'] == d) & (data['days_employed'].isna()), 'days_employed'] = \\\n",
    "    data.loc[(data['income_type'] == d), 'days_employed'].median() # ваш код здесь"
   ]
  },
  {
   "cell_type": "markdown",
   "id": "97b0b795",
   "metadata": {
    "deletable": false,
    "editable": false,
    "id": "97b0b795",
    "tags": [
     "start_task"
    ]
   },
   "source": [
    "**Задание 12. Убедитесь, что все пропуски заполнены. Проверьте себя и ещё раз выведите количество пропущенных значений для каждого столбца с помощью двух методов.**"
   ]
  },
  {
   "cell_type": "code",
   "execution_count": 13,
   "id": "79632a21",
   "metadata": {
    "id": "79632a21"
   },
   "outputs": [
    {
     "data": {
      "text/plain": [
       "children            0\n",
       "days_employed       0\n",
       "dob_years           0\n",
       "education           0\n",
       "education_id        0\n",
       "family_status       0\n",
       "family_status_id    0\n",
       "gender              0\n",
       "income_type         0\n",
       "debt                0\n",
       "total_income        0\n",
       "purpose             0\n",
       "dtype: int64"
      ]
     },
     "execution_count": 13,
     "metadata": {},
     "output_type": "execute_result"
    }
   ],
   "source": [
    "data.isna().sum() # ваш код здесь"
   ]
  },
  {
   "cell_type": "markdown",
   "id": "bd4aeb20",
   "metadata": {
    "deletable": false,
    "editable": false,
    "id": "bd4aeb20"
   },
   "source": [
    "### Изменение типов данных"
   ]
  },
  {
   "cell_type": "markdown",
   "id": "963bfa58",
   "metadata": {
    "deletable": false,
    "editable": false,
    "id": "963bfa58",
    "tags": [
     "start_task"
    ]
   },
   "source": [
    "**Задание 13. Замените вещественный тип данных в столбце `total_income` на целочисленный с помощью метода `astype()`.**"
   ]
  },
  {
   "cell_type": "code",
   "execution_count": 14,
   "id": "73da6ea0",
   "metadata": {
    "id": "73da6ea0"
   },
   "outputs": [],
   "source": [
    "data['total_income'] = data['total_income'].astype(int) # ваш код здесь"
   ]
  },
  {
   "cell_type": "markdown",
   "id": "d290239e",
   "metadata": {
    "deletable": false,
    "editable": false,
    "id": "d290239e"
   },
   "source": [
    "### Обработка дубликатов"
   ]
  },
  {
   "cell_type": "markdown",
   "id": "1b5844fd",
   "metadata": {
    "deletable": false,
    "editable": false,
    "id": "1b5844fd",
    "tags": [
     "start_task"
    ]
   },
   "source": [
    "**Задание 14. Обработайте неявные дубликаты в столбце `education`. В этом столбце есть одни и те же значения, но записанные по-разному: с использованием заглавных и строчных букв. Приведите их к нижнему регистру.**"
   ]
  },
  {
   "cell_type": "code",
   "execution_count": 15,
   "id": "3f2504b3",
   "metadata": {
    "id": "3f2504b3"
   },
   "outputs": [],
   "source": [
    "data['education'] = data['education'].str.lower()\n",
    "# ваш код здесь"
   ]
  },
  {
   "cell_type": "markdown",
   "id": "4c22acbc",
   "metadata": {
    "deletable": false,
    "editable": false,
    "id": "4c22acbc",
    "tags": [
     "start_task"
    ]
   },
   "source": [
    "**Задание 15. Выведите на экран количество строк-дубликатов в данных. Если такие строки присутствуют, удалите их.**"
   ]
  },
  {
   "cell_type": "code",
   "execution_count": 16,
   "id": "d34a4325",
   "metadata": {
    "id": "d34a4325"
   },
   "outputs": [
    {
     "data": {
      "text/plain": [
       "71"
      ]
     },
     "execution_count": 16,
     "metadata": {},
     "output_type": "execute_result"
    }
   ],
   "source": [
    "data.duplicated().sum() # посчитайте дубликаты"
   ]
  },
  {
   "cell_type": "code",
   "execution_count": 17,
   "id": "6e1a6499",
   "metadata": {
    "id": "6e1a6499"
   },
   "outputs": [],
   "source": [
    "data = data.drop_duplicates() # удалите дубликаты"
   ]
  },
  {
   "cell_type": "markdown",
   "id": "e5686ccc",
   "metadata": {
    "deletable": false,
    "editable": false,
    "id": "e5686ccc"
   },
   "source": [
    "### Категоризация данных"
   ]
  },
  {
   "cell_type": "markdown",
   "id": "636e9acd",
   "metadata": {
    "deletable": false,
    "editable": false,
    "id": "636e9acd",
    "tags": [
     "start_task"
    ]
   },
   "source": [
    "**Задание 16. На основании диапазонов, указанных ниже, создайте в датафрейме `data` столбец `total_income_category` с категориями:**\n",
    "\n",
    "- 0–30000 — `'E'`;\n",
    "- 30001–50000 — `'D'`;\n",
    "- 50001–200000 — `'C'`;\n",
    "- 200001–1000000 — `'B'`;\n",
    "- 1000001 и выше — `'A'`.\n",
    "\n",
    "\n",
    "**Например, кредитополучателю с доходом 25000 нужно назначить категорию `'E'`, а клиенту, получающему 235000, — `'B'`. Используйте собственную функцию с именем `categorize_income()` и метод `apply()`.**"
   ]
  },
  {
   "cell_type": "code",
   "execution_count": 18,
   "id": "880a77e5",
   "metadata": {
    "id": "880a77e5"
   },
   "outputs": [],
   "source": [
    "def categorize_income(row):\n",
    "    income = row['total_income']\n",
    "    if income > 1000000:  \n",
    "        return 'A'\n",
    "    if 200001 <= income <= 1000000:\n",
    "        return 'B'\n",
    "    if 50001 <= income <= 200000:\n",
    "        return 'C'\n",
    "    if 30001 <= income <= 50000:\n",
    "        return 'D'\n",
    "    return 'E'\n",
    "# создайте функцию categorize_income()"
   ]
  },
  {
   "cell_type": "code",
   "execution_count": 19,
   "id": "6f25f161",
   "metadata": {
    "id": "6f25f161"
   },
   "outputs": [],
   "source": [
    "data['total_income_category'] = data.apply(categorize_income, axis=1) # примените функцию методом apply()"
   ]
  },
  {
   "cell_type": "markdown",
   "id": "3363b685",
   "metadata": {
    "deletable": false,
    "editable": false,
    "id": "3363b685",
    "tags": [
     "start_task"
    ]
   },
   "source": [
    "**Задание 17. Выведите на экран перечень уникальных целей взятия кредита из столбца `purpose`.**"
   ]
  },
  {
   "cell_type": "code",
   "execution_count": 20,
   "id": "e59f2c15",
   "metadata": {
    "id": "e59f2c15"
   },
   "outputs": [
    {
     "data": {
      "text/plain": [
       "array(['покупка жилья', 'приобретение автомобиля',\n",
       "       'дополнительное образование', 'сыграть свадьбу',\n",
       "       'операции с жильем', 'образование', 'на проведение свадьбы',\n",
       "       'покупка жилья для семьи', 'покупка недвижимости',\n",
       "       'покупка коммерческой недвижимости', 'покупка жилой недвижимости',\n",
       "       'строительство собственной недвижимости', 'недвижимость',\n",
       "       'строительство недвижимости', 'на покупку подержанного автомобиля',\n",
       "       'на покупку своего автомобиля',\n",
       "       'операции с коммерческой недвижимостью',\n",
       "       'строительство жилой недвижимости', 'жилье',\n",
       "       'операции со своей недвижимостью', 'автомобили',\n",
       "       'заняться образованием', 'сделка с подержанным автомобилем',\n",
       "       'получение образования', 'автомобиль', 'свадьба',\n",
       "       'получение дополнительного образования', 'покупка своего жилья',\n",
       "       'операции с недвижимостью', 'получение высшего образования',\n",
       "       'свой автомобиль', 'сделка с автомобилем',\n",
       "       'профильное образование', 'высшее образование',\n",
       "       'покупка жилья для сдачи', 'на покупку автомобиля', 'ремонт жилью',\n",
       "       'заняться высшим образованием'], dtype=object)"
      ]
     },
     "execution_count": 20,
     "metadata": {},
     "output_type": "execute_result"
    }
   ],
   "source": [
    "data['purpose'].unique() # ваш код здесь"
   ]
  },
  {
   "cell_type": "markdown",
   "id": "bb33e847",
   "metadata": {
    "deletable": false,
    "editable": false,
    "id": "bb33e847",
    "tags": [
     "start_task"
    ]
   },
   "source": [
    "**Задание 18. Создайте функцию, которая на основании данных из столбца `purpose` сформирует новый столбец `purpose_category`, в который войдут следующие категории:**\n",
    "\n",
    "- `'операции с автомобилем'`,\n",
    "- `'операции с недвижимостью'`,\n",
    "- `'проведение свадьбы'`,\n",
    "- `'получение образования'`.\n",
    "\n",
    "**Например, если в столбце `purpose` находится подстрока `'на покупку автомобиля'`, то в столбце `purpose_category` должна появиться строка `'операции с автомобилем'`.**\n",
    "\n",
    "**Используйте собственную функцию с именем `categorize_purpose()` и метод `apply()`. Изучите данные в столбце `purpose` и определите, какие подстроки помогут вам правильно определить категорию.**"
   ]
  },
  {
   "cell_type": "code",
   "execution_count": 21,
   "id": "63909b83",
   "metadata": {
    "id": "63909b83"
   },
   "outputs": [],
   "source": [
    "def categorize_purpose(row):\n",
    "    purpose_category = row['purpose']\n",
    "    try:\n",
    "        if 'авто' in  purpose_category:\n",
    "            return 'операции с автомобилем'\n",
    "        elif 'жил'in purpose_category or 'недв' in  purpose_category:\n",
    "            return 'операции с недвижимостью'\n",
    "        elif 'свад' in  purpose_category:\n",
    "            return 'проведение свадьбы'\n",
    "        elif 'образ' in  purpose_category:\n",
    "            return 'получение образования'\n",
    "    except:\n",
    "        return 'категория не определена'\n"
   ]
  },
  {
   "cell_type": "code",
   "execution_count": 22,
   "id": "7cb4a81d",
   "metadata": {
    "id": "7cb4a81d"
   },
   "outputs": [],
   "source": [
    "data['purpose_category'] = data.apply(categorize_purpose, axis=1) # "
   ]
  },
  {
   "cell_type": "code",
   "execution_count": 23,
   "id": "69c9d6a5",
   "metadata": {},
   "outputs": [
    {
     "name": "stdout",
     "output_type": "stream",
     "text": [
      "0        категория не определена\n",
      "1         операции с автомобилем\n",
      "2        категория не определена\n",
      "3        категория не определена\n",
      "4        категория не определена\n",
      "                  ...           \n",
      "21520    категория не определена\n",
      "21521     операции с автомобилем\n",
      "21522    категория не определена\n",
      "21523     операции с автомобилем\n",
      "21524     операции с автомобилем\n",
      "Name: purpose_category, Length: 21331, dtype: object\n"
     ]
    }
   ],
   "source": [
    "print(data['purpose_category'])"
   ]
  },
  {
   "cell_type": "code",
   "execution_count": null,
   "id": "ab2ab6c5",
   "metadata": {},
   "outputs": [],
   "source": []
  }
 ],
 "metadata": {
  "ExecuteTimeLog": [
   {
    "duration": 418,
    "start_time": "2024-03-24T15:09:18.449Z"
   },
   {
    "duration": 274,
    "start_time": "2024-03-24T15:09:20.383Z"
   },
   {
    "duration": 19,
    "start_time": "2024-03-24T15:09:43.288Z"
   },
   {
    "duration": 24,
    "start_time": "2024-03-24T15:10:01.545Z"
   },
   {
    "duration": 12,
    "start_time": "2024-03-24T15:21:01.195Z"
   },
   {
    "duration": 34,
    "start_time": "2024-03-24T15:34:06.854Z"
   },
   {
    "duration": 33,
    "start_time": "2024-03-24T15:39:59.577Z"
   },
   {
    "duration": 339,
    "start_time": "2024-03-24T15:40:08.814Z"
   },
   {
    "duration": 78,
    "start_time": "2024-03-24T15:40:09.154Z"
   },
   {
    "duration": 19,
    "start_time": "2024-03-24T15:40:09.234Z"
   },
   {
    "duration": 16,
    "start_time": "2024-03-24T15:40:09.254Z"
   },
   {
    "duration": 9,
    "start_time": "2024-03-24T15:40:09.272Z"
   },
   {
    "duration": 34,
    "start_time": "2024-03-24T15:40:09.283Z"
   },
   {
    "duration": 67,
    "start_time": "2024-03-24T15:40:09.318Z"
   },
   {
    "duration": 0,
    "start_time": "2024-03-24T15:40:09.387Z"
   },
   {
    "duration": 0,
    "start_time": "2024-03-24T15:40:09.388Z"
   },
   {
    "duration": 0,
    "start_time": "2024-03-24T15:40:09.389Z"
   },
   {
    "duration": 0,
    "start_time": "2024-03-24T15:40:09.391Z"
   },
   {
    "duration": 0,
    "start_time": "2024-03-24T15:40:09.392Z"
   },
   {
    "duration": 0,
    "start_time": "2024-03-24T15:40:09.393Z"
   },
   {
    "duration": 0,
    "start_time": "2024-03-24T15:40:09.394Z"
   },
   {
    "duration": 0,
    "start_time": "2024-03-24T15:40:09.395Z"
   },
   {
    "duration": 0,
    "start_time": "2024-03-24T15:40:09.395Z"
   },
   {
    "duration": 0,
    "start_time": "2024-03-24T15:40:09.396Z"
   },
   {
    "duration": 0,
    "start_time": "2024-03-24T15:40:09.397Z"
   },
   {
    "duration": 0,
    "start_time": "2024-03-24T15:40:09.398Z"
   },
   {
    "duration": 0,
    "start_time": "2024-03-24T15:40:09.399Z"
   },
   {
    "duration": 0,
    "start_time": "2024-03-24T15:40:09.400Z"
   },
   {
    "duration": 0,
    "start_time": "2024-03-24T15:40:09.400Z"
   },
   {
    "duration": 3,
    "start_time": "2024-03-24T15:40:47.803Z"
   },
   {
    "duration": 59,
    "start_time": "2024-03-24T15:56:03.766Z"
   },
   {
    "duration": 8,
    "start_time": "2024-03-24T15:56:39.465Z"
   },
   {
    "duration": 20,
    "start_time": "2024-03-24T15:57:04.376Z"
   },
   {
    "duration": 9,
    "start_time": "2024-03-24T15:59:05.252Z"
   },
   {
    "duration": 3,
    "start_time": "2024-03-24T16:04:29.943Z"
   },
   {
    "duration": 11,
    "start_time": "2024-03-24T16:13:29.277Z"
   },
   {
    "duration": 19,
    "start_time": "2024-03-24T16:13:42.503Z"
   },
   {
    "duration": 11,
    "start_time": "2024-03-24T16:13:47.892Z"
   },
   {
    "duration": 8,
    "start_time": "2024-03-24T16:14:34.573Z"
   },
   {
    "duration": 351,
    "start_time": "2024-03-24T16:14:51.211Z"
   },
   {
    "duration": 75,
    "start_time": "2024-03-24T16:14:51.564Z"
   },
   {
    "duration": 19,
    "start_time": "2024-03-24T16:14:51.641Z"
   },
   {
    "duration": 15,
    "start_time": "2024-03-24T16:14:51.662Z"
   },
   {
    "duration": 14,
    "start_time": "2024-03-24T16:14:51.678Z"
   },
   {
    "duration": 67,
    "start_time": "2024-03-24T16:14:51.693Z"
   },
   {
    "duration": 3,
    "start_time": "2024-03-24T16:14:51.761Z"
   },
   {
    "duration": 40,
    "start_time": "2024-03-24T16:14:51.766Z"
   },
   {
    "duration": 12,
    "start_time": "2024-03-24T16:14:51.807Z"
   },
   {
    "duration": 11,
    "start_time": "2024-03-24T16:14:51.820Z"
   },
   {
    "duration": 9,
    "start_time": "2024-03-24T16:14:51.833Z"
   },
   {
    "duration": 8,
    "start_time": "2024-03-24T16:14:51.843Z"
   },
   {
    "duration": 18,
    "start_time": "2024-03-24T16:14:51.853Z"
   },
   {
    "duration": 27,
    "start_time": "2024-03-24T16:14:51.873Z"
   },
   {
    "duration": 16,
    "start_time": "2024-03-24T16:14:51.902Z"
   },
   {
    "duration": 24,
    "start_time": "2024-03-24T16:14:51.919Z"
   },
   {
    "duration": 11,
    "start_time": "2024-03-24T16:14:51.944Z"
   },
   {
    "duration": 56,
    "start_time": "2024-03-24T16:14:51.957Z"
   },
   {
    "duration": 10,
    "start_time": "2024-03-24T16:14:52.015Z"
   },
   {
    "duration": 25,
    "start_time": "2024-03-24T16:14:52.026Z"
   },
   {
    "duration": 19,
    "start_time": "2024-03-24T16:14:52.052Z"
   },
   {
    "duration": 30,
    "start_time": "2024-03-24T16:14:52.073Z"
   },
   {
    "duration": 356,
    "start_time": "2024-03-24T16:17:59.208Z"
   },
   {
    "duration": 75,
    "start_time": "2024-03-24T16:17:59.565Z"
   },
   {
    "duration": 19,
    "start_time": "2024-03-24T16:17:59.642Z"
   },
   {
    "duration": 15,
    "start_time": "2024-03-24T16:17:59.662Z"
   },
   {
    "duration": 10,
    "start_time": "2024-03-24T16:17:59.679Z"
   },
   {
    "duration": 37,
    "start_time": "2024-03-24T16:17:59.690Z"
   },
   {
    "duration": 3,
    "start_time": "2024-03-24T16:17:59.728Z"
   },
   {
    "duration": 21,
    "start_time": "2024-03-24T16:17:59.732Z"
   },
   {
    "duration": 7,
    "start_time": "2024-03-24T16:17:59.754Z"
   },
   {
    "duration": 15,
    "start_time": "2024-03-24T16:17:59.762Z"
   },
   {
    "duration": 3,
    "start_time": "2024-03-24T16:17:59.779Z"
   },
   {
    "duration": 4,
    "start_time": "2024-03-24T16:17:59.783Z"
   },
   {
    "duration": 5,
    "start_time": "2024-03-24T16:17:59.788Z"
   },
   {
    "duration": 5,
    "start_time": "2024-03-24T16:17:59.795Z"
   },
   {
    "duration": 5,
    "start_time": "2024-03-24T16:17:59.801Z"
   },
   {
    "duration": 6,
    "start_time": "2024-03-24T16:17:59.807Z"
   },
   {
    "duration": 5,
    "start_time": "2024-03-24T16:17:59.815Z"
   },
   {
    "duration": 15,
    "start_time": "2024-03-24T16:17:59.821Z"
   },
   {
    "duration": 14,
    "start_time": "2024-03-24T16:17:59.837Z"
   },
   {
    "duration": 16,
    "start_time": "2024-03-24T16:17:59.852Z"
   },
   {
    "duration": 53,
    "start_time": "2024-03-24T16:17:59.869Z"
   },
   {
    "duration": 21,
    "start_time": "2024-03-24T16:17:59.924Z"
   },
   {
    "duration": 405,
    "start_time": "2024-03-24T16:18:49.051Z"
   },
   {
    "duration": 75,
    "start_time": "2024-03-24T16:18:49.461Z"
   },
   {
    "duration": 20,
    "start_time": "2024-03-24T16:18:49.537Z"
   },
   {
    "duration": 27,
    "start_time": "2024-03-24T16:18:49.559Z"
   },
   {
    "duration": 10,
    "start_time": "2024-03-24T16:18:49.587Z"
   },
   {
    "duration": 39,
    "start_time": "2024-03-24T16:18:49.599Z"
   },
   {
    "duration": 3,
    "start_time": "2024-03-24T16:18:49.639Z"
   },
   {
    "duration": 19,
    "start_time": "2024-03-24T16:18:49.644Z"
   },
   {
    "duration": 3,
    "start_time": "2024-03-24T16:18:49.664Z"
   },
   {
    "duration": 12,
    "start_time": "2024-03-24T16:18:49.669Z"
   },
   {
    "duration": 3,
    "start_time": "2024-03-24T16:18:49.682Z"
   },
   {
    "duration": 8,
    "start_time": "2024-03-24T16:18:49.687Z"
   },
   {
    "duration": 3,
    "start_time": "2024-03-24T16:18:49.697Z"
   },
   {
    "duration": 5,
    "start_time": "2024-03-24T16:18:49.701Z"
   },
   {
    "duration": 4,
    "start_time": "2024-03-24T16:18:49.707Z"
   },
   {
    "duration": 5,
    "start_time": "2024-03-24T16:18:49.712Z"
   },
   {
    "duration": 4,
    "start_time": "2024-03-24T16:18:49.719Z"
   },
   {
    "duration": 3,
    "start_time": "2024-03-24T16:18:49.724Z"
   },
   {
    "duration": 4,
    "start_time": "2024-03-24T16:18:49.729Z"
   },
   {
    "duration": 9,
    "start_time": "2024-03-24T16:18:49.734Z"
   },
   {
    "duration": 2,
    "start_time": "2024-03-24T16:18:49.759Z"
   },
   {
    "duration": 4,
    "start_time": "2024-03-24T16:18:49.762Z"
   },
   {
    "duration": 10,
    "start_time": "2024-03-24T16:26:46.355Z"
   },
   {
    "duration": 10,
    "start_time": "2024-03-24T16:26:57.779Z"
   },
   {
    "duration": 35,
    "start_time": "2024-03-24T16:27:00.422Z"
   },
   {
    "duration": 11,
    "start_time": "2024-03-24T16:27:12.915Z"
   },
   {
    "duration": 385,
    "start_time": "2024-03-24T16:27:23.024Z"
   },
   {
    "duration": 74,
    "start_time": "2024-03-24T16:27:23.411Z"
   },
   {
    "duration": 25,
    "start_time": "2024-03-24T16:27:23.487Z"
   },
   {
    "duration": 14,
    "start_time": "2024-03-24T16:27:23.515Z"
   },
   {
    "duration": 12,
    "start_time": "2024-03-24T16:27:23.531Z"
   },
   {
    "duration": 35,
    "start_time": "2024-03-24T16:27:23.558Z"
   },
   {
    "duration": 3,
    "start_time": "2024-03-24T16:27:23.594Z"
   },
   {
    "duration": 11,
    "start_time": "2024-03-24T16:27:23.598Z"
   },
   {
    "duration": 12,
    "start_time": "2024-03-24T16:27:23.610Z"
   },
   {
    "duration": 15,
    "start_time": "2024-03-24T16:27:23.625Z"
   },
   {
    "duration": 6,
    "start_time": "2024-03-24T16:27:23.642Z"
   },
   {
    "duration": 44,
    "start_time": "2024-03-24T16:27:23.658Z"
   },
   {
    "duration": 10,
    "start_time": "2024-03-24T16:27:23.703Z"
   },
   {
    "duration": 12,
    "start_time": "2024-03-24T16:27:23.715Z"
   },
   {
    "duration": 4,
    "start_time": "2024-03-24T16:27:23.729Z"
   },
   {
    "duration": 14,
    "start_time": "2024-03-24T16:27:23.734Z"
   },
   {
    "duration": 6,
    "start_time": "2024-03-24T16:27:23.750Z"
   },
   {
    "duration": 4,
    "start_time": "2024-03-24T16:27:23.758Z"
   },
   {
    "duration": 13,
    "start_time": "2024-03-24T16:27:23.764Z"
   },
   {
    "duration": 5,
    "start_time": "2024-03-24T16:27:23.778Z"
   },
   {
    "duration": 3,
    "start_time": "2024-03-24T16:27:23.785Z"
   },
   {
    "duration": 6,
    "start_time": "2024-03-24T16:27:23.790Z"
   },
   {
    "duration": 67,
    "start_time": "2024-03-24T16:46:56.177Z"
   },
   {
    "duration": 4,
    "start_time": "2024-03-24T16:48:57.061Z"
   },
   {
    "duration": 11,
    "start_time": "2024-03-24T16:51:44.598Z"
   },
   {
    "duration": 19,
    "start_time": "2024-03-24T16:52:52.355Z"
   },
   {
    "duration": 20,
    "start_time": "2024-03-24T16:54:15.135Z"
   },
   {
    "duration": 419,
    "start_time": "2024-03-24T17:13:24.536Z"
   },
   {
    "duration": 76,
    "start_time": "2024-03-24T17:13:24.957Z"
   },
   {
    "duration": 22,
    "start_time": "2024-03-24T17:13:25.035Z"
   },
   {
    "duration": 20,
    "start_time": "2024-03-24T17:13:25.059Z"
   },
   {
    "duration": 9,
    "start_time": "2024-03-24T17:13:25.081Z"
   },
   {
    "duration": 33,
    "start_time": "2024-03-24T17:13:25.092Z"
   },
   {
    "duration": 3,
    "start_time": "2024-03-24T17:13:25.126Z"
   },
   {
    "duration": 7,
    "start_time": "2024-03-24T17:13:25.160Z"
   },
   {
    "duration": 5,
    "start_time": "2024-03-24T17:13:25.169Z"
   },
   {
    "duration": 24,
    "start_time": "2024-03-24T17:13:25.176Z"
   },
   {
    "duration": 6,
    "start_time": "2024-03-24T17:13:25.202Z"
   },
   {
    "duration": 42,
    "start_time": "2024-03-24T17:13:25.209Z"
   },
   {
    "duration": 13,
    "start_time": "2024-03-24T17:13:25.253Z"
   },
   {
    "duration": 10,
    "start_time": "2024-03-24T17:13:25.269Z"
   },
   {
    "duration": 19,
    "start_time": "2024-03-24T17:13:25.280Z"
   },
   {
    "duration": 21,
    "start_time": "2024-03-24T17:13:25.301Z"
   },
   {
    "duration": 22,
    "start_time": "2024-03-24T17:13:25.324Z"
   },
   {
    "duration": 95,
    "start_time": "2024-03-24T17:13:25.347Z"
   },
   {
    "duration": 0,
    "start_time": "2024-03-24T17:13:25.443Z"
   },
   {
    "duration": 0,
    "start_time": "2024-03-24T17:13:25.444Z"
   },
   {
    "duration": 0,
    "start_time": "2024-03-24T17:13:25.445Z"
   },
   {
    "duration": 0,
    "start_time": "2024-03-24T17:13:25.446Z"
   },
   {
    "duration": 72,
    "start_time": "2024-03-24T17:14:12.332Z"
   },
   {
    "duration": 3,
    "start_time": "2024-03-24T17:33:52.214Z"
   },
   {
    "duration": 140,
    "start_time": "2024-03-24T17:34:01.182Z"
   },
   {
    "duration": 6,
    "start_time": "2024-03-24T17:35:18.295Z"
   },
   {
    "duration": 62,
    "start_time": "2024-03-24T18:06:25.280Z"
   },
   {
    "duration": 7,
    "start_time": "2024-03-24T18:07:05.913Z"
   },
   {
    "duration": 4,
    "start_time": "2024-03-24T18:07:11.577Z"
   },
   {
    "duration": 361,
    "start_time": "2024-03-24T18:07:12.713Z"
   },
   {
    "duration": 719,
    "start_time": "2024-03-24T18:08:49.275Z"
   },
   {
    "duration": 3,
    "start_time": "2024-03-24T18:10:30.116Z"
   },
   {
    "duration": 214,
    "start_time": "2024-03-24T18:10:35.956Z"
   },
   {
    "duration": 218,
    "start_time": "2024-03-24T18:11:30.444Z"
   },
   {
    "duration": 3,
    "start_time": "2024-03-24T18:15:14.863Z"
   },
   {
    "duration": 70,
    "start_time": "2024-03-24T18:15:16.391Z"
   },
   {
    "duration": 235,
    "start_time": "2024-03-24T18:15:21.824Z"
   },
   {
    "duration": 353,
    "start_time": "2024-03-24T18:17:53.610Z"
   },
   {
    "duration": 3,
    "start_time": "2024-03-24T18:18:52.530Z"
   },
   {
    "duration": 380,
    "start_time": "2024-03-24T18:18:53.451Z"
   },
   {
    "duration": 208,
    "start_time": "2024-03-24T18:19:01.724Z"
   },
   {
    "duration": 3,
    "start_time": "2024-03-24T18:19:34.116Z"
   },
   {
    "duration": 128,
    "start_time": "2024-03-24T18:19:35.515Z"
   },
   {
    "duration": 17,
    "start_time": "2024-03-24T18:23:29.053Z"
   },
   {
    "duration": 3,
    "start_time": "2024-03-24T18:24:04.455Z"
   },
   {
    "duration": 6,
    "start_time": "2024-03-24T18:24:05.118Z"
   },
   {
    "duration": 4,
    "start_time": "2024-03-24T18:28:05.251Z"
   },
   {
    "duration": 6,
    "start_time": "2024-03-24T18:28:42.690Z"
   },
   {
    "duration": 5,
    "start_time": "2024-03-24T18:28:43.594Z"
   },
   {
    "duration": 3,
    "start_time": "2024-03-24T18:33:30.238Z"
   },
   {
    "duration": 1129,
    "start_time": "2024-03-24T18:33:30.917Z"
   },
   {
    "duration": 0,
    "start_time": "2024-03-24T18:33:32.048Z"
   },
   {
    "duration": 145,
    "start_time": "2024-03-24T18:33:39.278Z"
   },
   {
    "duration": 5,
    "start_time": "2024-03-24T18:33:40.830Z"
   },
   {
    "duration": 4,
    "start_time": "2024-03-24T18:34:11.007Z"
   },
   {
    "duration": 591,
    "start_time": "2024-03-24T18:34:11.854Z"
   },
   {
    "duration": 5,
    "start_time": "2024-03-24T18:34:12.629Z"
   },
   {
    "duration": 3,
    "start_time": "2024-03-24T18:35:12.612Z"
   },
   {
    "duration": 587,
    "start_time": "2024-03-24T18:35:13.303Z"
   },
   {
    "duration": 4,
    "start_time": "2024-03-24T18:35:14.007Z"
   },
   {
    "duration": 4,
    "start_time": "2024-03-24T18:35:31.032Z"
   },
   {
    "duration": 136,
    "start_time": "2024-03-24T18:35:33.344Z"
   },
   {
    "duration": 4,
    "start_time": "2024-03-24T18:35:33.960Z"
   },
   {
    "duration": 414,
    "start_time": "2024-03-24T18:35:39.949Z"
   },
   {
    "duration": 81,
    "start_time": "2024-03-24T18:35:40.365Z"
   },
   {
    "duration": 24,
    "start_time": "2024-03-24T18:35:40.447Z"
   },
   {
    "duration": 17,
    "start_time": "2024-03-24T18:35:40.474Z"
   },
   {
    "duration": 10,
    "start_time": "2024-03-24T18:35:40.492Z"
   },
   {
    "duration": 35,
    "start_time": "2024-03-24T18:35:40.504Z"
   },
   {
    "duration": 20,
    "start_time": "2024-03-24T18:35:40.540Z"
   },
   {
    "duration": 12,
    "start_time": "2024-03-24T18:35:40.561Z"
   },
   {
    "duration": 3,
    "start_time": "2024-03-24T18:35:40.575Z"
   },
   {
    "duration": 8,
    "start_time": "2024-03-24T18:35:40.580Z"
   },
   {
    "duration": 4,
    "start_time": "2024-03-24T18:35:40.589Z"
   },
   {
    "duration": 40,
    "start_time": "2024-03-24T18:35:40.594Z"
   },
   {
    "duration": 31,
    "start_time": "2024-03-24T18:35:40.635Z"
   },
   {
    "duration": 3,
    "start_time": "2024-03-24T18:35:40.668Z"
   },
   {
    "duration": 11,
    "start_time": "2024-03-24T18:35:40.673Z"
   },
   {
    "duration": 19,
    "start_time": "2024-03-24T18:35:40.685Z"
   },
   {
    "duration": 17,
    "start_time": "2024-03-24T18:35:40.705Z"
   },
   {
    "duration": 3,
    "start_time": "2024-03-24T18:35:40.723Z"
   },
   {
    "duration": 166,
    "start_time": "2024-03-24T18:35:40.728Z"
   },
   {
    "duration": 5,
    "start_time": "2024-03-24T18:35:40.895Z"
   },
   {
    "duration": 4,
    "start_time": "2024-03-24T18:35:40.901Z"
   },
   {
    "duration": 163,
    "start_time": "2024-03-24T18:35:40.906Z"
   },
   {
    "duration": 4,
    "start_time": "2024-03-24T18:35:41.070Z"
   }
  ],
  "colab": {
   "provenance": []
  },
  "kernelspec": {
   "display_name": "Python 3 (ipykernel)",
   "language": "python",
   "name": "python3"
  },
  "language_info": {
   "codemirror_mode": {
    "name": "ipython",
    "version": 3
   },
   "file_extension": ".py",
   "mimetype": "text/x-python",
   "name": "python",
   "nbconvert_exporter": "python",
   "pygments_lexer": "ipython3",
   "version": "3.9.5"
  },
  "toc": {
   "base_numbering": 1,
   "nav_menu": {},
   "number_sections": true,
   "sideBar": true,
   "skip_h1_title": true,
   "title_cell": "Table of Contents",
   "title_sidebar": "Contents",
   "toc_cell": false,
   "toc_position": {},
   "toc_section_display": true,
   "toc_window_display": false
  }
 },
 "nbformat": 4,
 "nbformat_minor": 5
}
