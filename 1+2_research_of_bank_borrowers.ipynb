{
 "cells": [
  {
   "cell_type": "markdown",
   "id": "3c7bdb72",
   "metadata": {},
   "source": [
    "Первый учебный проект курса \"Аналитик данных буткемп\" от Яндекс.Практикум.\n",
    "\n",
    "Тема: Предобработка данных.\n",
    "\n",
    "Работа с пропусками. Определение аномальных значений. Преобразование типов данных. Основные методы поиска дубликатов. Работа с несовершенными реальными наборами данных. Проект. Проверить гипотезу о влиянии email-рассылки на динамику повторных покупок.\n",
    "\n"
   ]
  },
  {
   "cell_type": "markdown",
   "id": "386f2ae7",
   "metadata": {
    "deletable": false,
    "editable": false,
    "id": "386f2ae7"
   },
   "source": [
    "# Исследование надежности заемщиков\n"
   ]
  },
  {
   "cell_type": "markdown",
   "id": "ffe86f65",
   "metadata": {
    "deletable": false,
    "editable": false,
    "id": "ffe86f65"
   },
   "source": [
    "Во второй части проекта вы выполните шаги 3 и 4. Их вручную проверит ревьюер.\n",
    "Чтобы вам не пришлось писать код заново для шагов 1 и 2, мы добавили авторские решения в ячейки с кодом. \n",
    "\n"
   ]
  },
  {
   "cell_type": "markdown",
   "id": "26613308",
   "metadata": {
    "deletable": false,
    "editable": false,
    "id": "26613308"
   },
   "source": [
    "## Откройте таблицу и изучите общую информацию о данных"
   ]
  },
  {
   "cell_type": "markdown",
   "id": "3c9f838e",
   "metadata": {
    "deletable": false,
    "editable": false,
    "id": "3c9f838e"
   },
   "source": [
    "**Задание 1. Импортируйте библиотеку pandas. Считайте данные из csv-файла в датафрейм и сохраните в переменную `data`. Путь к файлу:**\n",
    "\n",
    "`/datasets/data.csv`"
   ]
  },
  {
   "cell_type": "code",
   "execution_count": 1,
   "id": "77a68a90",
   "metadata": {
    "deletable": false,
    "id": "77a68a90"
   },
   "outputs": [],
   "source": [
    "import pandas as pd\n",
    "\n",
    "try:\n",
    "    data = pd.read_csv('/datasets/data.csv')\n",
    "except:\n",
    "    data = pd.read_csv('https://code.s3.yandex.net/datasets/data.csv')"
   ]
  },
  {
   "cell_type": "markdown",
   "id": "45365635",
   "metadata": {
    "deletable": false,
    "editable": false,
    "id": "45365635"
   },
   "source": [
    "**Задание 2. Выведите первые 20 строчек датафрейма `data` на экран.**"
   ]
  },
  {
   "cell_type": "code",
   "execution_count": 2,
   "id": "b0451a9a",
   "metadata": {
    "deletable": false,
    "id": "b0451a9a",
    "outputId": "1a8f3ef2-d323-4ec2-ddf7-89670b5944c4"
   },
   "outputs": [
    {
     "data": {
      "text/html": [
       "<div>\n",
       "<style scoped>\n",
       "    .dataframe tbody tr th:only-of-type {\n",
       "        vertical-align: middle;\n",
       "    }\n",
       "\n",
       "    .dataframe tbody tr th {\n",
       "        vertical-align: top;\n",
       "    }\n",
       "\n",
       "    .dataframe thead th {\n",
       "        text-align: right;\n",
       "    }\n",
       "</style>\n",
       "<table border=\"1\" class=\"dataframe\">\n",
       "  <thead>\n",
       "    <tr style=\"text-align: right;\">\n",
       "      <th></th>\n",
       "      <th>children</th>\n",
       "      <th>days_employed</th>\n",
       "      <th>dob_years</th>\n",
       "      <th>education</th>\n",
       "      <th>education_id</th>\n",
       "      <th>family_status</th>\n",
       "      <th>family_status_id</th>\n",
       "      <th>gender</th>\n",
       "      <th>income_type</th>\n",
       "      <th>debt</th>\n",
       "      <th>total_income</th>\n",
       "      <th>purpose</th>\n",
       "    </tr>\n",
       "  </thead>\n",
       "  <tbody>\n",
       "    <tr>\n",
       "      <th>0</th>\n",
       "      <td>1</td>\n",
       "      <td>-8437.673028</td>\n",
       "      <td>42</td>\n",
       "      <td>высшее</td>\n",
       "      <td>0</td>\n",
       "      <td>женат / замужем</td>\n",
       "      <td>0</td>\n",
       "      <td>F</td>\n",
       "      <td>сотрудник</td>\n",
       "      <td>0</td>\n",
       "      <td>253875.639453</td>\n",
       "      <td>покупка жилья</td>\n",
       "    </tr>\n",
       "    <tr>\n",
       "      <th>1</th>\n",
       "      <td>1</td>\n",
       "      <td>-4024.803754</td>\n",
       "      <td>36</td>\n",
       "      <td>среднее</td>\n",
       "      <td>1</td>\n",
       "      <td>женат / замужем</td>\n",
       "      <td>0</td>\n",
       "      <td>F</td>\n",
       "      <td>сотрудник</td>\n",
       "      <td>0</td>\n",
       "      <td>112080.014102</td>\n",
       "      <td>приобретение автомобиля</td>\n",
       "    </tr>\n",
       "    <tr>\n",
       "      <th>2</th>\n",
       "      <td>0</td>\n",
       "      <td>-5623.422610</td>\n",
       "      <td>33</td>\n",
       "      <td>Среднее</td>\n",
       "      <td>1</td>\n",
       "      <td>женат / замужем</td>\n",
       "      <td>0</td>\n",
       "      <td>M</td>\n",
       "      <td>сотрудник</td>\n",
       "      <td>0</td>\n",
       "      <td>145885.952297</td>\n",
       "      <td>покупка жилья</td>\n",
       "    </tr>\n",
       "    <tr>\n",
       "      <th>3</th>\n",
       "      <td>3</td>\n",
       "      <td>-4124.747207</td>\n",
       "      <td>32</td>\n",
       "      <td>среднее</td>\n",
       "      <td>1</td>\n",
       "      <td>женат / замужем</td>\n",
       "      <td>0</td>\n",
       "      <td>M</td>\n",
       "      <td>сотрудник</td>\n",
       "      <td>0</td>\n",
       "      <td>267628.550329</td>\n",
       "      <td>дополнительное образование</td>\n",
       "    </tr>\n",
       "    <tr>\n",
       "      <th>4</th>\n",
       "      <td>0</td>\n",
       "      <td>340266.072047</td>\n",
       "      <td>53</td>\n",
       "      <td>среднее</td>\n",
       "      <td>1</td>\n",
       "      <td>гражданский брак</td>\n",
       "      <td>1</td>\n",
       "      <td>F</td>\n",
       "      <td>пенсионер</td>\n",
       "      <td>0</td>\n",
       "      <td>158616.077870</td>\n",
       "      <td>сыграть свадьбу</td>\n",
       "    </tr>\n",
       "    <tr>\n",
       "      <th>5</th>\n",
       "      <td>0</td>\n",
       "      <td>-926.185831</td>\n",
       "      <td>27</td>\n",
       "      <td>высшее</td>\n",
       "      <td>0</td>\n",
       "      <td>гражданский брак</td>\n",
       "      <td>1</td>\n",
       "      <td>M</td>\n",
       "      <td>компаньон</td>\n",
       "      <td>0</td>\n",
       "      <td>255763.565419</td>\n",
       "      <td>покупка жилья</td>\n",
       "    </tr>\n",
       "    <tr>\n",
       "      <th>6</th>\n",
       "      <td>0</td>\n",
       "      <td>-2879.202052</td>\n",
       "      <td>43</td>\n",
       "      <td>высшее</td>\n",
       "      <td>0</td>\n",
       "      <td>женат / замужем</td>\n",
       "      <td>0</td>\n",
       "      <td>F</td>\n",
       "      <td>компаньон</td>\n",
       "      <td>0</td>\n",
       "      <td>240525.971920</td>\n",
       "      <td>операции с жильем</td>\n",
       "    </tr>\n",
       "    <tr>\n",
       "      <th>7</th>\n",
       "      <td>0</td>\n",
       "      <td>-152.779569</td>\n",
       "      <td>50</td>\n",
       "      <td>СРЕДНЕЕ</td>\n",
       "      <td>1</td>\n",
       "      <td>женат / замужем</td>\n",
       "      <td>0</td>\n",
       "      <td>M</td>\n",
       "      <td>сотрудник</td>\n",
       "      <td>0</td>\n",
       "      <td>135823.934197</td>\n",
       "      <td>образование</td>\n",
       "    </tr>\n",
       "    <tr>\n",
       "      <th>8</th>\n",
       "      <td>2</td>\n",
       "      <td>-6929.865299</td>\n",
       "      <td>35</td>\n",
       "      <td>ВЫСШЕЕ</td>\n",
       "      <td>0</td>\n",
       "      <td>гражданский брак</td>\n",
       "      <td>1</td>\n",
       "      <td>F</td>\n",
       "      <td>сотрудник</td>\n",
       "      <td>0</td>\n",
       "      <td>95856.832424</td>\n",
       "      <td>на проведение свадьбы</td>\n",
       "    </tr>\n",
       "    <tr>\n",
       "      <th>9</th>\n",
       "      <td>0</td>\n",
       "      <td>-2188.756445</td>\n",
       "      <td>41</td>\n",
       "      <td>среднее</td>\n",
       "      <td>1</td>\n",
       "      <td>женат / замужем</td>\n",
       "      <td>0</td>\n",
       "      <td>M</td>\n",
       "      <td>сотрудник</td>\n",
       "      <td>0</td>\n",
       "      <td>144425.938277</td>\n",
       "      <td>покупка жилья для семьи</td>\n",
       "    </tr>\n",
       "    <tr>\n",
       "      <th>10</th>\n",
       "      <td>2</td>\n",
       "      <td>-4171.483647</td>\n",
       "      <td>36</td>\n",
       "      <td>высшее</td>\n",
       "      <td>0</td>\n",
       "      <td>женат / замужем</td>\n",
       "      <td>0</td>\n",
       "      <td>M</td>\n",
       "      <td>компаньон</td>\n",
       "      <td>0</td>\n",
       "      <td>113943.491460</td>\n",
       "      <td>покупка недвижимости</td>\n",
       "    </tr>\n",
       "    <tr>\n",
       "      <th>11</th>\n",
       "      <td>0</td>\n",
       "      <td>-792.701887</td>\n",
       "      <td>40</td>\n",
       "      <td>среднее</td>\n",
       "      <td>1</td>\n",
       "      <td>женат / замужем</td>\n",
       "      <td>0</td>\n",
       "      <td>F</td>\n",
       "      <td>сотрудник</td>\n",
       "      <td>0</td>\n",
       "      <td>77069.234271</td>\n",
       "      <td>покупка коммерческой недвижимости</td>\n",
       "    </tr>\n",
       "    <tr>\n",
       "      <th>12</th>\n",
       "      <td>0</td>\n",
       "      <td>NaN</td>\n",
       "      <td>65</td>\n",
       "      <td>среднее</td>\n",
       "      <td>1</td>\n",
       "      <td>гражданский брак</td>\n",
       "      <td>1</td>\n",
       "      <td>M</td>\n",
       "      <td>пенсионер</td>\n",
       "      <td>0</td>\n",
       "      <td>NaN</td>\n",
       "      <td>сыграть свадьбу</td>\n",
       "    </tr>\n",
       "    <tr>\n",
       "      <th>13</th>\n",
       "      <td>0</td>\n",
       "      <td>-1846.641941</td>\n",
       "      <td>54</td>\n",
       "      <td>неоконченное высшее</td>\n",
       "      <td>2</td>\n",
       "      <td>женат / замужем</td>\n",
       "      <td>0</td>\n",
       "      <td>F</td>\n",
       "      <td>сотрудник</td>\n",
       "      <td>0</td>\n",
       "      <td>130458.228857</td>\n",
       "      <td>приобретение автомобиля</td>\n",
       "    </tr>\n",
       "    <tr>\n",
       "      <th>14</th>\n",
       "      <td>0</td>\n",
       "      <td>-1844.956182</td>\n",
       "      <td>56</td>\n",
       "      <td>высшее</td>\n",
       "      <td>0</td>\n",
       "      <td>гражданский брак</td>\n",
       "      <td>1</td>\n",
       "      <td>F</td>\n",
       "      <td>компаньон</td>\n",
       "      <td>1</td>\n",
       "      <td>165127.911772</td>\n",
       "      <td>покупка жилой недвижимости</td>\n",
       "    </tr>\n",
       "    <tr>\n",
       "      <th>15</th>\n",
       "      <td>1</td>\n",
       "      <td>-972.364419</td>\n",
       "      <td>26</td>\n",
       "      <td>среднее</td>\n",
       "      <td>1</td>\n",
       "      <td>женат / замужем</td>\n",
       "      <td>0</td>\n",
       "      <td>F</td>\n",
       "      <td>сотрудник</td>\n",
       "      <td>0</td>\n",
       "      <td>116820.904450</td>\n",
       "      <td>строительство собственной недвижимости</td>\n",
       "    </tr>\n",
       "    <tr>\n",
       "      <th>16</th>\n",
       "      <td>0</td>\n",
       "      <td>-1719.934226</td>\n",
       "      <td>35</td>\n",
       "      <td>среднее</td>\n",
       "      <td>1</td>\n",
       "      <td>женат / замужем</td>\n",
       "      <td>0</td>\n",
       "      <td>F</td>\n",
       "      <td>сотрудник</td>\n",
       "      <td>0</td>\n",
       "      <td>289202.704229</td>\n",
       "      <td>недвижимость</td>\n",
       "    </tr>\n",
       "    <tr>\n",
       "      <th>17</th>\n",
       "      <td>0</td>\n",
       "      <td>-2369.999720</td>\n",
       "      <td>33</td>\n",
       "      <td>высшее</td>\n",
       "      <td>0</td>\n",
       "      <td>гражданский брак</td>\n",
       "      <td>1</td>\n",
       "      <td>M</td>\n",
       "      <td>сотрудник</td>\n",
       "      <td>0</td>\n",
       "      <td>90410.586745</td>\n",
       "      <td>строительство недвижимости</td>\n",
       "    </tr>\n",
       "    <tr>\n",
       "      <th>18</th>\n",
       "      <td>0</td>\n",
       "      <td>400281.136913</td>\n",
       "      <td>53</td>\n",
       "      <td>среднее</td>\n",
       "      <td>1</td>\n",
       "      <td>вдовец / вдова</td>\n",
       "      <td>2</td>\n",
       "      <td>F</td>\n",
       "      <td>пенсионер</td>\n",
       "      <td>0</td>\n",
       "      <td>56823.777243</td>\n",
       "      <td>на покупку подержанного автомобиля</td>\n",
       "    </tr>\n",
       "    <tr>\n",
       "      <th>19</th>\n",
       "      <td>0</td>\n",
       "      <td>-10038.818549</td>\n",
       "      <td>48</td>\n",
       "      <td>СРЕДНЕЕ</td>\n",
       "      <td>1</td>\n",
       "      <td>в разводе</td>\n",
       "      <td>3</td>\n",
       "      <td>F</td>\n",
       "      <td>сотрудник</td>\n",
       "      <td>0</td>\n",
       "      <td>242831.107982</td>\n",
       "      <td>на покупку своего автомобиля</td>\n",
       "    </tr>\n",
       "  </tbody>\n",
       "</table>\n",
       "</div>"
      ],
      "text/plain": [
       "    children  days_employed  dob_years            education  education_id  \\\n",
       "0          1   -8437.673028         42               высшее             0   \n",
       "1          1   -4024.803754         36              среднее             1   \n",
       "2          0   -5623.422610         33              Среднее             1   \n",
       "3          3   -4124.747207         32              среднее             1   \n",
       "4          0  340266.072047         53              среднее             1   \n",
       "5          0    -926.185831         27               высшее             0   \n",
       "6          0   -2879.202052         43               высшее             0   \n",
       "7          0    -152.779569         50              СРЕДНЕЕ             1   \n",
       "8          2   -6929.865299         35               ВЫСШЕЕ             0   \n",
       "9          0   -2188.756445         41              среднее             1   \n",
       "10         2   -4171.483647         36               высшее             0   \n",
       "11         0    -792.701887         40              среднее             1   \n",
       "12         0            NaN         65              среднее             1   \n",
       "13         0   -1846.641941         54  неоконченное высшее             2   \n",
       "14         0   -1844.956182         56               высшее             0   \n",
       "15         1    -972.364419         26              среднее             1   \n",
       "16         0   -1719.934226         35              среднее             1   \n",
       "17         0   -2369.999720         33               высшее             0   \n",
       "18         0  400281.136913         53              среднее             1   \n",
       "19         0  -10038.818549         48              СРЕДНЕЕ             1   \n",
       "\n",
       "       family_status  family_status_id gender income_type  debt  \\\n",
       "0    женат / замужем                 0      F   сотрудник     0   \n",
       "1    женат / замужем                 0      F   сотрудник     0   \n",
       "2    женат / замужем                 0      M   сотрудник     0   \n",
       "3    женат / замужем                 0      M   сотрудник     0   \n",
       "4   гражданский брак                 1      F   пенсионер     0   \n",
       "5   гражданский брак                 1      M   компаньон     0   \n",
       "6    женат / замужем                 0      F   компаньон     0   \n",
       "7    женат / замужем                 0      M   сотрудник     0   \n",
       "8   гражданский брак                 1      F   сотрудник     0   \n",
       "9    женат / замужем                 0      M   сотрудник     0   \n",
       "10   женат / замужем                 0      M   компаньон     0   \n",
       "11   женат / замужем                 0      F   сотрудник     0   \n",
       "12  гражданский брак                 1      M   пенсионер     0   \n",
       "13   женат / замужем                 0      F   сотрудник     0   \n",
       "14  гражданский брак                 1      F   компаньон     1   \n",
       "15   женат / замужем                 0      F   сотрудник     0   \n",
       "16   женат / замужем                 0      F   сотрудник     0   \n",
       "17  гражданский брак                 1      M   сотрудник     0   \n",
       "18    вдовец / вдова                 2      F   пенсионер     0   \n",
       "19         в разводе                 3      F   сотрудник     0   \n",
       "\n",
       "     total_income                                 purpose  \n",
       "0   253875.639453                           покупка жилья  \n",
       "1   112080.014102                 приобретение автомобиля  \n",
       "2   145885.952297                           покупка жилья  \n",
       "3   267628.550329              дополнительное образование  \n",
       "4   158616.077870                         сыграть свадьбу  \n",
       "5   255763.565419                           покупка жилья  \n",
       "6   240525.971920                       операции с жильем  \n",
       "7   135823.934197                             образование  \n",
       "8    95856.832424                   на проведение свадьбы  \n",
       "9   144425.938277                 покупка жилья для семьи  \n",
       "10  113943.491460                    покупка недвижимости  \n",
       "11   77069.234271       покупка коммерческой недвижимости  \n",
       "12            NaN                         сыграть свадьбу  \n",
       "13  130458.228857                 приобретение автомобиля  \n",
       "14  165127.911772              покупка жилой недвижимости  \n",
       "15  116820.904450  строительство собственной недвижимости  \n",
       "16  289202.704229                            недвижимость  \n",
       "17   90410.586745              строительство недвижимости  \n",
       "18   56823.777243      на покупку подержанного автомобиля  \n",
       "19  242831.107982            на покупку своего автомобиля  "
      ]
     },
     "execution_count": 2,
     "metadata": {},
     "output_type": "execute_result"
    }
   ],
   "source": [
    "data.head(20)"
   ]
  },
  {
   "cell_type": "markdown",
   "id": "0ed8f27f",
   "metadata": {
    "deletable": false,
    "editable": false,
    "id": "0ed8f27f"
   },
   "source": [
    "**Задание 3. Выведите основную информацию о датафрейме с помощью метода `info()`.**"
   ]
  },
  {
   "cell_type": "code",
   "execution_count": 3,
   "id": "ab3f863b",
   "metadata": {
    "deletable": false,
    "id": "ab3f863b",
    "outputId": "15376089-8dad-46c9-b520-c05248d43158"
   },
   "outputs": [
    {
     "name": "stdout",
     "output_type": "stream",
     "text": [
      "<class 'pandas.core.frame.DataFrame'>\n",
      "RangeIndex: 21525 entries, 0 to 21524\n",
      "Data columns (total 12 columns):\n",
      " #   Column            Non-Null Count  Dtype  \n",
      "---  ------            --------------  -----  \n",
      " 0   children          21525 non-null  int64  \n",
      " 1   days_employed     19351 non-null  float64\n",
      " 2   dob_years         21525 non-null  int64  \n",
      " 3   education         21525 non-null  object \n",
      " 4   education_id      21525 non-null  int64  \n",
      " 5   family_status     21525 non-null  object \n",
      " 6   family_status_id  21525 non-null  int64  \n",
      " 7   gender            21525 non-null  object \n",
      " 8   income_type       21525 non-null  object \n",
      " 9   debt              21525 non-null  int64  \n",
      " 10  total_income      19351 non-null  float64\n",
      " 11  purpose           21525 non-null  object \n",
      "dtypes: float64(2), int64(5), object(5)\n",
      "memory usage: 2.0+ MB\n"
     ]
    }
   ],
   "source": [
    "data.info()"
   ]
  },
  {
   "cell_type": "markdown",
   "id": "60e3e22d",
   "metadata": {
    "deletable": false,
    "editable": false,
    "id": "60e3e22d"
   },
   "source": [
    "## Предобработка данных"
   ]
  },
  {
   "cell_type": "markdown",
   "id": "03dc170c",
   "metadata": {
    "deletable": false,
    "editable": false,
    "id": "03dc170c"
   },
   "source": [
    "### Удаление пропусков"
   ]
  },
  {
   "cell_type": "markdown",
   "id": "a4f54eef",
   "metadata": {
    "deletable": false,
    "editable": false,
    "id": "a4f54eef"
   },
   "source": [
    "**Задание 4. Выведите количество пропущенных значений для каждого столбца. Используйте комбинацию двух методов.**"
   ]
  },
  {
   "cell_type": "code",
   "execution_count": 4,
   "id": "2dc372b2",
   "metadata": {
    "deletable": false,
    "id": "2dc372b2",
    "outputId": "81f4d817-781c-465c-ed15-91ce4446810d"
   },
   "outputs": [
    {
     "data": {
      "text/plain": [
       "children               0\n",
       "days_employed       2174\n",
       "dob_years              0\n",
       "education              0\n",
       "education_id           0\n",
       "family_status          0\n",
       "family_status_id       0\n",
       "gender                 0\n",
       "income_type            0\n",
       "debt                   0\n",
       "total_income        2174\n",
       "purpose                0\n",
       "dtype: int64"
      ]
     },
     "execution_count": 4,
     "metadata": {},
     "output_type": "execute_result"
    }
   ],
   "source": [
    "data.isna().sum()"
   ]
  },
  {
   "cell_type": "markdown",
   "id": "14f011b1",
   "metadata": {
    "deletable": false,
    "editable": false,
    "id": "14f011b1"
   },
   "source": [
    "**Задание 5. В двух столбцах есть пропущенные значения. Один из них — `days_employed`. Пропуски в этом столбце вы обработаете на следующем этапе. Другой столбец с пропущенными значениями — `total_income` — хранит данные о доходах. На сумму дохода сильнее всего влияет тип занятости, поэтому заполнить пропуски в этом столбце нужно медианным значением по каждому типу из столбца `income_type`. Например, у человека с типом занятости `сотрудник` пропуск в столбце `total_income` должен быть заполнен медианным доходом среди всех записей с тем же типом.**"
   ]
  },
  {
   "cell_type": "code",
   "execution_count": 5,
   "id": "bdabfb6e",
   "metadata": {
    "deletable": false,
    "id": "bdabfb6e"
   },
   "outputs": [],
   "source": [
    "for t in data['income_type'].unique():\n",
    "    data.loc[(data['income_type'] == t) & (data['total_income'].isna()), 'total_income'] = \\\n",
    "    data.loc[(data['income_type'] == t), 'total_income'].median()"
   ]
  },
  {
   "cell_type": "markdown",
   "id": "5be34059",
   "metadata": {
    "deletable": false,
    "editable": false,
    "id": "5be34059"
   },
   "source": [
    "### Обработка аномальных значений"
   ]
  },
  {
   "cell_type": "markdown",
   "id": "a87606cb",
   "metadata": {
    "deletable": false,
    "editable": false,
    "id": "a87606cb"
   },
   "source": [
    "**Задание 6. В данных могут встречаться артефакты (аномалии) — значения, которые не отражают действительность и появились по какой-то ошибке. таким артефактом будет отрицательное количество дней трудового стажа в столбце `days_employed`. Для реальных данных это нормально. Обработайте значения в этом столбце: замените все отрицательные значения положительными с помощью метода `abs()`.**"
   ]
  },
  {
   "cell_type": "code",
   "execution_count": 6,
   "id": "020c46cc",
   "metadata": {
    "deletable": false,
    "id": "020c46cc"
   },
   "outputs": [],
   "source": [
    "data['days_employed'] = data['days_employed'].abs()"
   ]
  },
  {
   "cell_type": "markdown",
   "id": "45538a3a",
   "metadata": {
    "deletable": false,
    "editable": false,
    "id": "45538a3a"
   },
   "source": [
    "**Задание 7. Для каждого типа занятости выведите медианное значение трудового стажа `days_employed` в днях.**"
   ]
  },
  {
   "cell_type": "code",
   "execution_count": 7,
   "id": "cd3e6328",
   "metadata": {
    "deletable": false,
    "id": "cd3e6328",
    "outputId": "801ef80e-522b-4668-f34e-565af7432bcf"
   },
   "outputs": [
    {
     "data": {
      "text/plain": [
       "income_type\n",
       "безработный        366413.652744\n",
       "в декрете            3296.759962\n",
       "госслужащий          2689.368353\n",
       "компаньон            1547.382223\n",
       "пенсионер          365213.306266\n",
       "предприниматель       520.848083\n",
       "сотрудник            1574.202821\n",
       "студент               578.751554\n",
       "Name: days_employed, dtype: float64"
      ]
     },
     "execution_count": 7,
     "metadata": {},
     "output_type": "execute_result"
    }
   ],
   "source": [
    "data.groupby('income_type')['days_employed'].agg('median')"
   ]
  },
  {
   "cell_type": "markdown",
   "id": "90c5f058",
   "metadata": {
    "deletable": false,
    "editable": false,
    "id": "90c5f058"
   },
   "source": [
    "У двух типов (безработные и пенсионеры) получатся аномально большие значения. Исправить такие значения сложно, поэтому оставьте их как есть."
   ]
  },
  {
   "cell_type": "markdown",
   "id": "9652e50d",
   "metadata": {
    "deletable": false,
    "editable": false,
    "id": "9652e50d"
   },
   "source": [
    "**Задание 8. Выведите перечень уникальных значений столбца `children`.**"
   ]
  },
  {
   "cell_type": "code",
   "execution_count": 8,
   "id": "dbb37b8e",
   "metadata": {
    "deletable": false,
    "id": "dbb37b8e",
    "outputId": "6975b15c-7f95-4697-d16d-a0c79b657b03"
   },
   "outputs": [
    {
     "data": {
      "text/plain": [
       "array([ 1,  0,  3,  2, -1,  4, 20,  5])"
      ]
     },
     "execution_count": 8,
     "metadata": {},
     "output_type": "execute_result"
    }
   ],
   "source": [
    "data['children'].unique()"
   ]
  },
  {
   "cell_type": "markdown",
   "id": "2b8b0715",
   "metadata": {
    "deletable": false,
    "editable": false,
    "id": "2b8b0715"
   },
   "source": [
    "**Задание 9. В столбце `children` есть два аномальных значения. Удалите строки, в которых встречаются такие аномальные значения из датафрейма `data`.**"
   ]
  },
  {
   "cell_type": "code",
   "execution_count": 9,
   "id": "20009df8",
   "metadata": {
    "deletable": false,
    "id": "20009df8"
   },
   "outputs": [],
   "source": [
    "data = data[(data['children'] != -1) & (data['children'] != 20)]"
   ]
  },
  {
   "cell_type": "markdown",
   "id": "8c6ac9f1",
   "metadata": {
    "deletable": false,
    "editable": false,
    "id": "8c6ac9f1"
   },
   "source": [
    "**Задание 10. Ещё раз выведите перечень уникальных значений столбца `children`, чтобы убедиться, что артефакты удалены.**"
   ]
  },
  {
   "cell_type": "code",
   "execution_count": 10,
   "id": "07337b81",
   "metadata": {
    "deletable": false,
    "id": "07337b81",
    "outputId": "b2097101-d49d-44d9-901b-32a65c9463d1"
   },
   "outputs": [
    {
     "data": {
      "text/plain": [
       "array([1, 0, 3, 2, 4, 5])"
      ]
     },
     "execution_count": 10,
     "metadata": {},
     "output_type": "execute_result"
    }
   ],
   "source": [
    "data['children'].unique()"
   ]
  },
  {
   "cell_type": "markdown",
   "id": "ee3f52d4",
   "metadata": {
    "deletable": false,
    "editable": false,
    "id": "ee3f52d4"
   },
   "source": [
    "### Удаление пропусков (продолжение)"
   ]
  },
  {
   "cell_type": "markdown",
   "id": "a700b0e4",
   "metadata": {
    "deletable": false,
    "editable": false,
    "id": "a700b0e4"
   },
   "source": [
    "**Задание 11. Заполните пропуски в столбце `days_employed` медианными значениями по каждого типа занятости `income_type`.**"
   ]
  },
  {
   "cell_type": "code",
   "execution_count": 11,
   "id": "61946b83",
   "metadata": {
    "deletable": false,
    "id": "61946b83"
   },
   "outputs": [],
   "source": [
    "for t in data['income_type'].unique():\n",
    "    data.loc[(data['income_type'] == t) & (data['days_employed'].isna()), 'days_employed'] = \\\n",
    "    data.loc[(data['income_type'] == t), 'days_employed'].median()"
   ]
  },
  {
   "cell_type": "markdown",
   "id": "550dcd9b",
   "metadata": {
    "deletable": false,
    "editable": false,
    "id": "550dcd9b"
   },
   "source": [
    "**Задание 12. Убедитесь, что все пропуски заполнены. Проверьте себя и ещё раз выведите количество пропущенных значений для каждого столбца с помощью двух методов.**"
   ]
  },
  {
   "cell_type": "code",
   "execution_count": 12,
   "id": "937c7014",
   "metadata": {
    "deletable": false,
    "id": "937c7014",
    "outputId": "8da1e4e1-358e-4e87-98c9-f261bce0a7b2"
   },
   "outputs": [
    {
     "data": {
      "text/plain": [
       "children            0\n",
       "days_employed       0\n",
       "dob_years           0\n",
       "education           0\n",
       "education_id        0\n",
       "family_status       0\n",
       "family_status_id    0\n",
       "gender              0\n",
       "income_type         0\n",
       "debt                0\n",
       "total_income        0\n",
       "purpose             0\n",
       "dtype: int64"
      ]
     },
     "execution_count": 12,
     "metadata": {},
     "output_type": "execute_result"
    }
   ],
   "source": [
    "data.isna().sum()"
   ]
  },
  {
   "cell_type": "markdown",
   "id": "d522e295",
   "metadata": {
    "deletable": false,
    "editable": false,
    "id": "d522e295"
   },
   "source": [
    "### Изменение типов данных"
   ]
  },
  {
   "cell_type": "markdown",
   "id": "c229c581",
   "metadata": {
    "deletable": false,
    "editable": false,
    "id": "c229c581"
   },
   "source": [
    "**Задание 13. Замените вещественный тип данных в столбце `total_income` на целочисленный с помощью метода `astype()`.**"
   ]
  },
  {
   "cell_type": "code",
   "execution_count": 13,
   "id": "31036462",
   "metadata": {
    "deletable": false,
    "id": "31036462"
   },
   "outputs": [],
   "source": [
    "data['total_income'] = data['total_income'].astype(int)"
   ]
  },
  {
   "cell_type": "markdown",
   "id": "b8e3d1d9",
   "metadata": {
    "deletable": false,
    "editable": false,
    "id": "b8e3d1d9"
   },
   "source": [
    "### Обработка дубликатов"
   ]
  },
  {
   "cell_type": "markdown",
   "id": "9be53c49",
   "metadata": {
    "deletable": false,
    "editable": false,
    "id": "9be53c49"
   },
   "source": [
    "**Задание 14. Обработайте неявные дубликаты в столбце `education`. В этом столбце есть одни и те же значения, но записанные по-разному: с использованием заглавных и строчных букв. Приведите их к нижнему регистру.**"
   ]
  },
  {
   "cell_type": "code",
   "execution_count": 14,
   "id": "d89e73e1",
   "metadata": {
    "deletable": false,
    "id": "d89e73e1"
   },
   "outputs": [],
   "source": [
    "data['education'] = data['education'].str.lower()"
   ]
  },
  {
   "cell_type": "markdown",
   "id": "01d4500e",
   "metadata": {
    "deletable": false,
    "editable": false,
    "id": "01d4500e"
   },
   "source": [
    "**Задание 15. Выведите на экран количество строк-дубликатов в данных. Если такие строки присутствуют, удалите их.**"
   ]
  },
  {
   "cell_type": "code",
   "execution_count": 15,
   "id": "e10efb23",
   "metadata": {
    "deletable": false,
    "id": "e10efb23",
    "outputId": "9684deba-1934-42d1-99e1-cda61740f822"
   },
   "outputs": [
    {
     "data": {
      "text/plain": [
       "71"
      ]
     },
     "execution_count": 15,
     "metadata": {},
     "output_type": "execute_result"
    }
   ],
   "source": [
    "data.duplicated().sum()"
   ]
  },
  {
   "cell_type": "code",
   "execution_count": 16,
   "id": "df853f20",
   "metadata": {
    "deletable": false,
    "id": "df853f20"
   },
   "outputs": [],
   "source": [
    "data = data.drop_duplicates()"
   ]
  },
  {
   "cell_type": "markdown",
   "id": "627be38f",
   "metadata": {
    "deletable": false,
    "editable": false,
    "id": "627be38f"
   },
   "source": [
    "### Категоризация данных"
   ]
  },
  {
   "cell_type": "markdown",
   "id": "4684c3e0",
   "metadata": {
    "deletable": false,
    "editable": false,
    "id": "4684c3e0"
   },
   "source": [
    "**Задание 16. На основании диапазонов, указанных ниже, создайте в датафрейме `data` столбец `total_income_category` с категориями:**\n",
    "\n",
    "- 0–30000 — `'E'`;\n",
    "- 30001–50000 — `'D'`;\n",
    "- 50001–200000 — `'C'`;\n",
    "- 200001–1000000 — `'B'`;\n",
    "- 1000001 и выше — `'A'`.\n",
    "\n",
    "\n",
    "**Например, кредитополучателю с доходом 25000 нужно назначить категорию `'E'`, а клиенту, получающему 235000, — `'B'`. Используйте собственную функцию с именем `categorize_income()` и метод `apply()`.**"
   ]
  },
  {
   "cell_type": "code",
   "execution_count": 17,
   "id": "78965238",
   "metadata": {
    "deletable": false,
    "id": "78965238"
   },
   "outputs": [],
   "source": [
    "def categorize_income(income):\n",
    "    try:\n",
    "        if 0 <= income <= 30000:\n",
    "            return 'E'\n",
    "        elif 30001 <= income <= 50000:\n",
    "            return 'D'\n",
    "        elif 50001 <= income <= 200000:\n",
    "            return 'C'\n",
    "        elif 200001 <= income <= 1000000:\n",
    "            return 'B'\n",
    "        elif income >= 1000001:\n",
    "            return 'A'\n",
    "    except:\n",
    "        pass"
   ]
  },
  {
   "cell_type": "code",
   "execution_count": 18,
   "id": "0980ada1",
   "metadata": {
    "deletable": false,
    "id": "0980ada1"
   },
   "outputs": [],
   "source": [
    "data['total_income_category'] = data['total_income'].apply(categorize_income)"
   ]
  },
  {
   "cell_type": "markdown",
   "id": "9917bba0",
   "metadata": {
    "deletable": false,
    "editable": false,
    "id": "9917bba0"
   },
   "source": [
    "**Задание 17. Выведите на экран перечень уникальных целей взятия кредита из столбца `purpose`.**"
   ]
  },
  {
   "cell_type": "code",
   "execution_count": 19,
   "id": "ee07b65e",
   "metadata": {
    "deletable": false,
    "id": "ee07b65e",
    "outputId": "673c12d9-7d7e-4ae0-9812-c622c89dd244"
   },
   "outputs": [
    {
     "data": {
      "text/plain": [
       "array(['покупка жилья', 'приобретение автомобиля',\n",
       "       'дополнительное образование', 'сыграть свадьбу',\n",
       "       'операции с жильем', 'образование', 'на проведение свадьбы',\n",
       "       'покупка жилья для семьи', 'покупка недвижимости',\n",
       "       'покупка коммерческой недвижимости', 'покупка жилой недвижимости',\n",
       "       'строительство собственной недвижимости', 'недвижимость',\n",
       "       'строительство недвижимости', 'на покупку подержанного автомобиля',\n",
       "       'на покупку своего автомобиля',\n",
       "       'операции с коммерческой недвижимостью',\n",
       "       'строительство жилой недвижимости', 'жилье',\n",
       "       'операции со своей недвижимостью', 'автомобили',\n",
       "       'заняться образованием', 'сделка с подержанным автомобилем',\n",
       "       'получение образования', 'автомобиль', 'свадьба',\n",
       "       'получение дополнительного образования', 'покупка своего жилья',\n",
       "       'операции с недвижимостью', 'получение высшего образования',\n",
       "       'свой автомобиль', 'сделка с автомобилем',\n",
       "       'профильное образование', 'высшее образование',\n",
       "       'покупка жилья для сдачи', 'на покупку автомобиля', 'ремонт жилью',\n",
       "       'заняться высшим образованием'], dtype=object)"
      ]
     },
     "execution_count": 19,
     "metadata": {},
     "output_type": "execute_result"
    }
   ],
   "source": [
    "data['purpose'].unique()"
   ]
  },
  {
   "cell_type": "markdown",
   "id": "52b79d56",
   "metadata": {
    "deletable": false,
    "editable": false,
    "id": "52b79d56"
   },
   "source": [
    "**Задание 18. Создайте функцию, которая на основании данных из столбца `purpose` сформирует новый столбец `purpose_category`, в который войдут следующие категории:**\n",
    "\n",
    "- `'операции с автомобилем'`,\n",
    "- `'операции с недвижимостью'`,\n",
    "- `'проведение свадьбы'`,\n",
    "- `'получение образования'`.\n",
    "\n",
    "**Например, если в столбце `purpose` находится подстрока `'на покупку автомобиля'`, то в столбце `purpose_category` должна появиться строка `'операции с автомобилем'`.**\n",
    "\n",
    "**Используйте собственную функцию с именем `categorize_purpose()` и метод `apply()`. Изучите данные в столбце `purpose` и определите, какие подстроки помогут вам правильно определить категорию.**"
   ]
  },
  {
   "cell_type": "code",
   "execution_count": 20,
   "id": "be41da5d",
   "metadata": {
    "deletable": false,
    "id": "be41da5d"
   },
   "outputs": [],
   "source": [
    "def categorize_purpose(row):\n",
    "    try:\n",
    "        if 'автом' in row:\n",
    "            return 'операции с автомобилем'\n",
    "        elif 'жил' in row or 'недвиж' in row:\n",
    "            return 'операции с недвижимостью'\n",
    "        elif 'свад' in row:\n",
    "            return 'проведение свадьбы'\n",
    "        elif 'образов' in row:\n",
    "            return 'получение образования'\n",
    "    except:\n",
    "        return 'нет категории'"
   ]
  },
  {
   "cell_type": "code",
   "execution_count": 21,
   "id": "94c4a19a",
   "metadata": {
    "deletable": false,
    "id": "94c4a19a"
   },
   "outputs": [],
   "source": [
    "data['purpose_category'] = data['purpose'].apply(categorize_purpose)"
   ]
  },
  {
   "cell_type": "markdown",
   "id": "3d596c34",
   "metadata": {
    "deletable": false,
    "editable": false,
    "id": "3d596c34"
   },
   "source": [
    "### Шаг 3. Исследуйте данные и ответьте на вопросы"
   ]
  },
  {
   "cell_type": "markdown",
   "id": "648db036",
   "metadata": {
    "deletable": false,
    "editable": false,
    "id": "648db036"
   },
   "source": [
    "#### 3.1 Есть ли зависимость между количеством детей и возвратом кредита в срок?"
   ]
  },
  {
   "cell_type": "code",
   "execution_count": 22,
   "id": "7fcff25e",
   "metadata": {
    "deletable": false,
    "id": "7fcff25e"
   },
   "outputs": [
    {
     "data": {
      "text/html": [
       "<div>\n",
       "<style scoped>\n",
       "    .dataframe tbody tr th:only-of-type {\n",
       "        vertical-align: middle;\n",
       "    }\n",
       "\n",
       "    .dataframe tbody tr th {\n",
       "        vertical-align: top;\n",
       "    }\n",
       "\n",
       "    .dataframe thead th {\n",
       "        text-align: right;\n",
       "    }\n",
       "</style>\n",
       "<table border=\"1\" class=\"dataframe\">\n",
       "  <thead>\n",
       "    <tr style=\"text-align: right;\">\n",
       "      <th></th>\n",
       "      <th>total</th>\n",
       "      <th>target</th>\n",
       "      <th>debt_ratio%</th>\n",
       "    </tr>\n",
       "    <tr>\n",
       "      <th>children</th>\n",
       "      <th></th>\n",
       "      <th></th>\n",
       "      <th></th>\n",
       "    </tr>\n",
       "  </thead>\n",
       "  <tbody>\n",
       "    <tr>\n",
       "      <th>5</th>\n",
       "      <td>9</td>\n",
       "      <td>0</td>\n",
       "      <td>0.000</td>\n",
       "    </tr>\n",
       "    <tr>\n",
       "      <th>0</th>\n",
       "      <td>14091</td>\n",
       "      <td>1063</td>\n",
       "      <td>7.544</td>\n",
       "    </tr>\n",
       "    <tr>\n",
       "      <th>3</th>\n",
       "      <td>330</td>\n",
       "      <td>27</td>\n",
       "      <td>8.182</td>\n",
       "    </tr>\n",
       "    <tr>\n",
       "      <th>1</th>\n",
       "      <td>4808</td>\n",
       "      <td>444</td>\n",
       "      <td>9.235</td>\n",
       "    </tr>\n",
       "    <tr>\n",
       "      <th>2</th>\n",
       "      <td>2052</td>\n",
       "      <td>194</td>\n",
       "      <td>9.454</td>\n",
       "    </tr>\n",
       "    <tr>\n",
       "      <th>4</th>\n",
       "      <td>41</td>\n",
       "      <td>4</td>\n",
       "      <td>9.756</td>\n",
       "    </tr>\n",
       "  </tbody>\n",
       "</table>\n",
       "</div>"
      ],
      "text/plain": [
       "          total  target  debt_ratio%\n",
       "children                            \n",
       "5             9       0        0.000\n",
       "0         14091    1063        7.544\n",
       "3           330      27        8.182\n",
       "1          4808     444        9.235\n",
       "2          2052     194        9.454\n",
       "4            41       4        9.756"
      ]
     },
     "execution_count": 22,
     "metadata": {},
     "output_type": "execute_result"
    }
   ],
   "source": [
    "children_group_debt = data.pivot_table(index = [ 'children'], values = 'debt', aggfunc = {'count','sum'})\n",
    "children_group_debt = children_group_debt.rename(columns={'count':'total','sum':'target'})\n",
    "children_group_debt['debt_ratio%'] = round(children_group_debt['target']/children_group_debt['total'], 5).multiply(100)\n",
    "children_group_debt = children_group_debt.sort_values(by='debt_ratio%', ascending=True)\n",
    "children_group_debt"
   ]
  },
  {
   "cell_type": "markdown",
   "id": "62d497f5",
   "metadata": {},
   "source": [
    "создала сводную таблицу в которой индексом выступила колонка \"children\", суммировано общее количество кредитов по группе \"total\", суммированы просрочки в колонке \"target\" и посчитана доля просрочек по группировке \"ratio\".\n",
    "\n",
    "По таблице видно, что самая многочисленная категория заемщиков - не имеющие детей. \n",
    "\n",
    "Категория с пятью и четырьмя детьми невелика, на мой взгляд целесообразно сгруппировать заемщиков имеющих три, четыре и пять детей в одну группу."
   ]
  },
  {
   "cell_type": "code",
   "execution_count": 23,
   "id": "f7f7fc63",
   "metadata": {},
   "outputs": [],
   "source": [
    "def children_group(row):\n",
    "    child = row['children']\n",
    "    if child == 0:\n",
    "        return 'Нет детей'\n",
    "    if child == 1:\n",
    "        return 'Один ребенок'\n",
    "    if child == 2:\n",
    "        return  'Два ребенка'\n",
    "    if child >= 3:\n",
    "        return 'Три и более детей'\n",
    "    return 'Не определено'"
   ]
  },
  {
   "cell_type": "markdown",
   "id": "2ad18760",
   "metadata": {},
   "source": [
    "создана функция, которая сгруппирует заемщиков по наличию и количеству детей."
   ]
  },
  {
   "cell_type": "code",
   "execution_count": 24,
   "id": "2a989400",
   "metadata": {},
   "outputs": [
    {
     "data": {
      "text/html": [
       "<div>\n",
       "<style scoped>\n",
       "    .dataframe tbody tr th:only-of-type {\n",
       "        vertical-align: middle;\n",
       "    }\n",
       "\n",
       "    .dataframe tbody tr th {\n",
       "        vertical-align: top;\n",
       "    }\n",
       "\n",
       "    .dataframe thead th {\n",
       "        text-align: right;\n",
       "    }\n",
       "</style>\n",
       "<table border=\"1\" class=\"dataframe\">\n",
       "  <thead>\n",
       "    <tr style=\"text-align: right;\">\n",
       "      <th></th>\n",
       "      <th>children</th>\n",
       "      <th>days_employed</th>\n",
       "      <th>dob_years</th>\n",
       "      <th>education</th>\n",
       "      <th>education_id</th>\n",
       "      <th>family_status</th>\n",
       "      <th>family_status_id</th>\n",
       "      <th>gender</th>\n",
       "      <th>income_type</th>\n",
       "      <th>debt</th>\n",
       "      <th>total_income</th>\n",
       "      <th>purpose</th>\n",
       "      <th>total_income_category</th>\n",
       "      <th>purpose_category</th>\n",
       "      <th>having_children</th>\n",
       "    </tr>\n",
       "  </thead>\n",
       "  <tbody>\n",
       "    <tr>\n",
       "      <th>0</th>\n",
       "      <td>1</td>\n",
       "      <td>8437.673028</td>\n",
       "      <td>42</td>\n",
       "      <td>высшее</td>\n",
       "      <td>0</td>\n",
       "      <td>женат / замужем</td>\n",
       "      <td>0</td>\n",
       "      <td>F</td>\n",
       "      <td>сотрудник</td>\n",
       "      <td>0</td>\n",
       "      <td>253875</td>\n",
       "      <td>покупка жилья</td>\n",
       "      <td>B</td>\n",
       "      <td>операции с недвижимостью</td>\n",
       "      <td>Один ребенок</td>\n",
       "    </tr>\n",
       "    <tr>\n",
       "      <th>1</th>\n",
       "      <td>1</td>\n",
       "      <td>4024.803754</td>\n",
       "      <td>36</td>\n",
       "      <td>среднее</td>\n",
       "      <td>1</td>\n",
       "      <td>женат / замужем</td>\n",
       "      <td>0</td>\n",
       "      <td>F</td>\n",
       "      <td>сотрудник</td>\n",
       "      <td>0</td>\n",
       "      <td>112080</td>\n",
       "      <td>приобретение автомобиля</td>\n",
       "      <td>C</td>\n",
       "      <td>операции с автомобилем</td>\n",
       "      <td>Один ребенок</td>\n",
       "    </tr>\n",
       "    <tr>\n",
       "      <th>2</th>\n",
       "      <td>0</td>\n",
       "      <td>5623.422610</td>\n",
       "      <td>33</td>\n",
       "      <td>среднее</td>\n",
       "      <td>1</td>\n",
       "      <td>женат / замужем</td>\n",
       "      <td>0</td>\n",
       "      <td>M</td>\n",
       "      <td>сотрудник</td>\n",
       "      <td>0</td>\n",
       "      <td>145885</td>\n",
       "      <td>покупка жилья</td>\n",
       "      <td>C</td>\n",
       "      <td>операции с недвижимостью</td>\n",
       "      <td>Нет детей</td>\n",
       "    </tr>\n",
       "    <tr>\n",
       "      <th>3</th>\n",
       "      <td>3</td>\n",
       "      <td>4124.747207</td>\n",
       "      <td>32</td>\n",
       "      <td>среднее</td>\n",
       "      <td>1</td>\n",
       "      <td>женат / замужем</td>\n",
       "      <td>0</td>\n",
       "      <td>M</td>\n",
       "      <td>сотрудник</td>\n",
       "      <td>0</td>\n",
       "      <td>267628</td>\n",
       "      <td>дополнительное образование</td>\n",
       "      <td>B</td>\n",
       "      <td>получение образования</td>\n",
       "      <td>Три и более детей</td>\n",
       "    </tr>\n",
       "    <tr>\n",
       "      <th>4</th>\n",
       "      <td>0</td>\n",
       "      <td>340266.072047</td>\n",
       "      <td>53</td>\n",
       "      <td>среднее</td>\n",
       "      <td>1</td>\n",
       "      <td>гражданский брак</td>\n",
       "      <td>1</td>\n",
       "      <td>F</td>\n",
       "      <td>пенсионер</td>\n",
       "      <td>0</td>\n",
       "      <td>158616</td>\n",
       "      <td>сыграть свадьбу</td>\n",
       "      <td>C</td>\n",
       "      <td>проведение свадьбы</td>\n",
       "      <td>Нет детей</td>\n",
       "    </tr>\n",
       "    <tr>\n",
       "      <th>...</th>\n",
       "      <td>...</td>\n",
       "      <td>...</td>\n",
       "      <td>...</td>\n",
       "      <td>...</td>\n",
       "      <td>...</td>\n",
       "      <td>...</td>\n",
       "      <td>...</td>\n",
       "      <td>...</td>\n",
       "      <td>...</td>\n",
       "      <td>...</td>\n",
       "      <td>...</td>\n",
       "      <td>...</td>\n",
       "      <td>...</td>\n",
       "      <td>...</td>\n",
       "      <td>...</td>\n",
       "    </tr>\n",
       "    <tr>\n",
       "      <th>21520</th>\n",
       "      <td>1</td>\n",
       "      <td>4529.316663</td>\n",
       "      <td>43</td>\n",
       "      <td>среднее</td>\n",
       "      <td>1</td>\n",
       "      <td>гражданский брак</td>\n",
       "      <td>1</td>\n",
       "      <td>F</td>\n",
       "      <td>компаньон</td>\n",
       "      <td>0</td>\n",
       "      <td>224791</td>\n",
       "      <td>операции с жильем</td>\n",
       "      <td>B</td>\n",
       "      <td>операции с недвижимостью</td>\n",
       "      <td>Один ребенок</td>\n",
       "    </tr>\n",
       "    <tr>\n",
       "      <th>21521</th>\n",
       "      <td>0</td>\n",
       "      <td>343937.404131</td>\n",
       "      <td>67</td>\n",
       "      <td>среднее</td>\n",
       "      <td>1</td>\n",
       "      <td>женат / замужем</td>\n",
       "      <td>0</td>\n",
       "      <td>F</td>\n",
       "      <td>пенсионер</td>\n",
       "      <td>0</td>\n",
       "      <td>155999</td>\n",
       "      <td>сделка с автомобилем</td>\n",
       "      <td>C</td>\n",
       "      <td>операции с автомобилем</td>\n",
       "      <td>Нет детей</td>\n",
       "    </tr>\n",
       "    <tr>\n",
       "      <th>21522</th>\n",
       "      <td>1</td>\n",
       "      <td>2113.346888</td>\n",
       "      <td>38</td>\n",
       "      <td>среднее</td>\n",
       "      <td>1</td>\n",
       "      <td>гражданский брак</td>\n",
       "      <td>1</td>\n",
       "      <td>M</td>\n",
       "      <td>сотрудник</td>\n",
       "      <td>1</td>\n",
       "      <td>89672</td>\n",
       "      <td>недвижимость</td>\n",
       "      <td>C</td>\n",
       "      <td>операции с недвижимостью</td>\n",
       "      <td>Один ребенок</td>\n",
       "    </tr>\n",
       "    <tr>\n",
       "      <th>21523</th>\n",
       "      <td>3</td>\n",
       "      <td>3112.481705</td>\n",
       "      <td>38</td>\n",
       "      <td>среднее</td>\n",
       "      <td>1</td>\n",
       "      <td>женат / замужем</td>\n",
       "      <td>0</td>\n",
       "      <td>M</td>\n",
       "      <td>сотрудник</td>\n",
       "      <td>1</td>\n",
       "      <td>244093</td>\n",
       "      <td>на покупку своего автомобиля</td>\n",
       "      <td>B</td>\n",
       "      <td>операции с автомобилем</td>\n",
       "      <td>Три и более детей</td>\n",
       "    </tr>\n",
       "    <tr>\n",
       "      <th>21524</th>\n",
       "      <td>2</td>\n",
       "      <td>1984.507589</td>\n",
       "      <td>40</td>\n",
       "      <td>среднее</td>\n",
       "      <td>1</td>\n",
       "      <td>женат / замужем</td>\n",
       "      <td>0</td>\n",
       "      <td>F</td>\n",
       "      <td>сотрудник</td>\n",
       "      <td>0</td>\n",
       "      <td>82047</td>\n",
       "      <td>на покупку автомобиля</td>\n",
       "      <td>C</td>\n",
       "      <td>операции с автомобилем</td>\n",
       "      <td>Два ребенка</td>\n",
       "    </tr>\n",
       "  </tbody>\n",
       "</table>\n",
       "<p>21331 rows × 15 columns</p>\n",
       "</div>"
      ],
      "text/plain": [
       "       children  days_employed  dob_years education  education_id  \\\n",
       "0             1    8437.673028         42    высшее             0   \n",
       "1             1    4024.803754         36   среднее             1   \n",
       "2             0    5623.422610         33   среднее             1   \n",
       "3             3    4124.747207         32   среднее             1   \n",
       "4             0  340266.072047         53   среднее             1   \n",
       "...         ...            ...        ...       ...           ...   \n",
       "21520         1    4529.316663         43   среднее             1   \n",
       "21521         0  343937.404131         67   среднее             1   \n",
       "21522         1    2113.346888         38   среднее             1   \n",
       "21523         3    3112.481705         38   среднее             1   \n",
       "21524         2    1984.507589         40   среднее             1   \n",
       "\n",
       "          family_status  family_status_id gender income_type  debt  \\\n",
       "0       женат / замужем                 0      F   сотрудник     0   \n",
       "1       женат / замужем                 0      F   сотрудник     0   \n",
       "2       женат / замужем                 0      M   сотрудник     0   \n",
       "3       женат / замужем                 0      M   сотрудник     0   \n",
       "4      гражданский брак                 1      F   пенсионер     0   \n",
       "...                 ...               ...    ...         ...   ...   \n",
       "21520  гражданский брак                 1      F   компаньон     0   \n",
       "21521   женат / замужем                 0      F   пенсионер     0   \n",
       "21522  гражданский брак                 1      M   сотрудник     1   \n",
       "21523   женат / замужем                 0      M   сотрудник     1   \n",
       "21524   женат / замужем                 0      F   сотрудник     0   \n",
       "\n",
       "       total_income                       purpose total_income_category  \\\n",
       "0            253875                 покупка жилья                     B   \n",
       "1            112080       приобретение автомобиля                     C   \n",
       "2            145885                 покупка жилья                     C   \n",
       "3            267628    дополнительное образование                     B   \n",
       "4            158616               сыграть свадьбу                     C   \n",
       "...             ...                           ...                   ...   \n",
       "21520        224791             операции с жильем                     B   \n",
       "21521        155999          сделка с автомобилем                     C   \n",
       "21522         89672                  недвижимость                     C   \n",
       "21523        244093  на покупку своего автомобиля                     B   \n",
       "21524         82047         на покупку автомобиля                     C   \n",
       "\n",
       "               purpose_category    having_children  \n",
       "0      операции с недвижимостью       Один ребенок  \n",
       "1        операции с автомобилем       Один ребенок  \n",
       "2      операции с недвижимостью          Нет детей  \n",
       "3         получение образования  Три и более детей  \n",
       "4            проведение свадьбы          Нет детей  \n",
       "...                         ...                ...  \n",
       "21520  операции с недвижимостью       Один ребенок  \n",
       "21521    операции с автомобилем          Нет детей  \n",
       "21522  операции с недвижимостью       Один ребенок  \n",
       "21523    операции с автомобилем  Три и более детей  \n",
       "21524    операции с автомобилем        Два ребенка  \n",
       "\n",
       "[21331 rows x 15 columns]"
      ]
     },
     "execution_count": 24,
     "metadata": {},
     "output_type": "execute_result"
    }
   ],
   "source": [
    "data['having_children'] = data.apply(children_group, axis=1)\n",
    "data"
   ]
  },
  {
   "cell_type": "markdown",
   "id": "f3ee912a",
   "metadata": {},
   "source": [
    "\n",
    "добавила в датафрейм \"data\" столбец с результатами категоризации заемщиков по наличию и количеству детей - \"having_children\"\n"
   ]
  },
  {
   "cell_type": "code",
   "execution_count": 25,
   "id": "b9ed3162",
   "metadata": {},
   "outputs": [
    {
     "data": {
      "text/html": [
       "<style  type=\"text/css\" >\n",
       "#T_4fc67_row0_col2{\n",
       "            background-color:  #f7fcf5;\n",
       "            color:  #000000;\n",
       "        }#T_4fc67_row1_col2{\n",
       "            background-color:  #b1e0ab;\n",
       "            color:  #000000;\n",
       "        }#T_4fc67_row2_col2{\n",
       "            background-color:  #00692a;\n",
       "            color:  #f1f1f1;\n",
       "        }#T_4fc67_row3_col2{\n",
       "            background-color:  #00441b;\n",
       "            color:  #f1f1f1;\n",
       "        }</style><table id=\"T_4fc67_\" ><thead>    <tr>        <th class=\"blank level0\" ></th>        <th class=\"col_heading level0 col0\" >total</th>        <th class=\"col_heading level0 col1\" >target</th>        <th class=\"col_heading level0 col2\" >debt_ratio%</th>        <th class=\"col_heading level0 col3\" >children_ratio%</th>    </tr>    <tr>        <th class=\"index_name level0\" >having_children</th>        <th class=\"blank\" ></th>        <th class=\"blank\" ></th>        <th class=\"blank\" ></th>        <th class=\"blank\" ></th>    </tr></thead><tbody>\n",
       "                <tr>\n",
       "                        <th id=\"T_4fc67_level0_row0\" class=\"row_heading level0 row0\" >Нет детей</th>\n",
       "                        <td id=\"T_4fc67_row0_col0\" class=\"data row0 col0\" >14091</td>\n",
       "                        <td id=\"T_4fc67_row0_col1\" class=\"data row0 col1\" >1063</td>\n",
       "                        <td id=\"T_4fc67_row0_col2\" class=\"data row0 col2\" >7.544%</td>\n",
       "                        <td id=\"T_4fc67_row0_col3\" class=\"data row0 col3\" >66.059%</td>\n",
       "            </tr>\n",
       "            <tr>\n",
       "                        <th id=\"T_4fc67_level0_row1\" class=\"row_heading level0 row1\" >Три и более детей</th>\n",
       "                        <td id=\"T_4fc67_row1_col0\" class=\"data row1 col0\" >380</td>\n",
       "                        <td id=\"T_4fc67_row1_col1\" class=\"data row1 col1\" >31</td>\n",
       "                        <td id=\"T_4fc67_row1_col2\" class=\"data row1 col2\" >8.158%</td>\n",
       "                        <td id=\"T_4fc67_row1_col3\" class=\"data row1 col3\" >1.781%</td>\n",
       "            </tr>\n",
       "            <tr>\n",
       "                        <th id=\"T_4fc67_level0_row2\" class=\"row_heading level0 row2\" >Один ребенок</th>\n",
       "                        <td id=\"T_4fc67_row2_col0\" class=\"data row2 col0\" >4808</td>\n",
       "                        <td id=\"T_4fc67_row2_col1\" class=\"data row2 col1\" >444</td>\n",
       "                        <td id=\"T_4fc67_row2_col2\" class=\"data row2 col2\" >9.235%</td>\n",
       "                        <td id=\"T_4fc67_row2_col3\" class=\"data row2 col3\" >22.540%</td>\n",
       "            </tr>\n",
       "            <tr>\n",
       "                        <th id=\"T_4fc67_level0_row3\" class=\"row_heading level0 row3\" >Два ребенка</th>\n",
       "                        <td id=\"T_4fc67_row3_col0\" class=\"data row3 col0\" >2052</td>\n",
       "                        <td id=\"T_4fc67_row3_col1\" class=\"data row3 col1\" >194</td>\n",
       "                        <td id=\"T_4fc67_row3_col2\" class=\"data row3 col2\" >9.454%</td>\n",
       "                        <td id=\"T_4fc67_row3_col3\" class=\"data row3 col3\" >9.620%</td>\n",
       "            </tr>\n",
       "    </tbody></table>"
      ],
      "text/plain": [
       "<pandas.io.formats.style.Styler at 0x7f423b75a9d0>"
      ]
     },
     "execution_count": 25,
     "metadata": {},
     "output_type": "execute_result"
    },
    {
     "data": {
      "image/png": "[encoded data removed]",
      "text/plain": [
       "<Figure size 432x288 with 1 Axes>"
      ]
     },
     "metadata": {
      "needs_background": "light"
     },
     "output_type": "display_data"
    }
   ],
   "source": [
    "children_group_debt = data.pivot_table(index = [ 'having_children'], values = 'debt', aggfunc = {'count','sum'})\n",
    "children_group_debt = children_group_debt.rename(columns={'count':'total','sum':'target'})\n",
    "children_group_debt['debt_ratio%'] = round(children_group_debt['target']/children_group_debt['total'], 5)\n",
    "children_group_debt = children_group_debt.sort_values(by='debt_ratio%', ascending=True)\n",
    "children_group_debt['children_ratio%'] = round(children_group_debt['total'] / children_group_debt['total'].sum(), 5)\n",
    "children_group_debt[['debt_ratio%', 'children_ratio%']].plot(kind=\"barh\", ec=\"white\", alpha=0.4, fontsize=10)\n",
    "children_group_debt.style.format({'debt_ratio%': '{:.3%}', 'children_ratio%': '{:.3%}'}).background_gradient(cmap='Greens',subset='debt_ratio%')\n"
   ]
  },
  {
   "cell_type": "markdown",
   "id": "6535355c",
   "metadata": {},
   "source": [
    "\n",
    "создала сводную таблицу в которой показана категория заемщиков по наличию детей и их количеству, общим количеством кредитов по группе \"total\", невозвратом \"target\", процентом просрочек по группировке \"ratio%\", процентом заемщиков по категории количества детей \"children_ratio%\"\n"
   ]
  },
  {
   "cell_type": "markdown",
   "id": "2eb9088e",
   "metadata": {
    "deletable": false,
    "id": "2eb9088e"
   },
   "source": [
    "**Вывод:**  \n",
    "    66 % заемщиков не имеет детей, у 23 % заемщиков есть один ребенок, еще 10 % заемщиков имеет двух детей. Менее 2 % заемщиков имеет три ребенка и более. \n",
    "   Разница в просрочке по выплатам кредита между группой заемщиков, имеющих  одного или двух детей - незначительна и составляет  0,22%. \n",
    "   Размер выборок категории заемщиков имеющих 3 ребенка и более невелик, процент просрочек по кредиту не выбивается из общей картины, но так как выборка невелика, то выводы по ней строить не следует.\n",
    "   \n",
    "   Исходя из полученных данных, группа заемщиков \"Нет детей\"- имеет самую низкую долю просрочек по кредиту 7,54%, по сравнению с любой из групп имеющих детей. Однако разница в просрочках по кредиту между категориями не имеющих детей и имеющих одного или двух детей, составляет менее 2%. \n",
    "    Рассматривать количества детей как прямой фактор по возвратности кредита нецелесообразно. Необходимо смотреть совокупно с другими факторами.\n",
    "   "
   ]
  },
  {
   "cell_type": "markdown",
   "id": "74c9b3a7",
   "metadata": {
    "deletable": false,
    "editable": false,
    "id": "74c9b3a7"
   },
   "source": [
    "#### 3.2 Есть ли зависимость между семейным положением и возвратом кредита в срок?"
   ]
  },
  {
   "cell_type": "code",
   "execution_count": 26,
   "id": "8098ab3b",
   "metadata": {
    "deletable": false,
    "id": "8098ab3b"
   },
   "outputs": [
    {
     "data": {
      "text/html": [
       "<style  type=\"text/css\" >\n",
       "#T_aca45_row0_col2{\n",
       "            background-color:  #f7fcf5;\n",
       "            color:  #000000;\n",
       "        }#T_aca45_row1_col2{\n",
       "            background-color:  #e2f4dd;\n",
       "            color:  #000000;\n",
       "        }#T_aca45_row2_col2{\n",
       "            background-color:  #b8e3b2;\n",
       "            color:  #000000;\n",
       "        }#T_aca45_row3_col2{\n",
       "            background-color:  #05712f;\n",
       "            color:  #f1f1f1;\n",
       "        }#T_aca45_row4_col2{\n",
       "            background-color:  #00441b;\n",
       "            color:  #f1f1f1;\n",
       "        }</style><table id=\"T_aca45_\" ><thead>    <tr>        <th class=\"blank level0\" ></th>        <th class=\"col_heading level0 col0\" >total</th>        <th class=\"col_heading level0 col1\" >target</th>        <th class=\"col_heading level0 col2\" >debt_ratio%</th>        <th class=\"col_heading level0 col3\" >status_ratio%</th>    </tr>    <tr>        <th class=\"index_name level0\" >family_status</th>        <th class=\"blank\" ></th>        <th class=\"blank\" ></th>        <th class=\"blank\" ></th>        <th class=\"blank\" ></th>    </tr></thead><tbody>\n",
       "                <tr>\n",
       "                        <th id=\"T_aca45_level0_row0\" class=\"row_heading level0 row0\" >вдовец / вдова</th>\n",
       "                        <td id=\"T_aca45_row0_col0\" class=\"data row0 col0\" >951</td>\n",
       "                        <td id=\"T_aca45_row0_col1\" class=\"data row0 col1\" >63</td>\n",
       "                        <td id=\"T_aca45_row0_col2\" class=\"data row0 col2\" >6.625%</td>\n",
       "                        <td id=\"T_aca45_row0_col3\" class=\"data row0 col3\" >4.458%</td>\n",
       "            </tr>\n",
       "            <tr>\n",
       "                        <th id=\"T_aca45_level0_row1\" class=\"row_heading level0 row1\" >в разводе</th>\n",
       "                        <td id=\"T_aca45_row1_col0\" class=\"data row1 col0\" >1189</td>\n",
       "                        <td id=\"T_aca45_row1_col1\" class=\"data row1 col1\" >84</td>\n",
       "                        <td id=\"T_aca45_row1_col2\" class=\"data row1 col2\" >7.065%</td>\n",
       "                        <td id=\"T_aca45_row1_col3\" class=\"data row1 col3\" >5.574%</td>\n",
       "            </tr>\n",
       "            <tr>\n",
       "                        <th id=\"T_aca45_level0_row2\" class=\"row_heading level0 row2\" >женат / замужем</th>\n",
       "                        <td id=\"T_aca45_row2_col0\" class=\"data row2 col0\" >12261</td>\n",
       "                        <td id=\"T_aca45_row2_col1\" class=\"data row2 col1\" >927</td>\n",
       "                        <td id=\"T_aca45_row2_col2\" class=\"data row2 col2\" >7.561%</td>\n",
       "                        <td id=\"T_aca45_row2_col3\" class=\"data row2 col3\" >57.480%</td>\n",
       "            </tr>\n",
       "            <tr>\n",
       "                        <th id=\"T_aca45_level0_row3\" class=\"row_heading level0 row3\" >гражданский брак</th>\n",
       "                        <td id=\"T_aca45_row3_col0\" class=\"data row3 col0\" >4134</td>\n",
       "                        <td id=\"T_aca45_row3_col1\" class=\"data row3 col1\" >385</td>\n",
       "                        <td id=\"T_aca45_row3_col2\" class=\"data row3 col2\" >9.313%</td>\n",
       "                        <td id=\"T_aca45_row3_col3\" class=\"data row3 col3\" >19.380%</td>\n",
       "            </tr>\n",
       "            <tr>\n",
       "                        <th id=\"T_aca45_level0_row4\" class=\"row_heading level0 row4\" >Не женат / не замужем</th>\n",
       "                        <td id=\"T_aca45_row4_col0\" class=\"data row4 col0\" >2796</td>\n",
       "                        <td id=\"T_aca45_row4_col1\" class=\"data row4 col1\" >273</td>\n",
       "                        <td id=\"T_aca45_row4_col2\" class=\"data row4 col2\" >9.764%</td>\n",
       "                        <td id=\"T_aca45_row4_col3\" class=\"data row4 col3\" >13.108%</td>\n",
       "            </tr>\n",
       "    </tbody></table>"
      ],
      "text/plain": [
       "<pandas.io.formats.style.Styler at 0x7f423300b280>"
      ]
     },
     "execution_count": 26,
     "metadata": {},
     "output_type": "execute_result"
    },
    {
     "data": {
      "image/png": "[encoded data removed]",
      "text/plain": [
       "<Figure size 432x288 with 1 Axes>"
      ]
     },
     "metadata": {
      "needs_background": "light"
     },
     "output_type": "display_data"
    }
   ],
   "source": [
    "family_status_debt = data.pivot_table(index = ['family_status'], values = 'debt', aggfunc = {'count','sum'})\n",
    "family_status_debt = family_status_debt.rename(columns={'count':'total','sum':'target'})\n",
    "family_status_debt['debt_ratio%'] = round(family_status_debt['target']/family_status_debt['total'], 5) \n",
    "family_status_debt['status_ratio%'] = round(family_status_debt['total'] / family_status_debt['total'].sum(), 5)\n",
    "family_status_debt = family_status_debt.sort_values(by='debt_ratio%', ascending=True)\n",
    "family_status_debt[['debt_ratio%', 'status_ratio%']].plot(kind=\"barh\", ec=\"white\", alpha=0.4, fontsize=10)\n",
    "family_status_debt.style.format({'debt_ratio%': '{:.3%}', 'status_ratio%': '{:.3%}'}).background_gradient(cmap='Greens',subset='debt_ratio%')"
   ]
  },
  {
   "cell_type": "markdown",
   "id": "ffd6ec4f",
   "metadata": {},
   "source": [
    "создала сводную таблицу \"family_status_debt\" в которой индексом выступила колонка \"family_status\", суммировано общее количество кредитов по группе \"total\", суммированы просрочки в колонке \"target\" и посчитан % просрочек по группировке \"debt_ratio%\", добавлена колонка с семейным статусом заемщика в % от общего числа заемщика 'status_ratio%'.\n"
   ]
  },
  {
   "cell_type": "markdown",
   "id": "c389ca63",
   "metadata": {
    "deletable": false,
    "id": "c389ca63"
   },
   "source": [
    "**Вывод:**\n",
    "Зависимость между семейным положением и возвратом кредита в срок прослеживается.\n",
    "\n",
    "Большая доля невозвратов 9,76% приходится на категорию не состоящих в браке, они занимают пятое, последнее место в рейтинге благонадежности заемщика, причем % невозвратов у сожительствующих людей сопоставима с не состоящими в браке - 9,31%, они занимают четвертое место. \n",
    "\n",
    "Предполагаемые причины такой доли просрочек по кредиту: молодой возраст, незрелое чувство ответственности, нестабильное финансовое положение, неумение вести семейный бюджет и распределять личные средства.\n",
    "\n",
    "Наименьшее число невозвратов в групп со статусом вдовец/вдова и в разводе 6,62%. \n",
    "\n",
    "С одной стороны - это одинокие люди как и не женатые/не замужние, с другой стороны доля невозвратов у этих групп наименьшая, а у тех, кто не состоял в браке - наибольшая.\n",
    "\n",
    "Можно предположить, что фактором различия между  группами никогда не соостоящих в браке и ранее состоящих в браке, является возраст. Состоявшие ранее в браке, с большей долей вероятности старше по возрасту в общей массе, чем ранее не состоявшие, что в свою очередь добавляет вероятность наличия большего опыта работы у первых и, как следствие - наличия стабильного заработка. Что совокупно уменьшает долю невозвратности в группе ранее состоявших в браке.\n",
    "\n",
    "Группа состоящих в настоящее время в браке на третьем месте по количеству просрочек кредитов -7,56%, это косвенно вписывется в вышеизложенную гипотезу про возраст. Вероятно люди, состоящие в официальном браке в среднем старше, чем не состоящие, соответственно доля невозвратов уменьшена. Чтобы подтвердить или опровергнуть эту гипотезу необходимо смотреть средний возраст состоящих в браке, не состоящих и ранее состоящий в браке.\n",
    "\n",
    "Если не рассматривать заемщиков в разрезе возраста и других факторов, а только лишь по семейному положению, то люди никогда не состоявшиев официальном браке, а сюда входит группа \"гражданский брак\" и \"Не женат / не замужем\" - категория заемщиков имеющая большую долю просрочек по кредитам. Что видно на представленном графике.\n"
   ]
  },
  {
   "cell_type": "markdown",
   "id": "9529de68",
   "metadata": {
    "deletable": false,
    "editable": false,
    "id": "9529de68"
   },
   "source": [
    "#### 3.3 Есть ли зависимость между уровнем дохода и возвратом кредита в срок?"
   ]
  },
  {
   "cell_type": "code",
   "execution_count": 27,
   "id": "8787f44a",
   "metadata": {
    "deletable": false,
    "id": "8787f44a"
   },
   "outputs": [
    {
     "data": {
      "text/html": [
       "<style  type=\"text/css\" >\n",
       "#T_5aff0_row0_col2{\n",
       "            background-color:  #137d39;\n",
       "            color:  #f1f1f1;\n",
       "        }#T_5aff0_row1_col2{\n",
       "            background-color:  #acdea6;\n",
       "            color:  #000000;\n",
       "        }#T_5aff0_row2_col2{\n",
       "            background-color:  #f7fcf5;\n",
       "            color:  #000000;\n",
       "        }#T_5aff0_row3_col2{\n",
       "            background-color:  #3ca559;\n",
       "            color:  #000000;\n",
       "        }#T_5aff0_row4_col2{\n",
       "            background-color:  #00441b;\n",
       "            color:  #f1f1f1;\n",
       "        }</style><table id=\"T_5aff0_\" ><thead>    <tr>        <th class=\"blank level0\" ></th>        <th class=\"col_heading level0 col0\" >total</th>        <th class=\"col_heading level0 col1\" >target</th>        <th class=\"col_heading level0 col2\" >debt_ratio%</th>        <th class=\"col_heading level0 col3\" >income_ratio%</th>    </tr>    <tr>        <th class=\"index_name level0\" >total_income_category</th>        <th class=\"blank\" ></th>        <th class=\"blank\" ></th>        <th class=\"blank\" ></th>        <th class=\"blank\" ></th>    </tr></thead><tbody>\n",
       "                <tr>\n",
       "                        <th id=\"T_5aff0_level0_row0\" class=\"row_heading level0 row0\" >C</th>\n",
       "                        <td id=\"T_5aff0_row0_col0\" class=\"data row0 col0\" >15921</td>\n",
       "                        <td id=\"T_5aff0_row0_col1\" class=\"data row0 col1\" >1353</td>\n",
       "                        <td id=\"T_5aff0_row0_col2\" class=\"data row0 col2\" >8.498%</td>\n",
       "                        <td id=\"T_5aff0_row0_col3\" class=\"data row0 col3\" >74.638%</td>\n",
       "            </tr>\n",
       "            <tr>\n",
       "                        <th id=\"T_5aff0_level0_row1\" class=\"row_heading level0 row1\" >B</th>\n",
       "                        <td id=\"T_5aff0_row1_col0\" class=\"data row1 col0\" >5014</td>\n",
       "                        <td id=\"T_5aff0_row1_col1\" class=\"data row1 col1\" >354</td>\n",
       "                        <td id=\"T_5aff0_row1_col2\" class=\"data row1 col2\" >7.060%</td>\n",
       "                        <td id=\"T_5aff0_row1_col3\" class=\"data row1 col3\" >23.506%</td>\n",
       "            </tr>\n",
       "            <tr>\n",
       "                        <th id=\"T_5aff0_level0_row2\" class=\"row_heading level0 row2\" >D</th>\n",
       "                        <td id=\"T_5aff0_row2_col0\" class=\"data row2 col0\" >349</td>\n",
       "                        <td id=\"T_5aff0_row2_col1\" class=\"data row2 col1\" >21</td>\n",
       "                        <td id=\"T_5aff0_row2_col2\" class=\"data row2 col2\" >6.017%</td>\n",
       "                        <td id=\"T_5aff0_row2_col3\" class=\"data row2 col3\" >1.636%</td>\n",
       "            </tr>\n",
       "            <tr>\n",
       "                        <th id=\"T_5aff0_level0_row3\" class=\"row_heading level0 row3\" >A</th>\n",
       "                        <td id=\"T_5aff0_row3_col0\" class=\"data row3 col0\" >25</td>\n",
       "                        <td id=\"T_5aff0_row3_col1\" class=\"data row3 col1\" >2</td>\n",
       "                        <td id=\"T_5aff0_row3_col2\" class=\"data row3 col2\" >8.000%</td>\n",
       "                        <td id=\"T_5aff0_row3_col3\" class=\"data row3 col3\" >0.117%</td>\n",
       "            </tr>\n",
       "            <tr>\n",
       "                        <th id=\"T_5aff0_level0_row4\" class=\"row_heading level0 row4\" >E</th>\n",
       "                        <td id=\"T_5aff0_row4_col0\" class=\"data row4 col0\" >22</td>\n",
       "                        <td id=\"T_5aff0_row4_col1\" class=\"data row4 col1\" >2</td>\n",
       "                        <td id=\"T_5aff0_row4_col2\" class=\"data row4 col2\" >9.091%</td>\n",
       "                        <td id=\"T_5aff0_row4_col3\" class=\"data row4 col3\" >0.103%</td>\n",
       "            </tr>\n",
       "    </tbody></table>"
      ],
      "text/plain": [
       "<pandas.io.formats.style.Styler at 0x7f4232ced040>"
      ]
     },
     "execution_count": 27,
     "metadata": {},
     "output_type": "execute_result"
    },
    {
     "data": {
      "image/png": "[encoded data removed]",
      "text/plain": [
       "<Figure size 432x288 with 1 Axes>"
      ]
     },
     "metadata": {
      "needs_background": "light"
     },
     "output_type": "display_data"
    }
   ],
   "source": [
    "income_debt = data.pivot_table(index = ['total_income_category'], values = 'debt', aggfunc = {'count','sum'})\n",
    "income_debt = income_debt.rename(columns={'count':'total','sum':'target'})\n",
    "income_debt['debt_ratio%'] = round(income_debt['target']/income_debt['total'], 6)\n",
    "income_debt['income_ratio%'] = round(income_debt['total'] / income_debt['total'].sum(), 6)\n",
    "income_debt = income_debt.sort_values(by='income_ratio%', ascending=False)\n",
    "income_debt[['debt_ratio%', 'income_ratio%']].plot(kind=\"barh\", ec=\"red\", alpha=0.4, fontsize=18)\n",
    "income_debt.style.format({'debt_ratio%': '{:.3%}', 'income_ratio%': '{:.3%}'}).background_gradient(cmap='Greens',subset='debt_ratio%')"
   ]
  },
  {
   "cell_type": "markdown",
   "id": "4db54d48",
   "metadata": {},
   "source": [
    "\n",
    "'total_income_category'содержит информацию об уровне дохода, разбитому по категориями:\n",
    "- 0–30000 — 'E';\n",
    "- 30001–50000 — 'D';\n",
    "- 50001–200000 — 'C';\n",
    "- 200001–1000000 — 'B';\n",
    "- 1000001 и выше — 'A'.\n",
    "\n",
    "Создала сводную таблицу с данными из колонки 'total_income_category', также суммировано общее количество кредитов по группе \"total\", суммированы просрочки в колонке \"target\" и посчитан % просрочек по группировке \"ratio%\", добавлена колонка % соотношение заемщиков по категории дохода, отсортировала по этой колонке.\n",
    "\n",
    "добавлен график с горизонтальными полосами для каждой категории заемщиков с % от общего числа заемщиков и % по наличию просрочек по кредиту."
   ]
  },
  {
   "cell_type": "markdown",
   "id": "6dd14b57",
   "metadata": {
    "deletable": false,
    "id": "6dd14b57"
   },
   "source": [
    "**Вывод:** \n",
    "Исходя из данных анализа, зависимость между уровнем дохода и возвратом кредита в срок прослеживается. Самый благонадежный заемщик имеет уровень дохода от 200 001 до 1 000 000, относится к категории \"В\".\n",
    "\n",
    "Заемщики сгруппированы на 5 категорий по размеру ежемесячных доходов. \n",
    "\n",
    "Самая многочисленная категория заемщиков \"С\" - 74,64% - это люди с доходом от 50 000 до 200 000.\n",
    "\n",
    "Второе место у заемщиков категории \"В\" - 23,51% с ежемесячным доходом 200 001 - 1 000 000.\n",
    "\n",
    "Из графика по группе заемщиков \"С\" и \"В\" видно, что у самой многочисленной группы С уровень наличия просрочки по кредиту выше, чем у группы \"В\". Однако видно по графику, что средний уровень наличия просрочек по кредиту всеже не сильно выбивается из общей массы.\n",
    "\n",
    "Если сравнивнить две самые многочисленные группы заемщиков \"С\" и \"В\", то наличие просрочек по кредитам составляет:\n",
    "у группы \"С\"  8,5%;\n",
    "у группы \"В\"  7,1%.\n",
    "\n",
    "Можно предположить, что более высокий уровень дохода у заемщиков, а именно в диапазоне от  200 001 до 1 000 000 делает этих людей более платежеспособными,чем группу с доходами от 50 001 до 200 000. Возможно стоит сгруппировать заемщиков по доходам исходя из других критериев, чтобы сравнить результаты.\n",
    "\n",
    "Три группы заемщиков делят 3,4, и 5 места в рейтинге по самому высокому % среди заемщиков по уровню дохода.\n",
    "\n",
    "Это заемщики с доходами по группам \"D\", \"A\", \"E\". \n",
    "Они имеют самый низкий процент среди всех заемщиков 1,64%, 0,12% и 0,10% соответственно и выбиваются из общего числа заемщиков. Заемщиков у которых доход до 30 000 - 0,10% среди всех заемщиков. Можнол предположить с большей долей вероятности,что уровень дохода у этих заемщиков на выплату кредита недостаточен. \n",
    "\n",
    "Категория заемщиков с доходом  свыше 1 000 000 составляет 0,12%. \n",
    "\n",
    "Такой уровень дохода не является средним и распространенным, поэтому такой низкий% вполне обоснован и не выглядит аномально. Заемщиков категории \"D\" с доходом в диапазоне от 30 001 до 50000 уже больше - 1,61%, но по все еще низок.Вероятно такой уровнь дохода все еще недостаточен для погашения кредита и % по нему.\n",
    "\n",
    "Выводы по категориям заемщиков \"D\", \"A\", \"E\" делать не целесобразно из-за слишком маленькой выборки."
   ]
  },
  {
   "cell_type": "markdown",
   "id": "1dcc9b12",
   "metadata": {
    "deletable": false,
    "editable": false,
    "id": "1dcc9b12"
   },
   "source": [
    "#### 3.4 Как разные цели кредита влияют на его возврат в срок?"
   ]
  },
  {
   "cell_type": "code",
   "execution_count": 28,
   "id": "c602bc8b",
   "metadata": {
    "deletable": false,
    "id": "c602bc8b"
   },
   "outputs": [
    {
     "data": {
      "text/html": [
       "<style  type=\"text/css\" >\n",
       "#T_15c61_row0_col2{\n",
       "            background-color:  #f7fcf5;\n",
       "            color:  #000000;\n",
       "        }#T_15c61_row1_col2{\n",
       "            background-color:  #00441b;\n",
       "            color:  #f1f1f1;\n",
       "        }#T_15c61_row2_col2{\n",
       "            background-color:  #005221;\n",
       "            color:  #f1f1f1;\n",
       "        }#T_15c61_row3_col2{\n",
       "            background-color:  #b4e1ad;\n",
       "            color:  #000000;\n",
       "        }</style><table id=\"T_15c61_\" ><thead>    <tr>        <th class=\"blank level0\" ></th>        <th class=\"col_heading level0 col0\" >total</th>        <th class=\"col_heading level0 col1\" >target</th>        <th class=\"col_heading level0 col2\" >debt_ratio%</th>        <th class=\"col_heading level0 col3\" >purpose_ratio%</th>    </tr>    <tr>        <th class=\"index_name level0\" >purpose_category</th>        <th class=\"blank\" ></th>        <th class=\"blank\" ></th>        <th class=\"blank\" ></th>        <th class=\"blank\" ></th>    </tr></thead><tbody>\n",
       "                <tr>\n",
       "                        <th id=\"T_15c61_level0_row0\" class=\"row_heading level0 row0\" >операции с недвижимостью</th>\n",
       "                        <td id=\"T_15c61_row0_col0\" class=\"data row0 col0\" >10751</td>\n",
       "                        <td id=\"T_15c61_row0_col1\" class=\"data row0 col1\" >780</td>\n",
       "                        <td id=\"T_15c61_row0_col2\" class=\"data row0 col2\" >7.255%</td>\n",
       "                        <td id=\"T_15c61_row0_col3\" class=\"data row0 col3\" >50.401%</td>\n",
       "            </tr>\n",
       "            <tr>\n",
       "                        <th id=\"T_15c61_level0_row1\" class=\"row_heading level0 row1\" >операции с автомобилем</th>\n",
       "                        <td id=\"T_15c61_row1_col0\" class=\"data row1 col0\" >4279</td>\n",
       "                        <td id=\"T_15c61_row1_col1\" class=\"data row1 col1\" >400</td>\n",
       "                        <td id=\"T_15c61_row1_col2\" class=\"data row1 col2\" >9.348%</td>\n",
       "                        <td id=\"T_15c61_row1_col3\" class=\"data row1 col3\" >20.060%</td>\n",
       "            </tr>\n",
       "            <tr>\n",
       "                        <th id=\"T_15c61_level0_row2\" class=\"row_heading level0 row2\" >получение образования</th>\n",
       "                        <td id=\"T_15c61_row2_col0\" class=\"data row2 col0\" >3988</td>\n",
       "                        <td id=\"T_15c61_row2_col1\" class=\"data row2 col1\" >369</td>\n",
       "                        <td id=\"T_15c61_row2_col2\" class=\"data row2 col2\" >9.253%</td>\n",
       "                        <td id=\"T_15c61_row2_col3\" class=\"data row2 col3\" >18.696%</td>\n",
       "            </tr>\n",
       "            <tr>\n",
       "                        <th id=\"T_15c61_level0_row3\" class=\"row_heading level0 row3\" >проведение свадьбы</th>\n",
       "                        <td id=\"T_15c61_row3_col0\" class=\"data row3 col0\" >2313</td>\n",
       "                        <td id=\"T_15c61_row3_col1\" class=\"data row3 col1\" >183</td>\n",
       "                        <td id=\"T_15c61_row3_col2\" class=\"data row3 col2\" >7.912%</td>\n",
       "                        <td id=\"T_15c61_row3_col3\" class=\"data row3 col3\" >10.843%</td>\n",
       "            </tr>\n",
       "    </tbody></table>"
      ],
      "text/plain": [
       "<pandas.io.formats.style.Styler at 0x7f4232ced850>"
      ]
     },
     "execution_count": 28,
     "metadata": {},
     "output_type": "execute_result"
    },
    {
     "data": {
      "image/png": "[encoded data removed]",
      "text/plain": [
       "<Figure size 432x288 with 1 Axes>"
      ]
     },
     "metadata": {
      "needs_background": "light"
     },
     "output_type": "display_data"
    }
   ],
   "source": [
    "purpose_debt = data.pivot_table(index = ['purpose_category'], values = 'debt', aggfunc = {'count', 'sum'})\n",
    "purpose_debt = purpose_debt.rename(columns={'count': 'total', 'sum': 'target'})\n",
    "purpose_debt['debt_ratio%'] = round(purpose_debt['target']/purpose_debt['total'], 6)\n",
    "purpose_debt['purpose_ratio%'] = round((purpose_debt['total'] / purpose_debt['total'].sum()), 6)\n",
    "purpose_debt = purpose_debt.sort_values(by='total', ascending=False)\n",
    "purpose_debt[['debt_ratio%', 'purpose_ratio%']].plot(kind=\"barh\", ec=\"red\", alpha=0.4, fontsize=18)\n",
    "purpose_debt.style.format({'debt_ratio%': '{:.3%}', 'purpose_ratio%': '{:.3%}'}).background_gradient(cmap='Greens',subset='debt_ratio%')"
   ]
  },
  {
   "cell_type": "markdown",
   "id": "4848769d",
   "metadata": {},
   "source": [
    "\n",
    "в таблице \"data\" в колонке \"purpose_category\" цели кредита сгруппированы на следующие категории:\n",
    " - 'операции с автомобилем',\n",
    " - 'операции с недвижимостью',\n",
    " - 'проведение свадьбы',\n",
    " - 'получение образования'.\n",
    "\n",
    "создала сводную таблицу \"ppurpose_debt\" в которой индексом выступила колонка \"purpose_category\", \n",
    "\n",
    "суммировано общее количество кредитов по группе \"total\", \n",
    "\n",
    "суммированы просрочки в колонке \"target\" и \n",
    "\n",
    "посчитан % просрочек по группировке \"ratio%\", \n",
    "добавлена колонка \"purpose_ratio%\" с величиной % отношения по цели кредита от общих взятых кредитов.\n",
    "\n",
    "добавлена таблица с выводом отношений % от цели кредита"
   ]
  },
  {
   "cell_type": "markdown",
   "id": "cf05ed63",
   "metadata": {
    "deletable": false,
    "id": "cf05ed63"
   },
   "source": [
    "**Вывод:** \n",
    "\n",
    "Операции с недвижимостью имеют наименьший вес невозврата кредита в срок. \n",
    "\n",
    "Предположительные причины, которые повлияли на это: более ответственное отношение к кредиту как со стороны банка, так и со стороны заемщика. А значит вероятность получения кредита на эмоциях ниже, так как операции с недвижимостью требуют большего времени и подготовки.\n",
    "\n",
    "На получение образования и операции с автомобилем приходится почти одинаковая доля получения кредита. \n",
    "\n",
    "При этом эти две группы имеют  наибольший удельный вес среди имеющих просрочку по кредиту. Причины просрочек у этих групп могут быть разными. У тех, кто берет кредит на образование риск невозврата вероятно связан с низким доходом или его отсутствием, простоты получения кредита, ввиду несущественной суммы, по сравнению со стоимостью недвижимости.\n",
    "\n",
    "У тех кто берет кредит на автомобиль вероятными причинами могут быть низкий уровень дохода, необходимостью дополнительных затрат на автомобиль, эмоциональная покупка без должной осмотрительности заемщика и оцениванию сил на погашения кредита.\n",
    "\n",
    "Кредит на проведение свадьбы занимает второе место как по цели получения, так и по удельному весу наличия просрочек по кредиту.\n"
   ]
  },
  {
   "cell_type": "markdown",
   "id": "66093403",
   "metadata": {},
   "source": []
  },
  {
   "cell_type": "markdown",
   "id": "24bdf01e",
   "metadata": {},
   "source": []
  },
  {
   "cell_type": "markdown",
   "id": "9f15c34b",
   "metadata": {},
   "source": [
    "<div class=\"alert-success\"> \n",
    "<b>Комментарий ревьюера </b>\n",
    "\n",
    "Здорово, что добавлена визуализация, но:\n",
    "1. Не забывай подписывать графики, это важно (по всем осям)\n",
    "2. Абсолютные значения в данном случае не информативны, не несут особо никакой полезной информации, а они есть у тебя на графике\n",
    "3. За счет того, что ты добавила абсолютные значения, относительные (проценты) толком не различимы. Не разобрать, какая между ними разница, смотря только на график, что плохо\n",
    "        \n",
    "Привожу оптимальный код ниже:"
   ]
  },
  {
   "cell_type": "code",
   "execution_count": 29,
   "id": "c82fea56",
   "metadata": {},
   "outputs": [
    {
     "data": {
      "image/png": "[encoded data removed]",
      "text/plain": [
       "<Figure size 432x288 with 1 Axes>"
      ]
     },
     "metadata": {
      "needs_background": "light"
     },
     "output_type": "display_data"
    }
   ],
   "source": [
    "# Код ревьюера\n",
    "\n",
    "import matplotlib.pyplot as plt\n",
    "\n",
    "# группируем данные по количеству детей ('children'), затем применяем агрегирующие функции к столбцу 'debt'\n",
    "grouped_data = data.groupby('children')['debt'].agg(['count', 'mean', 'sum'])\n",
    "# функция reset_index используется для преобразования индекса в столбец данных\n",
    "grouped_data.reset_index(inplace=True)\n",
    "# используем график к таблице, выбираем интересующие нас столбцы (проценты по одной оси и кол-во детей по другой)\n",
    "plt.bar(grouped_data['children'], grouped_data['mean']*100) # умножаем на 100, чтобы перевести в проценты\n",
    "# подписываем\n",
    "plt.title(\"Влияние количества детей на процент просроченных кредитов\")\n",
    "plt.xlabel(\"Количество детей у клиента\")\n",
    "plt.ylabel(\"Просрочено платежей, %\")\n",
    "plt.xticks(grouped_data['children'])\n",
    "plt.show()"
   ]
  },
  {
   "cell_type": "markdown",
   "id": "46c1f10b",
   "metadata": {
    "deletable": false,
    "editable": false,
    "id": "46c1f10b"
   },
   "source": [
    "#### 3.5 Приведите возможные причины появления пропусков в исходных данных."
   ]
  },
  {
   "cell_type": "markdown",
   "id": "3697d2a9",
   "metadata": {
    "deletable": false,
    "id": "3697d2a9"
   },
   "source": [
    "*Ответ:*\n",
    "\n",
    "Наличие пропусков было обнаружено в столбцах days_employed и total_income. \n",
    "\n",
    "Причины пропусков в данных всегда или технологические, или вызванные человеческим фактором.\n",
    "\n",
    "Возможные технологические причины: сбой при записи, смена формата, ошибки при считывании. Человеческий фактор будет всегда присутствовать там, где значение вводит человек, это например: некорректный ввод данных, сокрытие информации, непонимание как внести информацию (неграмотность), мошенничество(фрод).\n",
    "\n",
    "Стоит обратить внимание на то, что количество пропусков в столбцах одинаковы. Это может быть как совпадением, так и показывать взаимосвязь заполнения одного из столбцов, если данные в другом столбце не проставлены, что косвенно может указывать на технологические причины потери части данных. \n",
    "\n",
    "Если устранить такую технологическую причину, то, предположительно, потеря данных сократится. "
   ]
  },
  {
   "cell_type": "markdown",
   "id": "3137d257",
   "metadata": {
    "deletable": false,
    "editable": false,
    "id": "3137d257"
   },
   "source": [
    "#### 3.6 Объясните, почему заполнить пропуски медианным значением — лучшее решение для количественных переменных."
   ]
  },
  {
   "cell_type": "markdown",
   "id": "cf40012a",
   "metadata": {
    "deletable": false,
    "id": "cf40012a"
   },
   "source": [
    "*Ответ:* Лучшее решение для количественных переменных - заполнить пропуски медианным значением, а не средним арифметическим, так как медиана является более устойчивым показателем к выбросам в данных."
   ]
  },
  {
   "cell_type": "markdown",
   "id": "57bc304e",
   "metadata": {
    "deletable": false,
    "editable": false,
    "id": "57bc304e"
   },
   "source": [
    "### Шаг 4: общий вывод."
   ]
  },
  {
   "cell_type": "code",
   "execution_count": 30,
   "id": "9950df67",
   "metadata": {},
   "outputs": [
    {
     "data": {
      "text/html": [
       "<style  type=\"text/css\" >\n",
       "#T_54d16_row0_col0,#T_54d16_row0_col1,#T_54d16_row0_col3,#T_54d16_row3_col2{\n",
       "            background-color:  lightblue;\n",
       "        }</style><table id=\"T_54d16_\" ><thead>    <tr>        <th class=\"blank level0\" ></th>        <th class=\"col_heading level0 col0\" >total</th>        <th class=\"col_heading level0 col1\" >target</th>        <th class=\"col_heading level0 col2\" >debt_ratio%</th>        <th class=\"col_heading level0 col3\" >children_ratio%</th>    </tr>    <tr>        <th class=\"index_name level0\" >having_children</th>        <th class=\"blank\" ></th>        <th class=\"blank\" ></th>        <th class=\"blank\" ></th>        <th class=\"blank\" ></th>    </tr></thead><tbody>\n",
       "                <tr>\n",
       "                        <th id=\"T_54d16_level0_row0\" class=\"row_heading level0 row0\" >Нет детей</th>\n",
       "                        <td id=\"T_54d16_row0_col0\" class=\"data row0 col0\" >14091</td>\n",
       "                        <td id=\"T_54d16_row0_col1\" class=\"data row0 col1\" >1063</td>\n",
       "                        <td id=\"T_54d16_row0_col2\" class=\"data row0 col2\" >0.075440</td>\n",
       "                        <td id=\"T_54d16_row0_col3\" class=\"data row0 col3\" >0.660590</td>\n",
       "            </tr>\n",
       "            <tr>\n",
       "                        <th id=\"T_54d16_level0_row1\" class=\"row_heading level0 row1\" >Три и более детей</th>\n",
       "                        <td id=\"T_54d16_row1_col0\" class=\"data row1 col0\" >380</td>\n",
       "                        <td id=\"T_54d16_row1_col1\" class=\"data row1 col1\" >31</td>\n",
       "                        <td id=\"T_54d16_row1_col2\" class=\"data row1 col2\" >0.081580</td>\n",
       "                        <td id=\"T_54d16_row1_col3\" class=\"data row1 col3\" >0.017810</td>\n",
       "            </tr>\n",
       "            <tr>\n",
       "                        <th id=\"T_54d16_level0_row2\" class=\"row_heading level0 row2\" >Один ребенок</th>\n",
       "                        <td id=\"T_54d16_row2_col0\" class=\"data row2 col0\" >4808</td>\n",
       "                        <td id=\"T_54d16_row2_col1\" class=\"data row2 col1\" >444</td>\n",
       "                        <td id=\"T_54d16_row2_col2\" class=\"data row2 col2\" >0.092350</td>\n",
       "                        <td id=\"T_54d16_row2_col3\" class=\"data row2 col3\" >0.225400</td>\n",
       "            </tr>\n",
       "            <tr>\n",
       "                        <th id=\"T_54d16_level0_row3\" class=\"row_heading level0 row3\" >Два ребенка</th>\n",
       "                        <td id=\"T_54d16_row3_col0\" class=\"data row3 col0\" >2052</td>\n",
       "                        <td id=\"T_54d16_row3_col1\" class=\"data row3 col1\" >194</td>\n",
       "                        <td id=\"T_54d16_row3_col2\" class=\"data row3 col2\" >0.094540</td>\n",
       "                        <td id=\"T_54d16_row3_col3\" class=\"data row3 col3\" >0.096200</td>\n",
       "            </tr>\n",
       "    </tbody></table>"
      ],
      "text/plain": [
       "<pandas.io.formats.style.Styler at 0x7f4232c7b7c0>"
      ]
     },
     "metadata": {},
     "output_type": "display_data"
    },
    {
     "data": {
      "text/html": [
       "<style  type=\"text/css\" >\n",
       "#T_6d0b5_row2_col0,#T_6d0b5_row2_col1,#T_6d0b5_row2_col3,#T_6d0b5_row4_col2{\n",
       "            background-color:  lightgreen;\n",
       "        }</style><table id=\"T_6d0b5_\" ><thead>    <tr>        <th class=\"blank level0\" ></th>        <th class=\"col_heading level0 col0\" >total</th>        <th class=\"col_heading level0 col1\" >target</th>        <th class=\"col_heading level0 col2\" >debt_ratio%</th>        <th class=\"col_heading level0 col3\" >status_ratio%</th>    </tr>    <tr>        <th class=\"index_name level0\" >family_status</th>        <th class=\"blank\" ></th>        <th class=\"blank\" ></th>        <th class=\"blank\" ></th>        <th class=\"blank\" ></th>    </tr></thead><tbody>\n",
       "                <tr>\n",
       "                        <th id=\"T_6d0b5_level0_row0\" class=\"row_heading level0 row0\" >вдовец / вдова</th>\n",
       "                        <td id=\"T_6d0b5_row0_col0\" class=\"data row0 col0\" >951</td>\n",
       "                        <td id=\"T_6d0b5_row0_col1\" class=\"data row0 col1\" >63</td>\n",
       "                        <td id=\"T_6d0b5_row0_col2\" class=\"data row0 col2\" >0.066250</td>\n",
       "                        <td id=\"T_6d0b5_row0_col3\" class=\"data row0 col3\" >0.044580</td>\n",
       "            </tr>\n",
       "            <tr>\n",
       "                        <th id=\"T_6d0b5_level0_row1\" class=\"row_heading level0 row1\" >в разводе</th>\n",
       "                        <td id=\"T_6d0b5_row1_col0\" class=\"data row1 col0\" >1189</td>\n",
       "                        <td id=\"T_6d0b5_row1_col1\" class=\"data row1 col1\" >84</td>\n",
       "                        <td id=\"T_6d0b5_row1_col2\" class=\"data row1 col2\" >0.070650</td>\n",
       "                        <td id=\"T_6d0b5_row1_col3\" class=\"data row1 col3\" >0.055740</td>\n",
       "            </tr>\n",
       "            <tr>\n",
       "                        <th id=\"T_6d0b5_level0_row2\" class=\"row_heading level0 row2\" >женат / замужем</th>\n",
       "                        <td id=\"T_6d0b5_row2_col0\" class=\"data row2 col0\" >12261</td>\n",
       "                        <td id=\"T_6d0b5_row2_col1\" class=\"data row2 col1\" >927</td>\n",
       "                        <td id=\"T_6d0b5_row2_col2\" class=\"data row2 col2\" >0.075610</td>\n",
       "                        <td id=\"T_6d0b5_row2_col3\" class=\"data row2 col3\" >0.574800</td>\n",
       "            </tr>\n",
       "            <tr>\n",
       "                        <th id=\"T_6d0b5_level0_row3\" class=\"row_heading level0 row3\" >гражданский брак</th>\n",
       "                        <td id=\"T_6d0b5_row3_col0\" class=\"data row3 col0\" >4134</td>\n",
       "                        <td id=\"T_6d0b5_row3_col1\" class=\"data row3 col1\" >385</td>\n",
       "                        <td id=\"T_6d0b5_row3_col2\" class=\"data row3 col2\" >0.093130</td>\n",
       "                        <td id=\"T_6d0b5_row3_col3\" class=\"data row3 col3\" >0.193800</td>\n",
       "            </tr>\n",
       "            <tr>\n",
       "                        <th id=\"T_6d0b5_level0_row4\" class=\"row_heading level0 row4\" >Не женат / не замужем</th>\n",
       "                        <td id=\"T_6d0b5_row4_col0\" class=\"data row4 col0\" >2796</td>\n",
       "                        <td id=\"T_6d0b5_row4_col1\" class=\"data row4 col1\" >273</td>\n",
       "                        <td id=\"T_6d0b5_row4_col2\" class=\"data row4 col2\" >0.097640</td>\n",
       "                        <td id=\"T_6d0b5_row4_col3\" class=\"data row4 col3\" >0.131080</td>\n",
       "            </tr>\n",
       "    </tbody></table>"
      ],
      "text/plain": [
       "<pandas.io.formats.style.Styler at 0x7f4232c7bdf0>"
      ]
     },
     "metadata": {},
     "output_type": "display_data"
    },
    {
     "data": {
      "text/html": [
       "<style  type=\"text/css\" >\n",
       "#T_5651c_row0_col0,#T_5651c_row0_col1,#T_5651c_row0_col3,#T_5651c_row1_col2{\n",
       "            background-color:  yellow;\n",
       "        }</style><table id=\"T_5651c_\" ><thead>    <tr>        <th class=\"blank level0\" ></th>        <th class=\"col_heading level0 col0\" >total</th>        <th class=\"col_heading level0 col1\" >target</th>        <th class=\"col_heading level0 col2\" >debt_ratio%</th>        <th class=\"col_heading level0 col3\" >purpose_ratio%</th>    </tr>    <tr>        <th class=\"index_name level0\" >purpose_category</th>        <th class=\"blank\" ></th>        <th class=\"blank\" ></th>        <th class=\"blank\" ></th>        <th class=\"blank\" ></th>    </tr></thead><tbody>\n",
       "                <tr>\n",
       "                        <th id=\"T_5651c_level0_row0\" class=\"row_heading level0 row0\" >операции с недвижимостью</th>\n",
       "                        <td id=\"T_5651c_row0_col0\" class=\"data row0 col0\" >10751</td>\n",
       "                        <td id=\"T_5651c_row0_col1\" class=\"data row0 col1\" >780</td>\n",
       "                        <td id=\"T_5651c_row0_col2\" class=\"data row0 col2\" >0.072551</td>\n",
       "                        <td id=\"T_5651c_row0_col3\" class=\"data row0 col3\" >0.504008</td>\n",
       "            </tr>\n",
       "            <tr>\n",
       "                        <th id=\"T_5651c_level0_row1\" class=\"row_heading level0 row1\" >операции с автомобилем</th>\n",
       "                        <td id=\"T_5651c_row1_col0\" class=\"data row1 col0\" >4279</td>\n",
       "                        <td id=\"T_5651c_row1_col1\" class=\"data row1 col1\" >400</td>\n",
       "                        <td id=\"T_5651c_row1_col2\" class=\"data row1 col2\" >0.093480</td>\n",
       "                        <td id=\"T_5651c_row1_col3\" class=\"data row1 col3\" >0.200600</td>\n",
       "            </tr>\n",
       "            <tr>\n",
       "                        <th id=\"T_5651c_level0_row2\" class=\"row_heading level0 row2\" >получение образования</th>\n",
       "                        <td id=\"T_5651c_row2_col0\" class=\"data row2 col0\" >3988</td>\n",
       "                        <td id=\"T_5651c_row2_col1\" class=\"data row2 col1\" >369</td>\n",
       "                        <td id=\"T_5651c_row2_col2\" class=\"data row2 col2\" >0.092528</td>\n",
       "                        <td id=\"T_5651c_row2_col3\" class=\"data row2 col3\" >0.186958</td>\n",
       "            </tr>\n",
       "            <tr>\n",
       "                        <th id=\"T_5651c_level0_row3\" class=\"row_heading level0 row3\" >проведение свадьбы</th>\n",
       "                        <td id=\"T_5651c_row3_col0\" class=\"data row3 col0\" >2313</td>\n",
       "                        <td id=\"T_5651c_row3_col1\" class=\"data row3 col1\" >183</td>\n",
       "                        <td id=\"T_5651c_row3_col2\" class=\"data row3 col2\" >0.079118</td>\n",
       "                        <td id=\"T_5651c_row3_col3\" class=\"data row3 col3\" >0.108434</td>\n",
       "            </tr>\n",
       "    </tbody></table>"
      ],
      "text/plain": [
       "<pandas.io.formats.style.Styler at 0x7f4232c37670>"
      ]
     },
     "metadata": {},
     "output_type": "display_data"
    },
    {
     "data": {
      "text/html": [
       "<style  type=\"text/css\" >\n",
       "#T_b9171_row0_col0,#T_b9171_row0_col1,#T_b9171_row0_col3,#T_b9171_row4_col2{\n",
       "            background-color:  lightpink;\n",
       "        }</style><table id=\"T_b9171_\" ><thead>    <tr>        <th class=\"blank level0\" ></th>        <th class=\"col_heading level0 col0\" >total</th>        <th class=\"col_heading level0 col1\" >target</th>        <th class=\"col_heading level0 col2\" >debt_ratio%</th>        <th class=\"col_heading level0 col3\" >income_ratio%</th>    </tr>    <tr>        <th class=\"index_name level0\" >total_income_category</th>        <th class=\"blank\" ></th>        <th class=\"blank\" ></th>        <th class=\"blank\" ></th>        <th class=\"blank\" ></th>    </tr></thead><tbody>\n",
       "                <tr>\n",
       "                        <th id=\"T_b9171_level0_row0\" class=\"row_heading level0 row0\" >C</th>\n",
       "                        <td id=\"T_b9171_row0_col0\" class=\"data row0 col0\" >15921</td>\n",
       "                        <td id=\"T_b9171_row0_col1\" class=\"data row0 col1\" >1353</td>\n",
       "                        <td id=\"T_b9171_row0_col2\" class=\"data row0 col2\" >0.084982</td>\n",
       "                        <td id=\"T_b9171_row0_col3\" class=\"data row0 col3\" >0.746379</td>\n",
       "            </tr>\n",
       "            <tr>\n",
       "                        <th id=\"T_b9171_level0_row1\" class=\"row_heading level0 row1\" >B</th>\n",
       "                        <td id=\"T_b9171_row1_col0\" class=\"data row1 col0\" >5014</td>\n",
       "                        <td id=\"T_b9171_row1_col1\" class=\"data row1 col1\" >354</td>\n",
       "                        <td id=\"T_b9171_row1_col2\" class=\"data row1 col2\" >0.070602</td>\n",
       "                        <td id=\"T_b9171_row1_col3\" class=\"data row1 col3\" >0.235057</td>\n",
       "            </tr>\n",
       "            <tr>\n",
       "                        <th id=\"T_b9171_level0_row2\" class=\"row_heading level0 row2\" >D</th>\n",
       "                        <td id=\"T_b9171_row2_col0\" class=\"data row2 col0\" >349</td>\n",
       "                        <td id=\"T_b9171_row2_col1\" class=\"data row2 col1\" >21</td>\n",
       "                        <td id=\"T_b9171_row2_col2\" class=\"data row2 col2\" >0.060172</td>\n",
       "                        <td id=\"T_b9171_row2_col3\" class=\"data row2 col3\" >0.016361</td>\n",
       "            </tr>\n",
       "            <tr>\n",
       "                        <th id=\"T_b9171_level0_row3\" class=\"row_heading level0 row3\" >A</th>\n",
       "                        <td id=\"T_b9171_row3_col0\" class=\"data row3 col0\" >25</td>\n",
       "                        <td id=\"T_b9171_row3_col1\" class=\"data row3 col1\" >2</td>\n",
       "                        <td id=\"T_b9171_row3_col2\" class=\"data row3 col2\" >0.080000</td>\n",
       "                        <td id=\"T_b9171_row3_col3\" class=\"data row3 col3\" >0.001172</td>\n",
       "            </tr>\n",
       "            <tr>\n",
       "                        <th id=\"T_b9171_level0_row4\" class=\"row_heading level0 row4\" >E</th>\n",
       "                        <td id=\"T_b9171_row4_col0\" class=\"data row4 col0\" >22</td>\n",
       "                        <td id=\"T_b9171_row4_col1\" class=\"data row4 col1\" >2</td>\n",
       "                        <td id=\"T_b9171_row4_col2\" class=\"data row4 col2\" >0.090909</td>\n",
       "                        <td id=\"T_b9171_row4_col3\" class=\"data row4 col3\" >0.001031</td>\n",
       "            </tr>\n",
       "    </tbody></table>"
      ],
      "text/plain": [
       "<pandas.io.formats.style.Styler at 0x7f42a6a703a0>"
      ]
     },
     "execution_count": 30,
     "metadata": {},
     "output_type": "execute_result"
    }
   ],
   "source": [
    "display(children_group_debt.style.highlight_max(color='lightblue'))\n",
    "display(family_status_debt.style.highlight_max(color='lightgreen'))\n",
    "display(purpose_debt.style.highlight_max(color='yellow'))\n",
    "income_debt.style.highlight_max(color='lightpink')"
   ]
  },
  {
   "cell_type": "markdown",
   "id": "1ab75d1c",
   "metadata": {
    "deletable": false,
    "id": "1ab75d1c"
   },
   "source": [
    "**Общий вывод**\n",
    "\n",
    "Исследованы данные от банка: статистика о платежеспособности клиентов. \n",
    "\n",
    "Цель исследования - получить информацию, которая сможет быть учтена при построении модели кредитного скоринга.\n",
    "\n",
    "На стадии  предобработки данных были обнаружены пропущенные значения в столбцах days_employed и total_income.\n",
    "\n",
    "Пропуски в данных вызваны технологическими человеческим факторами.\n",
    "Возможные технологические причины: сбой при записи, смена формата, ошибки при считывании. Человеческий фактор будет всегда присутствовать там, где значение вводит человек, это например: некорректный сбор и/или ввод данных в анкету заемщика со стороны работника банка; сокрытие информации заемщиком, мошенничество (фрод).\n",
    "\n",
    "\n",
    "Стоит обратить внимание на то, что количество пропусков в столбцах одинаково для этих двух показателей: days_employed и total_income.\n",
    "\n",
    "\n",
    "Это может быть как совпадением, так и показывать взаимосвязь между заполнением данных в этих столбцах. Например, отсутствие заполнения одного из столбцов обнуляет заполнение данных в другом столбце, что косвенно может указывать на технологические причины потери части данных.\n",
    "Если устранить такую технологическую причину, то потеря данных сократится.\n",
    "\n",
    "\n",
    "Банком  заемщики были отнесены к категориям по семейному положение и наличию детей и была собрана информация о цели получения кредита, уровне дохода заемщика.\n",
    "\n",
    "\n",
    "В представленных данных встречались  отрицательные значения в количестве дней трудового стажа. \n",
    "В ходе работы была проведена предобработка данных - устранены пропуски, некорректные значения, неявные дубликаты. \n",
    "\n",
    "\n",
    "В дальнейшем при сборе данных, есть смысл на стадии сбора данных унифицировать получаемые значения по цели получения кредита, наладить сбор данных о стаже работы заемщика.\n",
    "\n",
    "\n",
    "В ходе работы, заемщиков разделили на когорты в зависимости от величины дохода:\n",
    "- 0–30000 — 'E';\n",
    "- 30001–50000 — 'D';\n",
    "- 50001–200000 — 'C';\n",
    "- 200001–1000000 — 'B';\n",
    "- 1000001 и выше — 'A'.\n",
    "\n",
    "\n",
    "Была произведена группировка  целей получения кредита  на четыре категории:\n",
    "\n",
    "- `'операции с автомобилем'`,\n",
    "- `'операции с недвижимостью'`,\n",
    "- `'проведение свадьбы'`,\n",
    "- `'получение образования'`.\n",
    "\n",
    "Были проанализированы зависимости между данными о заемщике и возвратом кредита в срок - каждая зависимость была проанализирована отдельно.\n",
    "\n",
    "Явных лидеров среди критериев заемщиков, явно показывающих влияние напрямую на погашение кредита в срок не обнаружено.\n",
    "\n",
    "Чаще всего возвращают в срок кредиты на операции с недвижимостью 7,26% и на проведение свадьбы 7,91%. Операции с недвижимостью являются целью получения кредита в 50,40 % случаев, в то время как на свадьбу привлекают заемные средства в  10,84% случаев.\n",
    "\n",
    "Кредит на автомобиль берут  20,06% заемщиков. Кредит на образование тоже популярен и составляет 18,69%,  при этом больше всего задержек по выплате кредита именно по этим двум категориям целей: на операции с автомобилями 9,34% и на получение образования  9,25%.\n",
    "\n",
    "Заемщики с одним или двумя детьми - чаще всех допускают просрочку по кредиту 9,24% и 9,45%, их общая доля среди всех заемщиков велика 32,16%. Заемщики без детей наоборот -имеют самый низкий процент невозвратов 7,54%, они же составляю 68,06% всех заемщиков.\n",
    "\n",
    "Семейное положение клиентов банка дало небольшую корреляцию по наличию просроченных платежей:\n",
    "- вдовец/вдова и состоящие в разводе имеют самый низкий процент 6,63% и 7,07% соответственно.\n",
    "При этом доля таких заемщиков не очень высока и составляет 4,46% и 5,57% от общего числа заемщиков соответственно.\n",
    "\n",
    "\n",
    "- самыми многочисленными заемщиками являются женатые - 57,48% от общего числа заемщиков. При этом доля невозвратов по такой группе составляет 7,56% - это близко к группе вдовцов и разведенных.\n",
    "- не женатые и состоящие в гражданском браке показывают более высокий уровень просрочек по кредиту - 9,76%  и 9,31%, что сопоставимо друг с другом, при этом  их общая доля в общем числе заемщиков достаточно велика - 32,48% (19,38% гражданский брак и 13,10 % не женатые).\n",
    "\n",
    "Возьмем за основу данные, полученные в ходе проведенного анализа и оставим портрет самого неблагонадежного заемщика с самым высоким процентом невозвратов кредита в срок. \n",
    "\n",
    "Используем значения из таблиц по колонке \"debt_ratio%\", в которой отражен уровень просрочки среди всех заемщиков в процентах. Для некоторых категорий будут взяты два аргумента одного параметра с наибольшими показателями по величине просрочки. Соответственно первый параметр - с наибольшим процентом просроченных обязательств, второй аргумент соответственно второй по величине просрочки. Аналогично составим портрет самого дисциплинированного заемщика. \n",
    "\n",
    "Портрет заемщика с наибольшим риском невозврата:\n",
    "имеет двух детей/ имеет одного ребенка\n",
    "семейный статус \"не женат/не замужем\" / “гражданский брак” ;\n",
    "цель кредита “на операции с автомобилем”/ ”получение образования”;\n",
    "уровень дохода “С” - 50001–200000\n",
    "\n",
    "Портрет заемщика с наименьшим риском невозврата:\n",
    "нет детей;\n",
    "семейный статус “вдовец/вдова” /“в разводе” /\"женат/замужем\"; \n",
    "цель кредита “на операции с недвижимостью”/ ”проведение свадьбы”;\n",
    "уровень дохода “В” - 200001–1000000\n",
    "\n",
    "\n",
    "Вывод исследования:  На факт погашения кредита в срок положительно сказывается отсутствие детей у заемщика и статус семейного положения “вдовец/вдова” /“в разводе” /\"женат/замужем\". При этом самыми многочисленной группой заемщиков  из перечисленных является не имеющая детей и находящаяся в зарегистрированном браке. Это значит, что женатые бездетные пары -являются как самой многочисленной группой заемщиков среди тех, кто возвращает кредиты в срок.\n"
   ]
  },
  {
   "cell_type": "markdown",
   "id": "a9bb31b1",
   "metadata": {},
   "source": [
    "**Комментарий ревьюера**\n",
    "По визуализации могу посоветовать следующие материалы: \n",
    "    \n",
    "    1. https://github.com/esokolov/ml-course-hse/blob/master/2022-fall/seminars/sem02-charts.ipynb \n",
    "    \n",
    "    2. https://github.com/Palladain/Deep_Python/blob/main/Lectures/Lecture_3/Lecture_3_Python.ipynb    \n",
    "\n",
    "    "
   ]
  }
 ],
 "metadata": {
  "ExecuteTimeLog": [
   {
    "duration": 51,
    "start_time": "2024-03-24T19:07:44.774Z"
   },
   {
    "duration": 7,
    "start_time": "2024-03-24T19:08:04.856Z"
   },
   {
    "duration": 8,
    "start_time": "2024-03-24T19:08:12.377Z"
   },
   {
    "duration": 7,
    "start_time": "2024-03-24T19:08:39.745Z"
   },
   {
    "duration": 7,
    "start_time": "2024-03-24T19:09:21.750Z"
   },
   {
    "duration": 6,
    "start_time": "2024-03-24T19:14:57.125Z"
   },
   {
    "duration": 7,
    "start_time": "2024-03-24T19:22:57.114Z"
   },
   {
    "duration": 916,
    "start_time": "2024-03-24T19:23:43.594Z"
   },
   {
    "duration": 1940,
    "start_time": "2024-03-24T19:24:27.803Z"
   },
   {
    "duration": 1915,
    "start_time": "2024-03-24T19:24:50.340Z"
   },
   {
    "duration": 521,
    "start_time": "2024-03-24T19:32:35.371Z"
   },
   {
    "duration": 468,
    "start_time": "2024-03-24T19:44:30.175Z"
   },
   {
    "duration": 20,
    "start_time": "2024-03-24T19:44:30.645Z"
   },
   {
    "duration": 292,
    "start_time": "2024-03-24T19:44:30.666Z"
   },
   {
    "duration": 184,
    "start_time": "2024-03-24T19:44:30.959Z"
   },
   {
    "duration": 314,
    "start_time": "2024-03-24T19:44:31.146Z"
   },
   {
    "duration": 264,
    "start_time": "2024-03-24T19:44:31.461Z"
   },
   {
    "duration": 123,
    "start_time": "2024-03-24T19:44:31.727Z"
   },
   {
    "duration": 72,
    "start_time": "2024-03-24T19:44:31.852Z"
   },
   {
    "duration": 150,
    "start_time": "2024-03-24T19:44:31.926Z"
   },
   {
    "duration": 43,
    "start_time": "2024-03-24T19:44:32.078Z"
   },
   {
    "duration": 63,
    "start_time": "2024-03-24T19:44:32.123Z"
   },
   {
    "duration": 11,
    "start_time": "2024-03-24T19:44:32.189Z"
   },
   {
    "duration": 22,
    "start_time": "2024-03-24T19:44:32.201Z"
   },
   {
    "duration": 109,
    "start_time": "2024-03-24T19:44:32.226Z"
   },
   {
    "duration": 83,
    "start_time": "2024-03-24T19:44:32.337Z"
   },
   {
    "duration": 71,
    "start_time": "2024-03-24T19:44:32.421Z"
   },
   {
    "duration": 38,
    "start_time": "2024-03-24T19:44:32.494Z"
   },
   {
    "duration": 37,
    "start_time": "2024-03-24T19:44:32.534Z"
   },
   {
    "duration": 12,
    "start_time": "2024-03-24T19:44:32.573Z"
   },
   {
    "duration": 15,
    "start_time": "2024-03-24T19:44:32.586Z"
   },
   {
    "duration": 17,
    "start_time": "2024-03-24T19:44:32.602Z"
   },
   {
    "duration": 647,
    "start_time": "2024-03-24T19:44:32.621Z"
   },
   {
    "duration": 2,
    "start_time": "2024-03-24T19:44:33.270Z"
   },
   {
    "duration": 17,
    "start_time": "2024-03-24T19:44:33.274Z"
   },
   {
    "duration": 13,
    "start_time": "2024-03-24T19:44:33.293Z"
   },
   {
    "duration": 29,
    "start_time": "2024-03-24T20:29:18.538Z"
   },
   {
    "duration": 660,
    "start_time": "2024-03-24T20:31:03.377Z"
   },
   {
    "duration": 70,
    "start_time": "2024-03-24T20:31:46.514Z"
   },
   {
    "duration": 92,
    "start_time": "2024-03-24T20:31:56.210Z"
   },
   {
    "duration": 664,
    "start_time": "2024-03-24T20:33:42.683Z"
   },
   {
    "duration": 29,
    "start_time": "2024-03-24T20:34:10.313Z"
   },
   {
    "duration": 21,
    "start_time": "2024-03-24T20:34:46.154Z"
   },
   {
    "duration": 730,
    "start_time": "2024-03-24T20:35:08.436Z"
   },
   {
    "duration": 27,
    "start_time": "2024-03-24T20:35:27.365Z"
   },
   {
    "duration": 21,
    "start_time": "2024-03-24T20:35:54.908Z"
   },
   {
    "duration": 655,
    "start_time": "2024-03-24T20:36:36.527Z"
   },
   {
    "duration": 663,
    "start_time": "2024-03-24T20:37:11.587Z"
   },
   {
    "duration": 65,
    "start_time": "2024-03-24T20:37:32.502Z"
   },
   {
    "duration": 64,
    "start_time": "2024-03-24T20:37:47.591Z"
   },
   {
    "duration": 698,
    "start_time": "2024-03-24T20:42:49.058Z"
   },
   {
    "duration": 665,
    "start_time": "2024-03-24T20:43:53.315Z"
   },
   {
    "duration": 67,
    "start_time": "2024-03-24T20:44:18.619Z"
   },
   {
    "duration": 29,
    "start_time": "2024-03-24T20:44:30.675Z"
   },
   {
    "duration": 31,
    "start_time": "2024-03-24T20:45:08.363Z"
   },
   {
    "duration": 6,
    "start_time": "2024-03-24T20:53:11.360Z"
   },
   {
    "duration": 4,
    "start_time": "2024-03-24T20:54:50.457Z"
   },
   {
    "duration": 142,
    "start_time": "2024-03-24T20:56:13.137Z"
   },
   {
    "duration": 128,
    "start_time": "2024-03-24T20:56:39.744Z"
   },
   {
    "duration": 3,
    "start_time": "2024-03-24T21:02:41.894Z"
   },
   {
    "duration": 60,
    "start_time": "2024-03-25T08:19:21.952Z"
   },
   {
    "duration": 608,
    "start_time": "2024-03-25T08:19:30.841Z"
   },
   {
    "duration": 23,
    "start_time": "2024-03-25T08:19:31.451Z"
   },
   {
    "duration": 103,
    "start_time": "2024-03-25T08:19:31.476Z"
   },
   {
    "duration": 107,
    "start_time": "2024-03-25T08:19:31.582Z"
   },
   {
    "duration": 90,
    "start_time": "2024-03-25T08:19:31.690Z"
   },
   {
    "duration": 4,
    "start_time": "2024-03-25T08:19:31.782Z"
   },
   {
    "duration": 79,
    "start_time": "2024-03-25T08:19:31.787Z"
   },
   {
    "duration": 49,
    "start_time": "2024-03-25T08:19:31.868Z"
   },
   {
    "duration": 32,
    "start_time": "2024-03-25T08:19:31.918Z"
   },
   {
    "duration": 19,
    "start_time": "2024-03-25T08:19:31.954Z"
   },
   {
    "duration": 45,
    "start_time": "2024-03-25T08:19:31.975Z"
   },
   {
    "duration": 12,
    "start_time": "2024-03-25T08:19:32.022Z"
   },
   {
    "duration": 10,
    "start_time": "2024-03-25T08:19:32.036Z"
   },
   {
    "duration": 14,
    "start_time": "2024-03-25T08:19:32.048Z"
   },
   {
    "duration": 32,
    "start_time": "2024-03-25T08:19:32.064Z"
   },
   {
    "duration": 18,
    "start_time": "2024-03-25T08:19:32.098Z"
   },
   {
    "duration": 7,
    "start_time": "2024-03-25T08:19:32.118Z"
   },
   {
    "duration": 23,
    "start_time": "2024-03-25T08:19:32.127Z"
   },
   {
    "duration": 26,
    "start_time": "2024-03-25T08:19:32.153Z"
   },
   {
    "duration": 11,
    "start_time": "2024-03-25T08:19:32.181Z"
   },
   {
    "duration": 36,
    "start_time": "2024-03-25T08:19:32.193Z"
   },
   {
    "duration": 26,
    "start_time": "2024-03-25T08:19:32.231Z"
   },
   {
    "duration": 2,
    "start_time": "2024-03-25T08:19:32.260Z"
   },
   {
    "duration": 7,
    "start_time": "2024-03-25T08:19:32.264Z"
   },
   {
    "duration": 13,
    "start_time": "2024-03-25T08:19:32.273Z"
   },
   {
    "duration": 21,
    "start_time": "2024-03-25T08:20:58.436Z"
   },
   {
    "duration": 2,
    "start_time": "2024-03-25T08:23:15.486Z"
   },
   {
    "duration": 22,
    "start_time": "2024-03-25T08:31:28.493Z"
   },
   {
    "duration": 77,
    "start_time": "2024-03-25T08:49:02.855Z"
   },
   {
    "duration": 59,
    "start_time": "2024-03-25T08:49:16.575Z"
   },
   {
    "duration": 508,
    "start_time": "2024-03-25T08:49:43.580Z"
   },
   {
    "duration": 23,
    "start_time": "2024-03-25T08:49:44.090Z"
   },
   {
    "duration": 18,
    "start_time": "2024-03-25T08:49:44.115Z"
   },
   {
    "duration": 11,
    "start_time": "2024-03-25T08:49:44.135Z"
   },
   {
    "duration": 61,
    "start_time": "2024-03-25T08:49:44.147Z"
   },
   {
    "duration": 3,
    "start_time": "2024-03-25T08:49:44.210Z"
   },
   {
    "duration": 13,
    "start_time": "2024-03-25T08:49:44.215Z"
   },
   {
    "duration": 8,
    "start_time": "2024-03-25T08:49:44.229Z"
   },
   {
    "duration": 12,
    "start_time": "2024-03-25T08:49:44.239Z"
   },
   {
    "duration": 4,
    "start_time": "2024-03-25T08:49:44.254Z"
   },
   {
    "duration": 53,
    "start_time": "2024-03-25T08:49:44.260Z"
   },
   {
    "duration": 10,
    "start_time": "2024-03-25T08:49:44.315Z"
   },
   {
    "duration": 4,
    "start_time": "2024-03-25T08:49:44.327Z"
   },
   {
    "duration": 13,
    "start_time": "2024-03-25T08:49:44.332Z"
   },
   {
    "duration": 40,
    "start_time": "2024-03-25T08:49:44.347Z"
   },
   {
    "duration": 18,
    "start_time": "2024-03-25T08:49:44.389Z"
   },
   {
    "duration": 4,
    "start_time": "2024-03-25T08:49:44.408Z"
   },
   {
    "duration": 19,
    "start_time": "2024-03-25T08:49:44.413Z"
   },
   {
    "duration": 8,
    "start_time": "2024-03-25T08:49:44.435Z"
   },
   {
    "duration": 12,
    "start_time": "2024-03-25T08:49:44.445Z"
   },
   {
    "duration": 31,
    "start_time": "2024-03-25T08:49:44.458Z"
   },
   {
    "duration": 26,
    "start_time": "2024-03-25T08:49:44.490Z"
   },
   {
    "duration": 44,
    "start_time": "2024-03-25T08:49:44.519Z"
   },
   {
    "duration": 0,
    "start_time": "2024-03-25T08:49:44.565Z"
   },
   {
    "duration": 0,
    "start_time": "2024-03-25T08:49:44.567Z"
   },
   {
    "duration": 0,
    "start_time": "2024-03-25T08:49:44.568Z"
   },
   {
    "duration": 0,
    "start_time": "2024-03-25T08:49:44.570Z"
   },
   {
    "duration": 53,
    "start_time": "2024-03-25T08:50:07.375Z"
   },
   {
    "duration": 59,
    "start_time": "2024-03-25T08:50:15.088Z"
   },
   {
    "duration": 5,
    "start_time": "2024-03-25T08:50:32.152Z"
   },
   {
    "duration": 1217,
    "start_time": "2024-03-25T08:50:39.489Z"
   },
   {
    "duration": 154,
    "start_time": "2024-03-25T08:51:50.625Z"
   },
   {
    "duration": 24,
    "start_time": "2024-03-25T08:53:30.871Z"
   },
   {
    "duration": 526,
    "start_time": "2024-03-25T09:12:30.965Z"
   },
   {
    "duration": 24,
    "start_time": "2024-03-25T09:12:31.494Z"
   },
   {
    "duration": 41,
    "start_time": "2024-03-25T09:12:31.519Z"
   },
   {
    "duration": 53,
    "start_time": "2024-03-25T09:12:31.562Z"
   },
   {
    "duration": 56,
    "start_time": "2024-03-25T09:12:31.617Z"
   },
   {
    "duration": 3,
    "start_time": "2024-03-25T09:12:31.675Z"
   },
   {
    "duration": 26,
    "start_time": "2024-03-25T09:12:31.680Z"
   },
   {
    "duration": 27,
    "start_time": "2024-03-25T09:12:31.707Z"
   },
   {
    "duration": 30,
    "start_time": "2024-03-25T09:12:31.735Z"
   },
   {
    "duration": 10,
    "start_time": "2024-03-25T09:12:31.768Z"
   },
   {
    "duration": 79,
    "start_time": "2024-03-25T09:12:31.780Z"
   },
   {
    "duration": 15,
    "start_time": "2024-03-25T09:12:31.861Z"
   },
   {
    "duration": 30,
    "start_time": "2024-03-25T09:12:31.878Z"
   },
   {
    "duration": 41,
    "start_time": "2024-03-25T09:12:31.912Z"
   },
   {
    "duration": 39,
    "start_time": "2024-03-25T09:12:31.955Z"
   },
   {
    "duration": 18,
    "start_time": "2024-03-25T09:12:31.996Z"
   },
   {
    "duration": 8,
    "start_time": "2024-03-25T09:12:32.016Z"
   },
   {
    "duration": 18,
    "start_time": "2024-03-25T09:12:32.026Z"
   },
   {
    "duration": 7,
    "start_time": "2024-03-25T09:12:32.046Z"
   },
   {
    "duration": 14,
    "start_time": "2024-03-25T09:12:32.055Z"
   },
   {
    "duration": 17,
    "start_time": "2024-03-25T09:12:32.071Z"
   },
   {
    "duration": 24,
    "start_time": "2024-03-25T09:12:32.090Z"
   },
   {
    "duration": 3,
    "start_time": "2024-03-25T09:12:32.116Z"
   },
   {
    "duration": 173,
    "start_time": "2024-03-25T09:12:32.121Z"
   },
   {
    "duration": 23,
    "start_time": "2024-03-25T09:12:32.296Z"
   },
   {
    "duration": 27,
    "start_time": "2024-03-25T09:12:32.321Z"
   },
   {
    "duration": 21,
    "start_time": "2024-03-25T09:12:32.350Z"
   },
   {
    "duration": 29,
    "start_time": "2024-03-25T09:12:32.372Z"
   },
   {
    "duration": 23,
    "start_time": "2024-03-25T09:16:26.730Z"
   },
   {
    "duration": 25,
    "start_time": "2024-03-25T10:46:15.225Z"
   },
   {
    "duration": 525,
    "start_time": "2024-03-25T10:46:26.159Z"
   },
   {
    "duration": 24,
    "start_time": "2024-03-25T10:46:26.686Z"
   },
   {
    "duration": 18,
    "start_time": "2024-03-25T10:46:26.711Z"
   },
   {
    "duration": 11,
    "start_time": "2024-03-25T10:46:26.731Z"
   },
   {
    "duration": 71,
    "start_time": "2024-03-25T10:46:26.743Z"
   },
   {
    "duration": 3,
    "start_time": "2024-03-25T10:46:26.815Z"
   },
   {
    "duration": 22,
    "start_time": "2024-03-25T10:46:26.820Z"
   },
   {
    "duration": 16,
    "start_time": "2024-03-25T10:46:26.844Z"
   },
   {
    "duration": 8,
    "start_time": "2024-03-25T10:46:26.862Z"
   },
   {
    "duration": 5,
    "start_time": "2024-03-25T10:46:26.882Z"
   },
   {
    "duration": 52,
    "start_time": "2024-03-25T10:46:26.889Z"
   },
   {
    "duration": 12,
    "start_time": "2024-03-25T10:46:26.943Z"
   },
   {
    "duration": 5,
    "start_time": "2024-03-25T10:46:26.957Z"
   },
   {
    "duration": 30,
    "start_time": "2024-03-25T10:46:26.963Z"
   },
   {
    "duration": 24,
    "start_time": "2024-03-25T10:46:26.995Z"
   },
   {
    "duration": 18,
    "start_time": "2024-03-25T10:46:27.020Z"
   },
   {
    "duration": 4,
    "start_time": "2024-03-25T10:46:27.040Z"
   },
   {
    "duration": 40,
    "start_time": "2024-03-25T10:46:27.045Z"
   },
   {
    "duration": 11,
    "start_time": "2024-03-25T10:46:27.087Z"
   },
   {
    "duration": 4,
    "start_time": "2024-03-25T10:46:27.100Z"
   },
   {
    "duration": 12,
    "start_time": "2024-03-25T10:46:27.105Z"
   },
   {
    "duration": 27,
    "start_time": "2024-03-25T10:46:27.118Z"
   },
   {
    "duration": 3,
    "start_time": "2024-03-25T10:46:27.147Z"
   },
   {
    "duration": 170,
    "start_time": "2024-03-25T10:46:27.182Z"
   },
   {
    "duration": 36,
    "start_time": "2024-03-25T10:46:27.353Z"
   },
   {
    "duration": 2,
    "start_time": "2024-03-25T10:46:27.391Z"
   },
   {
    "duration": 11,
    "start_time": "2024-03-25T10:46:27.395Z"
   },
   {
    "duration": 26,
    "start_time": "2024-03-25T10:49:55.493Z"
   },
   {
    "duration": 21,
    "start_time": "2024-03-25T10:51:21.364Z"
   },
   {
    "duration": 22,
    "start_time": "2024-03-25T11:08:35.043Z"
   },
   {
    "duration": 23,
    "start_time": "2024-03-25T11:21:42.268Z"
   },
   {
    "duration": 21,
    "start_time": "2024-03-25T11:23:30.089Z"
   },
   {
    "duration": 21,
    "start_time": "2024-03-25T11:23:42.264Z"
   },
   {
    "duration": 29,
    "start_time": "2024-03-25T11:23:59.312Z"
   },
   {
    "duration": 21,
    "start_time": "2024-03-25T11:24:22.273Z"
   },
   {
    "duration": 23,
    "start_time": "2024-03-25T11:25:27.786Z"
   },
   {
    "duration": 22,
    "start_time": "2024-03-25T11:26:00.442Z"
   },
   {
    "duration": 14,
    "start_time": "2024-03-25T14:15:13.414Z"
   },
   {
    "duration": 443,
    "start_time": "2024-03-25T14:33:05.938Z"
   },
   {
    "duration": 22,
    "start_time": "2024-03-25T14:33:06.383Z"
   },
   {
    "duration": 15,
    "start_time": "2024-03-25T14:33:06.407Z"
   },
   {
    "duration": 26,
    "start_time": "2024-03-25T14:33:06.424Z"
   },
   {
    "duration": 46,
    "start_time": "2024-03-25T14:33:06.452Z"
   },
   {
    "duration": 11,
    "start_time": "2024-03-25T14:33:06.500Z"
   },
   {
    "duration": 11,
    "start_time": "2024-03-25T14:33:06.513Z"
   },
   {
    "duration": 11,
    "start_time": "2024-03-25T14:33:06.526Z"
   },
   {
    "duration": 12,
    "start_time": "2024-03-25T14:33:06.538Z"
   },
   {
    "duration": 17,
    "start_time": "2024-03-25T14:33:06.553Z"
   },
   {
    "duration": 56,
    "start_time": "2024-03-25T14:33:06.571Z"
   },
   {
    "duration": 10,
    "start_time": "2024-03-25T14:33:06.629Z"
   },
   {
    "duration": 9,
    "start_time": "2024-03-25T14:33:06.641Z"
   },
   {
    "duration": 17,
    "start_time": "2024-03-25T14:33:06.651Z"
   },
   {
    "duration": 27,
    "start_time": "2024-03-25T14:33:06.669Z"
   },
   {
    "duration": 17,
    "start_time": "2024-03-25T14:33:06.698Z"
   },
   {
    "duration": 3,
    "start_time": "2024-03-25T14:33:06.716Z"
   },
   {
    "duration": 38,
    "start_time": "2024-03-25T14:33:06.721Z"
   },
   {
    "duration": 6,
    "start_time": "2024-03-25T14:33:06.761Z"
   },
   {
    "duration": 17,
    "start_time": "2024-03-25T14:33:06.768Z"
   },
   {
    "duration": 18,
    "start_time": "2024-03-25T14:33:06.787Z"
   },
   {
    "duration": 27,
    "start_time": "2024-03-25T14:33:06.807Z"
   },
   {
    "duration": 3,
    "start_time": "2024-03-25T14:33:06.836Z"
   },
   {
    "duration": 155,
    "start_time": "2024-03-25T14:33:06.841Z"
   },
   {
    "duration": 22,
    "start_time": "2024-03-25T14:33:06.998Z"
   },
   {
    "duration": 21,
    "start_time": "2024-03-25T14:33:07.022Z"
   },
   {
    "duration": 49,
    "start_time": "2024-03-25T14:33:07.045Z"
   },
   {
    "duration": 20,
    "start_time": "2024-03-25T14:33:07.097Z"
   },
   {
    "duration": 12,
    "start_time": "2024-03-25T14:33:07.118Z"
   },
   {
    "duration": 991,
    "start_time": "2024-03-25T15:10:36.930Z"
   },
   {
    "duration": 20,
    "start_time": "2024-03-25T15:10:37.923Z"
   },
   {
    "duration": 14,
    "start_time": "2024-03-25T15:10:37.945Z"
   },
   {
    "duration": 10,
    "start_time": "2024-03-25T15:10:37.961Z"
   },
   {
    "duration": 44,
    "start_time": "2024-03-25T15:10:37.972Z"
   },
   {
    "duration": 3,
    "start_time": "2024-03-25T15:10:38.018Z"
   },
   {
    "duration": 16,
    "start_time": "2024-03-25T15:10:38.022Z"
   },
   {
    "duration": 4,
    "start_time": "2024-03-25T15:10:38.039Z"
   },
   {
    "duration": 16,
    "start_time": "2024-03-25T15:10:38.045Z"
   },
   {
    "duration": 4,
    "start_time": "2024-03-25T15:10:38.064Z"
   },
   {
    "duration": 36,
    "start_time": "2024-03-25T15:10:38.069Z"
   },
   {
    "duration": 9,
    "start_time": "2024-03-25T15:10:38.106Z"
   },
   {
    "duration": 5,
    "start_time": "2024-03-25T15:10:38.116Z"
   },
   {
    "duration": 26,
    "start_time": "2024-03-25T15:10:38.122Z"
   },
   {
    "duration": 23,
    "start_time": "2024-03-25T15:10:38.149Z"
   },
   {
    "duration": 15,
    "start_time": "2024-03-25T15:10:38.173Z"
   },
   {
    "duration": 6,
    "start_time": "2024-03-25T15:10:38.189Z"
   },
   {
    "duration": 34,
    "start_time": "2024-03-25T15:10:38.196Z"
   },
   {
    "duration": 22,
    "start_time": "2024-03-25T15:10:38.231Z"
   },
   {
    "duration": 7,
    "start_time": "2024-03-25T15:10:38.254Z"
   },
   {
    "duration": 19,
    "start_time": "2024-03-25T15:10:38.262Z"
   },
   {
    "duration": 23,
    "start_time": "2024-03-25T15:10:38.282Z"
   },
   {
    "duration": 3,
    "start_time": "2024-03-25T15:10:38.307Z"
   },
   {
    "duration": 167,
    "start_time": "2024-03-25T15:10:38.311Z"
   },
   {
    "duration": 21,
    "start_time": "2024-03-25T15:10:38.480Z"
   },
   {
    "duration": 27,
    "start_time": "2024-03-25T15:10:38.503Z"
   },
   {
    "duration": 43,
    "start_time": "2024-03-25T15:10:38.532Z"
   },
   {
    "duration": 26,
    "start_time": "2024-03-25T15:10:38.579Z"
   },
   {
    "duration": 18,
    "start_time": "2024-03-25T15:10:38.606Z"
   },
   {
    "duration": 58,
    "start_time": "2024-03-26T08:06:56.111Z"
   },
   {
    "duration": 7,
    "start_time": "2024-03-26T08:08:02.907Z"
   },
   {
    "duration": 715,
    "start_time": "2024-03-26T08:08:13.855Z"
   },
   {
    "duration": 24,
    "start_time": "2024-03-26T08:08:14.572Z"
   },
   {
    "duration": 17,
    "start_time": "2024-03-26T08:08:14.597Z"
   },
   {
    "duration": 11,
    "start_time": "2024-03-26T08:08:14.616Z"
   },
   {
    "duration": 57,
    "start_time": "2024-03-26T08:08:14.628Z"
   },
   {
    "duration": 3,
    "start_time": "2024-03-26T08:08:14.687Z"
   },
   {
    "duration": 20,
    "start_time": "2024-03-26T08:08:14.692Z"
   },
   {
    "duration": 9,
    "start_time": "2024-03-26T08:08:14.714Z"
   },
   {
    "duration": 15,
    "start_time": "2024-03-26T08:08:14.725Z"
   },
   {
    "duration": 10,
    "start_time": "2024-03-26T08:08:14.742Z"
   },
   {
    "duration": 42,
    "start_time": "2024-03-26T08:08:14.753Z"
   },
   {
    "duration": 12,
    "start_time": "2024-03-26T08:08:14.797Z"
   },
   {
    "duration": 28,
    "start_time": "2024-03-26T08:08:14.811Z"
   },
   {
    "duration": 14,
    "start_time": "2024-03-26T08:08:14.841Z"
   },
   {
    "duration": 24,
    "start_time": "2024-03-26T08:08:14.857Z"
   },
   {
    "duration": 19,
    "start_time": "2024-03-26T08:08:14.882Z"
   },
   {
    "duration": 8,
    "start_time": "2024-03-26T08:08:14.903Z"
   },
   {
    "duration": 13,
    "start_time": "2024-03-26T08:08:14.912Z"
   },
   {
    "duration": 7,
    "start_time": "2024-03-26T08:08:14.927Z"
   },
   {
    "duration": 4,
    "start_time": "2024-03-26T08:08:14.935Z"
   },
   {
    "duration": 11,
    "start_time": "2024-03-26T08:08:14.941Z"
   },
   {
    "duration": 39,
    "start_time": "2024-03-26T08:08:14.953Z"
   },
   {
    "duration": 4,
    "start_time": "2024-03-26T08:08:14.993Z"
   },
   {
    "duration": 237,
    "start_time": "2024-03-26T08:08:14.999Z"
   },
   {
    "duration": 27,
    "start_time": "2024-03-26T08:08:15.237Z"
   },
   {
    "duration": 56,
    "start_time": "2024-03-26T08:08:15.273Z"
   },
   {
    "duration": 54,
    "start_time": "2024-03-26T08:08:15.331Z"
   },
   {
    "duration": 51,
    "start_time": "2024-03-26T08:08:15.388Z"
   },
   {
    "duration": 81,
    "start_time": "2024-03-26T08:08:15.441Z"
   },
   {
    "duration": 22,
    "start_time": "2024-03-26T08:09:40.563Z"
   },
   {
    "duration": 24,
    "start_time": "2024-03-26T08:10:01.497Z"
   },
   {
    "duration": 22,
    "start_time": "2024-03-26T08:10:12.457Z"
   },
   {
    "duration": 22,
    "start_time": "2024-03-26T08:12:18.556Z"
   },
   {
    "duration": 22,
    "start_time": "2024-03-26T08:13:49.664Z"
   },
   {
    "duration": 23,
    "start_time": "2024-03-26T08:14:09.882Z"
   },
   {
    "duration": 22,
    "start_time": "2024-03-26T08:14:21.653Z"
   },
   {
    "duration": 24,
    "start_time": "2024-03-26T08:14:34.893Z"
   },
   {
    "duration": 23,
    "start_time": "2024-03-26T08:14:56.221Z"
   },
   {
    "duration": 20,
    "start_time": "2024-03-26T08:15:27.852Z"
   },
   {
    "duration": 23,
    "start_time": "2024-03-26T08:17:39.304Z"
   },
   {
    "duration": 662,
    "start_time": "2024-03-26T08:39:19.265Z"
   },
   {
    "duration": 219,
    "start_time": "2024-03-26T08:39:52.656Z"
   },
   {
    "duration": 215,
    "start_time": "2024-03-26T08:40:00.249Z"
   },
   {
    "duration": 1576,
    "start_time": "2024-03-26T08:42:26.796Z"
   },
   {
    "duration": 1484,
    "start_time": "2024-03-26T08:42:42.534Z"
   },
   {
    "duration": 316,
    "start_time": "2024-03-26T08:43:39.757Z"
   },
   {
    "duration": 35,
    "start_time": "2024-03-26T08:45:21.306Z"
   },
   {
    "duration": 29,
    "start_time": "2024-03-26T08:45:29.773Z"
   },
   {
    "duration": 30,
    "start_time": "2024-03-26T08:46:21.063Z"
   },
   {
    "duration": 27,
    "start_time": "2024-03-26T08:46:51.480Z"
   },
   {
    "duration": 214,
    "start_time": "2024-03-26T08:46:58.069Z"
   },
   {
    "duration": 23,
    "start_time": "2024-03-26T08:56:44.333Z"
   },
   {
    "duration": 20,
    "start_time": "2024-03-26T09:01:23.064Z"
   },
   {
    "duration": 24,
    "start_time": "2024-03-26T09:04:00.690Z"
   },
   {
    "duration": 23,
    "start_time": "2024-03-26T09:05:21.621Z"
   },
   {
    "duration": 24,
    "start_time": "2024-03-26T09:05:30.719Z"
   },
   {
    "duration": 133,
    "start_time": "2024-03-26T09:31:00.444Z"
   },
   {
    "duration": 135,
    "start_time": "2024-03-26T09:31:17.305Z"
   },
   {
    "duration": 139,
    "start_time": "2024-03-26T09:31:27.535Z"
   },
   {
    "duration": 26,
    "start_time": "2024-03-26T09:33:00.212Z"
   },
   {
    "duration": 151,
    "start_time": "2024-03-26T09:35:27.395Z"
   },
   {
    "duration": 153,
    "start_time": "2024-03-26T09:35:56.122Z"
   },
   {
    "duration": 157,
    "start_time": "2024-03-26T09:36:46.461Z"
   },
   {
    "duration": 80,
    "start_time": "2024-03-26T09:38:41.816Z"
   },
   {
    "duration": 164,
    "start_time": "2024-03-26T09:38:51.969Z"
   },
   {
    "duration": 155,
    "start_time": "2024-03-26T09:39:28.953Z"
   },
   {
    "duration": 152,
    "start_time": "2024-03-26T09:39:59.743Z"
   },
   {
    "duration": 215,
    "start_time": "2024-03-26T09:40:10.244Z"
   },
   {
    "duration": 141,
    "start_time": "2024-03-26T09:41:21.082Z"
   },
   {
    "duration": 136,
    "start_time": "2024-03-26T09:41:29.475Z"
   },
   {
    "duration": 127,
    "start_time": "2024-03-26T09:41:35.604Z"
   },
   {
    "duration": 132,
    "start_time": "2024-03-26T09:42:06.163Z"
   },
   {
    "duration": 148,
    "start_time": "2024-03-26T09:42:24.312Z"
   },
   {
    "duration": 149,
    "start_time": "2024-03-26T09:42:32.566Z"
   },
   {
    "duration": 147,
    "start_time": "2024-03-26T09:43:26.349Z"
   },
   {
    "duration": 154,
    "start_time": "2024-03-26T09:45:05.805Z"
   },
   {
    "duration": 142,
    "start_time": "2024-03-26T09:45:24.465Z"
   },
   {
    "duration": 151,
    "start_time": "2024-03-26T09:45:49.164Z"
   },
   {
    "duration": 211,
    "start_time": "2024-03-26T09:45:56.653Z"
   },
   {
    "duration": 186,
    "start_time": "2024-03-26T09:46:15.439Z"
   },
   {
    "duration": 149,
    "start_time": "2024-03-26T09:46:22.264Z"
   },
   {
    "duration": 138,
    "start_time": "2024-03-26T10:00:44.337Z"
   },
   {
    "duration": 1603,
    "start_time": "2024-03-26T10:03:31.790Z"
   },
   {
    "duration": 1518,
    "start_time": "2024-03-26T10:03:45.021Z"
   },
   {
    "duration": 23,
    "start_time": "2024-03-26T10:05:13.765Z"
   },
   {
    "duration": 25,
    "start_time": "2024-03-26T10:06:05.211Z"
   },
   {
    "duration": 203,
    "start_time": "2024-03-26T10:07:52.592Z"
   },
   {
    "duration": 203,
    "start_time": "2024-03-26T10:08:06.886Z"
   },
   {
    "duration": 184,
    "start_time": "2024-03-26T10:08:25.730Z"
   },
   {
    "duration": 189,
    "start_time": "2024-03-26T10:08:45.960Z"
   },
   {
    "duration": 175,
    "start_time": "2024-03-26T10:09:28.232Z"
   },
   {
    "duration": 185,
    "start_time": "2024-03-26T10:09:50.768Z"
   },
   {
    "duration": 213,
    "start_time": "2024-03-26T10:11:17.233Z"
   },
   {
    "duration": 307,
    "start_time": "2024-03-26T10:11:43.359Z"
   },
   {
    "duration": 227,
    "start_time": "2024-03-26T10:12:26.882Z"
   },
   {
    "duration": 247,
    "start_time": "2024-03-26T10:16:50.142Z"
   },
   {
    "duration": 172,
    "start_time": "2024-03-26T10:21:31.720Z"
   },
   {
    "duration": 26,
    "start_time": "2024-03-26T10:30:47.518Z"
   },
   {
    "duration": 173,
    "start_time": "2024-03-26T10:31:11.997Z"
   },
   {
    "duration": 148,
    "start_time": "2024-03-26T10:31:19.465Z"
   },
   {
    "duration": 208,
    "start_time": "2024-03-26T10:31:41.612Z"
   },
   {
    "duration": 223,
    "start_time": "2024-03-26T10:31:52.275Z"
   },
   {
    "duration": 171,
    "start_time": "2024-03-26T10:32:49.327Z"
   },
   {
    "duration": 184,
    "start_time": "2024-03-26T10:33:49.590Z"
   },
   {
    "duration": 202,
    "start_time": "2024-03-26T10:34:02.705Z"
   },
   {
    "duration": 272,
    "start_time": "2024-03-26T10:34:17.079Z"
   },
   {
    "duration": 179,
    "start_time": "2024-03-26T10:37:03.875Z"
   },
   {
    "duration": 168,
    "start_time": "2024-03-26T10:37:12.201Z"
   },
   {
    "duration": 166,
    "start_time": "2024-03-26T10:39:46.819Z"
   },
   {
    "duration": 175,
    "start_time": "2024-03-26T10:40:18.126Z"
   },
   {
    "duration": 169,
    "start_time": "2024-03-26T10:40:33.102Z"
   },
   {
    "duration": 186,
    "start_time": "2024-03-26T10:41:07.013Z"
   },
   {
    "duration": 168,
    "start_time": "2024-03-26T10:41:50.999Z"
   },
   {
    "duration": 183,
    "start_time": "2024-03-26T10:42:00.485Z"
   },
   {
    "duration": 171,
    "start_time": "2024-03-26T10:42:19.342Z"
   },
   {
    "duration": 174,
    "start_time": "2024-03-26T10:42:27.806Z"
   },
   {
    "duration": 87,
    "start_time": "2024-03-26T10:58:26.183Z"
   },
   {
    "duration": 273,
    "start_time": "2024-03-26T11:18:29.964Z"
   },
   {
    "duration": 220,
    "start_time": "2024-03-26T11:19:13.614Z"
   },
   {
    "duration": 175,
    "start_time": "2024-03-26T11:19:45.434Z"
   },
   {
    "duration": 176,
    "start_time": "2024-03-26T11:20:44.921Z"
   },
   {
    "duration": 172,
    "start_time": "2024-03-26T11:22:16.431Z"
   },
   {
    "duration": 182,
    "start_time": "2024-03-26T11:23:38.533Z"
   },
   {
    "duration": 86,
    "start_time": "2024-03-26T11:24:42.193Z"
   },
   {
    "duration": 181,
    "start_time": "2024-03-26T11:24:51.043Z"
   },
   {
    "duration": 178,
    "start_time": "2024-03-26T11:24:57.914Z"
   },
   {
    "duration": 183,
    "start_time": "2024-03-26T11:25:23.464Z"
   },
   {
    "duration": 184,
    "start_time": "2024-03-26T11:25:38.281Z"
   },
   {
    "duration": 270,
    "start_time": "2024-03-26T11:26:24.874Z"
   },
   {
    "duration": 204,
    "start_time": "2024-03-26T11:26:32.059Z"
   },
   {
    "duration": 27,
    "start_time": "2024-03-26T11:27:09.690Z"
   },
   {
    "duration": 29,
    "start_time": "2024-03-26T11:27:26.828Z"
   },
   {
    "duration": 24,
    "start_time": "2024-03-26T11:27:59.185Z"
   },
   {
    "duration": 25,
    "start_time": "2024-03-26T11:29:12.859Z"
   },
   {
    "duration": 20,
    "start_time": "2024-03-26T11:29:23.681Z"
   },
   {
    "duration": 20,
    "start_time": "2024-03-26T11:29:35.083Z"
   },
   {
    "duration": 172,
    "start_time": "2024-03-26T11:30:57.740Z"
   },
   {
    "duration": 173,
    "start_time": "2024-03-26T11:31:09.364Z"
   },
   {
    "duration": 176,
    "start_time": "2024-03-26T11:31:19.317Z"
   },
   {
    "duration": 172,
    "start_time": "2024-03-26T11:31:29.096Z"
   },
   {
    "duration": 182,
    "start_time": "2024-03-26T11:32:16.788Z"
   },
   {
    "duration": 178,
    "start_time": "2024-03-26T11:32:41.761Z"
   },
   {
    "duration": 12,
    "start_time": "2024-03-26T11:33:23.574Z"
   },
   {
    "duration": 74,
    "start_time": "2024-03-26T11:53:24.814Z"
   },
   {
    "duration": 88,
    "start_time": "2024-03-26T11:53:39.083Z"
   },
   {
    "duration": 93,
    "start_time": "2024-03-26T11:53:51.976Z"
   },
   {
    "duration": 19,
    "start_time": "2024-03-26T11:54:36.514Z"
   },
   {
    "duration": 79,
    "start_time": "2024-03-26T11:56:19.790Z"
   },
   {
    "duration": 38,
    "start_time": "2024-03-26T11:56:35.198Z"
   },
   {
    "duration": 33,
    "start_time": "2024-03-26T11:56:56.691Z"
   },
   {
    "duration": 21,
    "start_time": "2024-03-26T11:57:53.446Z"
   },
   {
    "duration": 15,
    "start_time": "2024-03-26T11:58:21.336Z"
   },
   {
    "duration": 18,
    "start_time": "2024-03-26T12:07:54.271Z"
   },
   {
    "duration": 1454,
    "start_time": "2024-03-26T12:24:18.446Z"
   },
   {
    "duration": 1529,
    "start_time": "2024-03-26T12:25:50.046Z"
   },
   {
    "duration": 1444,
    "start_time": "2024-03-26T12:25:54.504Z"
   },
   {
    "duration": 1449,
    "start_time": "2024-03-26T12:26:19.108Z"
   },
   {
    "duration": 1615,
    "start_time": "2024-03-26T12:26:31.746Z"
   },
   {
    "duration": 1428,
    "start_time": "2024-03-26T12:27:31.999Z"
   },
   {
    "duration": 1446,
    "start_time": "2024-03-26T12:28:03.158Z"
   },
   {
    "duration": 1585,
    "start_time": "2024-03-26T12:28:15.493Z"
   },
   {
    "duration": 15,
    "start_time": "2024-03-26T12:28:42.246Z"
   },
   {
    "duration": 180,
    "start_time": "2024-03-26T12:29:26.797Z"
   },
   {
    "duration": 77,
    "start_time": "2024-03-26T12:36:32.753Z"
   },
   {
    "duration": 476,
    "start_time": "2024-03-26T12:36:55.200Z"
   },
   {
    "duration": 23,
    "start_time": "2024-03-26T12:36:55.678Z"
   },
   {
    "duration": 39,
    "start_time": "2024-03-26T12:36:55.702Z"
   },
   {
    "duration": 19,
    "start_time": "2024-03-26T12:36:55.743Z"
   },
   {
    "duration": 68,
    "start_time": "2024-03-26T12:36:55.764Z"
   },
   {
    "duration": 3,
    "start_time": "2024-03-26T12:36:55.834Z"
   },
   {
    "duration": 12,
    "start_time": "2024-03-26T12:36:55.838Z"
   },
   {
    "duration": 6,
    "start_time": "2024-03-26T12:36:55.851Z"
   },
   {
    "duration": 20,
    "start_time": "2024-03-26T12:36:55.858Z"
   },
   {
    "duration": 15,
    "start_time": "2024-03-26T12:36:55.882Z"
   },
   {
    "duration": 52,
    "start_time": "2024-03-26T12:36:55.898Z"
   },
   {
    "duration": 11,
    "start_time": "2024-03-26T12:36:55.951Z"
   },
   {
    "duration": 8,
    "start_time": "2024-03-26T12:36:55.963Z"
   },
   {
    "duration": 16,
    "start_time": "2024-03-26T12:36:55.972Z"
   },
   {
    "duration": 36,
    "start_time": "2024-03-26T12:36:55.990Z"
   },
   {
    "duration": 17,
    "start_time": "2024-03-26T12:36:56.028Z"
   },
   {
    "duration": 3,
    "start_time": "2024-03-26T12:36:56.047Z"
   },
   {
    "duration": 16,
    "start_time": "2024-03-26T12:36:56.051Z"
   },
   {
    "duration": 6,
    "start_time": "2024-03-26T12:36:56.069Z"
   },
   {
    "duration": 15,
    "start_time": "2024-03-26T12:36:56.076Z"
   },
   {
    "duration": 15,
    "start_time": "2024-03-26T12:36:56.093Z"
   },
   {
    "duration": 28,
    "start_time": "2024-03-26T12:36:56.110Z"
   },
   {
    "duration": 7,
    "start_time": "2024-03-26T12:36:56.141Z"
   },
   {
    "duration": 183,
    "start_time": "2024-03-26T12:36:56.150Z"
   },
   {
    "duration": 324,
    "start_time": "2024-03-26T12:36:56.335Z"
   },
   {
    "duration": 226,
    "start_time": "2024-03-26T12:36:56.661Z"
   },
   {
    "duration": 195,
    "start_time": "2024-03-26T12:36:56.888Z"
   },
   {
    "duration": 80,
    "start_time": "2024-03-26T12:36:57.086Z"
   },
   {
    "duration": 0,
    "start_time": "2024-03-26T12:36:57.167Z"
   },
   {
    "duration": 198,
    "start_time": "2024-03-26T12:37:56.046Z"
   },
   {
    "duration": 28,
    "start_time": "2024-03-26T12:39:50.615Z"
   },
   {
    "duration": 3,
    "start_time": "2024-03-26T12:43:58.571Z"
   },
   {
    "duration": 115,
    "start_time": "2024-03-26T12:44:12.259Z"
   },
   {
    "duration": 175,
    "start_time": "2024-03-26T12:45:14.533Z"
   },
   {
    "duration": 181,
    "start_time": "2024-03-26T12:45:35.616Z"
   },
   {
    "duration": 43,
    "start_time": "2024-03-26T12:45:47.800Z"
   },
   {
    "duration": 31,
    "start_time": "2024-03-26T12:46:06.124Z"
   },
   {
    "duration": 42,
    "start_time": "2024-03-26T12:46:12.411Z"
   },
   {
    "duration": 204,
    "start_time": "2024-03-26T13:03:32.572Z"
   },
   {
    "duration": 189,
    "start_time": "2024-03-26T13:03:38.137Z"
   },
   {
    "duration": 189,
    "start_time": "2024-03-26T13:04:25.512Z"
   },
   {
    "duration": 180,
    "start_time": "2024-03-26T13:04:35.119Z"
   },
   {
    "duration": 510,
    "start_time": "2024-03-26T13:27:37.913Z"
   },
   {
    "duration": 25,
    "start_time": "2024-03-26T13:27:38.425Z"
   },
   {
    "duration": 26,
    "start_time": "2024-03-26T13:27:38.452Z"
   },
   {
    "duration": 13,
    "start_time": "2024-03-26T13:27:38.479Z"
   },
   {
    "duration": 48,
    "start_time": "2024-03-26T13:27:38.494Z"
   },
   {
    "duration": 4,
    "start_time": "2024-03-26T13:27:38.544Z"
   },
   {
    "duration": 28,
    "start_time": "2024-03-26T13:27:38.549Z"
   },
   {
    "duration": 5,
    "start_time": "2024-03-26T13:27:38.578Z"
   },
   {
    "duration": 31,
    "start_time": "2024-03-26T13:27:38.584Z"
   },
   {
    "duration": 13,
    "start_time": "2024-03-26T13:27:38.616Z"
   },
   {
    "duration": 39,
    "start_time": "2024-03-26T13:27:38.630Z"
   },
   {
    "duration": 10,
    "start_time": "2024-03-26T13:27:38.671Z"
   },
   {
    "duration": 22,
    "start_time": "2024-03-26T13:27:38.683Z"
   },
   {
    "duration": 13,
    "start_time": "2024-03-26T13:27:38.708Z"
   },
   {
    "duration": 23,
    "start_time": "2024-03-26T13:27:38.722Z"
   },
   {
    "duration": 17,
    "start_time": "2024-03-26T13:27:38.747Z"
   },
   {
    "duration": 8,
    "start_time": "2024-03-26T13:27:38.766Z"
   },
   {
    "duration": 18,
    "start_time": "2024-03-26T13:27:38.775Z"
   },
   {
    "duration": 18,
    "start_time": "2024-03-26T13:27:38.795Z"
   },
   {
    "duration": 30,
    "start_time": "2024-03-26T13:27:38.815Z"
   },
   {
    "duration": 20,
    "start_time": "2024-03-26T13:27:38.847Z"
   },
   {
    "duration": 49,
    "start_time": "2024-03-26T13:27:38.869Z"
   },
   {
    "duration": 4,
    "start_time": "2024-03-26T13:27:38.919Z"
   },
   {
    "duration": 164,
    "start_time": "2024-03-26T13:27:38.924Z"
   },
   {
    "duration": 332,
    "start_time": "2024-03-26T13:27:39.090Z"
   },
   {
    "duration": 215,
    "start_time": "2024-03-26T13:27:39.424Z"
   },
   {
    "duration": 76,
    "start_time": "2024-03-26T13:27:39.641Z"
   },
   {
    "duration": 0,
    "start_time": "2024-03-26T13:27:39.719Z"
   },
   {
    "duration": 0,
    "start_time": "2024-03-26T13:27:39.720Z"
   },
   {
    "duration": 0,
    "start_time": "2024-03-26T13:27:39.722Z"
   },
   {
    "duration": 0,
    "start_time": "2024-03-26T13:27:39.724Z"
   },
   {
    "duration": 454,
    "start_time": "2024-03-26T13:28:58.328Z"
   },
   {
    "duration": 23,
    "start_time": "2024-03-26T13:28:58.785Z"
   },
   {
    "duration": 27,
    "start_time": "2024-03-26T13:28:58.810Z"
   },
   {
    "duration": 12,
    "start_time": "2024-03-26T13:28:58.839Z"
   },
   {
    "duration": 56,
    "start_time": "2024-03-26T13:28:58.852Z"
   },
   {
    "duration": 4,
    "start_time": "2024-03-26T13:28:58.909Z"
   },
   {
    "duration": 15,
    "start_time": "2024-03-26T13:28:58.915Z"
   },
   {
    "duration": 8,
    "start_time": "2024-03-26T13:28:58.931Z"
   },
   {
    "duration": 17,
    "start_time": "2024-03-26T13:28:58.941Z"
   },
   {
    "duration": 6,
    "start_time": "2024-03-26T13:28:58.961Z"
   },
   {
    "duration": 36,
    "start_time": "2024-03-26T13:28:58.973Z"
   },
   {
    "duration": 10,
    "start_time": "2024-03-26T13:28:59.010Z"
   },
   {
    "duration": 5,
    "start_time": "2024-03-26T13:28:59.021Z"
   },
   {
    "duration": 20,
    "start_time": "2024-03-26T13:28:59.028Z"
   },
   {
    "duration": 34,
    "start_time": "2024-03-26T13:28:59.049Z"
   },
   {
    "duration": 16,
    "start_time": "2024-03-26T13:28:59.085Z"
   },
   {
    "duration": 3,
    "start_time": "2024-03-26T13:28:59.103Z"
   },
   {
    "duration": 24,
    "start_time": "2024-03-26T13:28:59.108Z"
   },
   {
    "duration": 18,
    "start_time": "2024-03-26T13:28:59.134Z"
   },
   {
    "duration": 14,
    "start_time": "2024-03-26T13:28:59.154Z"
   },
   {
    "duration": 24,
    "start_time": "2024-03-26T13:28:59.169Z"
   },
   {
    "duration": 37,
    "start_time": "2024-03-26T13:28:59.194Z"
   },
   {
    "duration": 3,
    "start_time": "2024-03-26T13:28:59.233Z"
   },
   {
    "duration": 161,
    "start_time": "2024-03-26T13:28:59.237Z"
   },
   {
    "duration": 307,
    "start_time": "2024-03-26T13:28:59.400Z"
   },
   {
    "duration": 200,
    "start_time": "2024-03-26T13:28:59.709Z"
   },
   {
    "duration": 186,
    "start_time": "2024-03-26T13:28:59.911Z"
   },
   {
    "duration": 114,
    "start_time": "2024-03-26T13:29:00.101Z"
   },
   {
    "duration": 0,
    "start_time": "2024-03-26T13:29:00.216Z"
   },
   {
    "duration": 0,
    "start_time": "2024-03-26T13:29:00.218Z"
   },
   {
    "duration": 176,
    "start_time": "2024-03-26T13:32:11.508Z"
   },
   {
    "duration": 267,
    "start_time": "2024-03-26T13:49:11.867Z"
   },
   {
    "duration": 475,
    "start_time": "2024-03-26T13:49:48.006Z"
   },
   {
    "duration": 23,
    "start_time": "2024-03-26T13:49:48.483Z"
   },
   {
    "duration": 15,
    "start_time": "2024-03-26T13:49:48.508Z"
   },
   {
    "duration": 10,
    "start_time": "2024-03-26T13:49:48.524Z"
   },
   {
    "duration": 58,
    "start_time": "2024-03-26T13:49:48.536Z"
   },
   {
    "duration": 3,
    "start_time": "2024-03-26T13:49:48.596Z"
   },
   {
    "duration": 26,
    "start_time": "2024-03-26T13:49:48.601Z"
   },
   {
    "duration": 4,
    "start_time": "2024-03-26T13:49:48.628Z"
   },
   {
    "duration": 8,
    "start_time": "2024-03-26T13:49:48.633Z"
   },
   {
    "duration": 4,
    "start_time": "2024-03-26T13:49:48.643Z"
   },
   {
    "duration": 53,
    "start_time": "2024-03-26T13:49:48.649Z"
   },
   {
    "duration": 11,
    "start_time": "2024-03-26T13:49:48.703Z"
   },
   {
    "duration": 5,
    "start_time": "2024-03-26T13:49:48.716Z"
   },
   {
    "duration": 13,
    "start_time": "2024-03-26T13:49:48.723Z"
   },
   {
    "duration": 42,
    "start_time": "2024-03-26T13:49:48.737Z"
   },
   {
    "duration": 18,
    "start_time": "2024-03-26T13:49:48.781Z"
   },
   {
    "duration": 3,
    "start_time": "2024-03-26T13:49:48.801Z"
   },
   {
    "duration": 15,
    "start_time": "2024-03-26T13:49:48.806Z"
   },
   {
    "duration": 23,
    "start_time": "2024-03-26T13:49:48.823Z"
   },
   {
    "duration": 10,
    "start_time": "2024-03-26T13:49:48.847Z"
   },
   {
    "duration": 19,
    "start_time": "2024-03-26T13:49:48.859Z"
   },
   {
    "duration": 30,
    "start_time": "2024-03-26T13:49:48.880Z"
   },
   {
    "duration": 4,
    "start_time": "2024-03-26T13:49:48.911Z"
   },
   {
    "duration": 188,
    "start_time": "2024-03-26T13:49:48.916Z"
   },
   {
    "duration": 509,
    "start_time": "2024-03-26T13:49:49.105Z"
   },
   {
    "duration": 197,
    "start_time": "2024-03-26T13:49:49.615Z"
   },
   {
    "duration": 197,
    "start_time": "2024-03-26T13:49:49.814Z"
   },
   {
    "duration": 209,
    "start_time": "2024-03-26T13:49:50.013Z"
   },
   {
    "duration": 110,
    "start_time": "2024-03-26T13:49:50.224Z"
   },
   {
    "duration": 6,
    "start_time": "2024-03-26T15:39:03.524Z"
   },
   {
    "duration": 177,
    "start_time": "2024-03-26T15:39:28.814Z"
   },
   {
    "duration": 203,
    "start_time": "2024-03-26T15:40:27.974Z"
   },
   {
    "duration": 177,
    "start_time": "2024-03-26T15:40:40.155Z"
   },
   {
    "duration": 176,
    "start_time": "2024-03-26T15:41:14.474Z"
   },
   {
    "duration": 186,
    "start_time": "2024-03-26T15:42:37.010Z"
   },
   {
    "duration": 184,
    "start_time": "2024-03-26T15:43:41.008Z"
   },
   {
    "duration": 165,
    "start_time": "2024-03-26T15:43:58.938Z"
   },
   {
    "duration": 193,
    "start_time": "2024-03-26T15:44:28.081Z"
   },
   {
    "duration": 173,
    "start_time": "2024-03-26T15:45:04.341Z"
   },
   {
    "duration": 181,
    "start_time": "2024-03-26T15:45:42.611Z"
   },
   {
    "duration": 183,
    "start_time": "2024-03-26T15:45:55.942Z"
   },
   {
    "duration": 257,
    "start_time": "2024-03-26T15:46:29.814Z"
   },
   {
    "duration": 182,
    "start_time": "2024-03-26T15:46:56.059Z"
   },
   {
    "duration": 164,
    "start_time": "2024-03-26T15:47:25.261Z"
   },
   {
    "duration": 166,
    "start_time": "2024-03-26T15:47:33.546Z"
   },
   {
    "duration": 169,
    "start_time": "2024-03-26T15:47:41.721Z"
   },
   {
    "duration": 196,
    "start_time": "2024-03-26T15:48:03.911Z"
   },
   {
    "duration": 179,
    "start_time": "2024-03-26T15:48:09.648Z"
   },
   {
    "duration": 177,
    "start_time": "2024-03-26T15:48:48.991Z"
   },
   {
    "duration": 187,
    "start_time": "2024-03-26T15:49:12.460Z"
   },
   {
    "duration": 185,
    "start_time": "2024-03-26T15:49:20.453Z"
   },
   {
    "duration": 189,
    "start_time": "2024-03-26T15:50:17.102Z"
   },
   {
    "duration": 251,
    "start_time": "2024-03-26T15:51:24.626Z"
   },
   {
    "duration": 178,
    "start_time": "2024-03-26T15:51:39.134Z"
   },
   {
    "duration": 176,
    "start_time": "2024-03-26T15:52:00.533Z"
   },
   {
    "duration": 171,
    "start_time": "2024-03-26T15:52:28.955Z"
   },
   {
    "duration": 169,
    "start_time": "2024-03-26T15:53:03.546Z"
   },
   {
    "duration": 521,
    "start_time": "2024-03-26T15:54:30.378Z"
   },
   {
    "duration": 23,
    "start_time": "2024-03-26T15:54:30.900Z"
   },
   {
    "duration": 68,
    "start_time": "2024-03-26T15:54:30.924Z"
   },
   {
    "duration": 41,
    "start_time": "2024-03-26T15:54:30.994Z"
   },
   {
    "duration": 106,
    "start_time": "2024-03-26T15:54:31.037Z"
   },
   {
    "duration": 54,
    "start_time": "2024-03-26T15:54:31.145Z"
   },
   {
    "duration": 55,
    "start_time": "2024-03-26T15:54:31.201Z"
   },
   {
    "duration": 58,
    "start_time": "2024-03-26T15:54:31.258Z"
   },
   {
    "duration": 40,
    "start_time": "2024-03-26T15:54:31.318Z"
   },
   {
    "duration": 57,
    "start_time": "2024-03-26T15:54:31.359Z"
   },
   {
    "duration": 64,
    "start_time": "2024-03-26T15:54:31.418Z"
   },
   {
    "duration": 11,
    "start_time": "2024-03-26T15:54:31.484Z"
   },
   {
    "duration": 32,
    "start_time": "2024-03-26T15:54:31.496Z"
   },
   {
    "duration": 59,
    "start_time": "2024-03-26T15:54:31.531Z"
   },
   {
    "duration": 110,
    "start_time": "2024-03-26T15:54:31.592Z"
   },
   {
    "duration": 82,
    "start_time": "2024-03-26T15:54:31.703Z"
   },
   {
    "duration": 16,
    "start_time": "2024-03-26T15:54:31.787Z"
   },
   {
    "duration": 59,
    "start_time": "2024-03-26T15:54:31.805Z"
   },
   {
    "duration": 45,
    "start_time": "2024-03-26T15:54:31.865Z"
   },
   {
    "duration": 34,
    "start_time": "2024-03-26T15:54:31.911Z"
   },
   {
    "duration": 29,
    "start_time": "2024-03-26T15:54:31.947Z"
   },
   {
    "duration": 98,
    "start_time": "2024-03-26T15:54:31.978Z"
   },
   {
    "duration": 4,
    "start_time": "2024-03-26T15:54:32.078Z"
   },
   {
    "duration": 195,
    "start_time": "2024-03-26T15:54:32.083Z"
   },
   {
    "duration": 679,
    "start_time": "2024-03-26T15:54:32.279Z"
   },
   {
    "duration": 195,
    "start_time": "2024-03-26T15:54:32.960Z"
   },
   {
    "duration": 192,
    "start_time": "2024-03-26T15:54:33.157Z"
   },
   {
    "duration": 225,
    "start_time": "2024-03-26T15:54:33.351Z"
   },
   {
    "duration": 107,
    "start_time": "2024-03-26T15:54:33.578Z"
   },
   {
    "duration": 173,
    "start_time": "2024-03-26T15:55:41.222Z"
   },
   {
    "duration": 251,
    "start_time": "2024-03-26T15:56:33.122Z"
   },
   {
    "duration": 187,
    "start_time": "2024-03-26T15:57:18.328Z"
   },
   {
    "duration": 176,
    "start_time": "2024-03-26T15:57:28.277Z"
   },
   {
    "duration": 45,
    "start_time": "2024-03-26T16:46:02.426Z"
   },
   {
    "duration": 508,
    "start_time": "2024-03-26T17:46:57.339Z"
   },
   {
    "duration": 24,
    "start_time": "2024-03-26T17:46:57.849Z"
   },
   {
    "duration": 36,
    "start_time": "2024-03-26T17:46:57.874Z"
   },
   {
    "duration": 11,
    "start_time": "2024-03-26T17:46:57.911Z"
   },
   {
    "duration": 47,
    "start_time": "2024-03-26T17:46:57.925Z"
   },
   {
    "duration": 4,
    "start_time": "2024-03-26T17:46:57.974Z"
   },
   {
    "duration": 27,
    "start_time": "2024-03-26T17:46:57.979Z"
   },
   {
    "duration": 5,
    "start_time": "2024-03-26T17:46:58.007Z"
   },
   {
    "duration": 10,
    "start_time": "2024-03-26T17:46:58.013Z"
   },
   {
    "duration": 4,
    "start_time": "2024-03-26T17:46:58.025Z"
   },
   {
    "duration": 49,
    "start_time": "2024-03-26T17:46:58.031Z"
   },
   {
    "duration": 12,
    "start_time": "2024-03-26T17:46:58.082Z"
   },
   {
    "duration": 5,
    "start_time": "2024-03-26T17:46:58.096Z"
   },
   {
    "duration": 14,
    "start_time": "2024-03-26T17:46:58.104Z"
   },
   {
    "duration": 20,
    "start_time": "2024-03-26T17:46:58.119Z"
   },
   {
    "duration": 44,
    "start_time": "2024-03-26T17:46:58.141Z"
   },
   {
    "duration": 3,
    "start_time": "2024-03-26T17:46:58.187Z"
   },
   {
    "duration": 34,
    "start_time": "2024-03-26T17:46:58.192Z"
   },
   {
    "duration": 11,
    "start_time": "2024-03-26T17:46:58.227Z"
   },
   {
    "duration": 3,
    "start_time": "2024-03-26T17:46:58.240Z"
   },
   {
    "duration": 23,
    "start_time": "2024-03-26T17:46:58.245Z"
   },
   {
    "duration": 24,
    "start_time": "2024-03-26T17:46:58.270Z"
   },
   {
    "duration": 3,
    "start_time": "2024-03-26T17:46:58.295Z"
   },
   {
    "duration": 161,
    "start_time": "2024-03-26T17:46:58.300Z"
   },
   {
    "duration": 452,
    "start_time": "2024-03-26T17:46:58.462Z"
   },
   {
    "duration": 190,
    "start_time": "2024-03-26T17:46:58.916Z"
   },
   {
    "duration": 181,
    "start_time": "2024-03-26T17:46:59.108Z"
   },
   {
    "duration": 190,
    "start_time": "2024-03-26T17:46:59.290Z"
   },
   {
    "duration": 107,
    "start_time": "2024-03-26T17:46:59.481Z"
   },
   {
    "duration": 658,
    "start_time": "2024-03-27T11:31:48.534Z"
   },
   {
    "duration": 547,
    "start_time": "2024-03-27T11:32:03.587Z"
   },
   {
    "duration": 25,
    "start_time": "2024-03-27T11:32:04.137Z"
   },
   {
    "duration": 17,
    "start_time": "2024-03-27T11:32:04.163Z"
   },
   {
    "duration": 12,
    "start_time": "2024-03-27T11:32:04.191Z"
   },
   {
    "duration": 41,
    "start_time": "2024-03-27T11:32:04.205Z"
   },
   {
    "duration": 4,
    "start_time": "2024-03-27T11:32:04.248Z"
   },
   {
    "duration": 22,
    "start_time": "2024-03-27T11:32:04.254Z"
   },
   {
    "duration": 6,
    "start_time": "2024-03-27T11:32:04.292Z"
   },
   {
    "duration": 11,
    "start_time": "2024-03-27T11:32:04.300Z"
   },
   {
    "duration": 4,
    "start_time": "2024-03-27T11:32:04.315Z"
   },
   {
    "duration": 44,
    "start_time": "2024-03-27T11:32:04.322Z"
   },
   {
    "duration": 34,
    "start_time": "2024-03-27T11:32:04.367Z"
   },
   {
    "duration": 8,
    "start_time": "2024-03-27T11:32:04.403Z"
   },
   {
    "duration": 22,
    "start_time": "2024-03-27T11:32:04.413Z"
   },
   {
    "duration": 26,
    "start_time": "2024-03-27T11:32:04.437Z"
   },
   {
    "duration": 35,
    "start_time": "2024-03-27T11:32:04.464Z"
   },
   {
    "duration": 4,
    "start_time": "2024-03-27T11:32:04.501Z"
   },
   {
    "duration": 14,
    "start_time": "2024-03-27T11:32:04.507Z"
   },
   {
    "duration": 7,
    "start_time": "2024-03-27T11:32:04.523Z"
   },
   {
    "duration": 4,
    "start_time": "2024-03-27T11:32:04.532Z"
   },
   {
    "duration": 13,
    "start_time": "2024-03-27T11:32:04.538Z"
   },
   {
    "duration": 51,
    "start_time": "2024-03-27T11:32:04.553Z"
   },
   {
    "duration": 4,
    "start_time": "2024-03-27T11:32:04.605Z"
   },
   {
    "duration": 187,
    "start_time": "2024-03-27T11:32:04.611Z"
   },
   {
    "duration": 527,
    "start_time": "2024-03-27T11:32:04.799Z"
   },
   {
    "duration": 208,
    "start_time": "2024-03-27T11:32:05.328Z"
   },
   {
    "duration": 196,
    "start_time": "2024-03-27T11:32:05.537Z"
   },
   {
    "duration": 202,
    "start_time": "2024-03-27T11:32:05.736Z"
   },
   {
    "duration": 217,
    "start_time": "2024-03-27T11:32:05.940Z"
   },
   {
    "duration": 59,
    "start_time": "2024-03-27T11:32:06.159Z"
   }
  ],
  "colab": {
   "provenance": []
  },
  "kernelspec": {
   "display_name": "Python 3 (ipykernel)",
   "language": "python",
   "name": "python3"
  },
  "language_info": {
   "codemirror_mode": {
    "name": "ipython",
    "version": 3
   },
   "file_extension": ".py",
   "mimetype": "text/x-python",
   "name": "python",
   "nbconvert_exporter": "python",
   "pygments_lexer": "ipython3",
   "version": "3.9.13"
  },
  "toc": {
   "base_numbering": 1,
   "nav_menu": {},
   "number_sections": true,
   "sideBar": true,
   "skip_h1_title": true,
   "title_cell": "Table of Contents",
   "title_sidebar": "Contents",
   "toc_cell": false,
   "toc_position": {},
   "toc_section_display": true,
   "toc_window_display": false
  }
 },
 "nbformat": 4,
 "nbformat_minor": 5
}
